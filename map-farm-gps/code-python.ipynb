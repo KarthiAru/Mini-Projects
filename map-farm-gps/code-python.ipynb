{
 "cells": [
  {
   "cell_type": "markdown",
   "metadata": {},
   "source": [
    "# Mapping Planter & Harvester GPS coordinates"
   ]
  },
  {
   "cell_type": "markdown",
   "metadata": {},
   "source": [
    "It is commonplace for agricultural data to contain spatial information typically the longitude and latitude at which each data point was collected. However, one of the challenges this introduces is that different datasets often do not contain data that were collected at the same locations. A specific example involves planter and harvester data from precision farming equipment. As a planter moves through a field, it records thousands of measurements of its location along with various data about the planter operation (such as the variety of seed planted, the seeding rate, and the spacing between seeds). Similarly, as a harvester moves through a field, it records thousands of measurements of its location and the crop’s yield at that point. A question of agricultural interest is to estimate the relationship between yield and the variables measured during planter. However, the harvester data points do not necessarily exactly overlap the planter data points, so before any analysis can be conducted to probe these relationships, it’s necessary to determine which planter points are associated with which harvesterpoints.\n",
    "\n",
    "Let's devise an algorithm to efficiently associate the planter data points with the harvester data points for one corn field (from the same year)."
   ]
  },
  {
   "cell_type": "markdown",
   "metadata": {},
   "source": [
    "## Import packages"
   ]
  },
  {
   "cell_type": "code",
   "execution_count": 1,
   "metadata": {
    "collapsed": true
   },
   "outputs": [],
   "source": [
    "import pandas as pd\n",
    "import numpy as np\n",
    "import math\n",
    "from haversine import haversine\n",
    "import matplotlib.pyplot as plt\n",
    "import seaborn as sns\n",
    "sns.set()\n",
    "from tqdm import tqdm\n",
    "pd.set_option('precision', 11)"
   ]
  },
  {
   "cell_type": "markdown",
   "metadata": {},
   "source": [
    "## Import data"
   ]
  },
  {
   "cell_type": "markdown",
   "metadata": {},
   "source": [
    "The files contain a row for each data point collected by the planter and harvester machines. The columns in each file are as follows:\n",
    "\n",
    "**planter_data.csv**\n",
    "1. **long**: longitude where data point was collected.\n",
    "2. **lat**: latitude where data point was collected.\n",
    "3. **variety**: the seed variety planted at that location.\n",
    "4. **seeding_rate**: continuous variable specifying the number of seeds planted per acre (in thousands).\n",
    "5. **seed_spacing**: continuous variable specifying the distance between seeds (inches).\n",
    "\n",
    "**harvester_data.csv**\n",
    "1. **long**: longitude where data point was collected\n",
    "2. **lat**: latitude where data point was collected\n",
    "3. **yield**: continuous variable specifying the yield of the crop (in bushels/acre)."
   ]
  },
  {
   "cell_type": "code",
   "execution_count": 2,
   "metadata": {
    "collapsed": false
   },
   "outputs": [],
   "source": [
    "planter = pd.read_csv('planter_data.csv')\n",
    "harvester = pd.read_csv('harvester_data.csv')\n",
    "planter = planter.sort_values(['long','lat']).reset_index(drop=True)\n",
    "harvester = harvester.sort_values(['long','lat']).reset_index(drop=True)"
   ]
  },
  {
   "cell_type": "code",
   "execution_count": 3,
   "metadata": {
    "collapsed": false
   },
   "outputs": [
    {
     "name": "stdout",
     "output_type": "stream",
     "text": [
      "<class 'pandas.core.frame.DataFrame'>\n",
      "RangeIndex: 6314 entries, 0 to 6313\n",
      "Data columns (total 6 columns):\n",
      "long            6314 non-null float64\n",
      "lat             6314 non-null float64\n",
      "variety         6314 non-null object\n",
      "seeding_rate    6314 non-null float64\n",
      "seed_spacing    6314 non-null float64\n",
      "speed           6314 non-null float64\n",
      "dtypes: float64(5), object(1)\n",
      "memory usage: 296.0+ KB\n"
     ]
    }
   ],
   "source": [
    "planter.info()"
   ]
  },
  {
   "cell_type": "code",
   "execution_count": 4,
   "metadata": {
    "collapsed": false
   },
   "outputs": [
    {
     "name": "stdout",
     "output_type": "stream",
     "text": [
      "<class 'pandas.core.frame.DataFrame'>\n",
      "RangeIndex: 16626 entries, 0 to 16625\n",
      "Data columns (total 3 columns):\n",
      "long     16626 non-null float64\n",
      "lat      16626 non-null float64\n",
      "yield    16626 non-null float64\n",
      "dtypes: float64(3)\n",
      "memory usage: 389.8 KB\n"
     ]
    }
   ],
   "source": [
    "harvester.info()"
   ]
  },
  {
   "cell_type": "code",
   "execution_count": 5,
   "metadata": {
    "collapsed": false
   },
   "outputs": [
    {
     "data": {
      "text/html": [
       "<div>\n",
       "<table border=\"1\" class=\"dataframe\">\n",
       "  <thead>\n",
       "    <tr style=\"text-align: right;\">\n",
       "      <th></th>\n",
       "      <th>long</th>\n",
       "      <th>lat</th>\n",
       "      <th>seeding_rate</th>\n",
       "      <th>seed_spacing</th>\n",
       "      <th>speed</th>\n",
       "    </tr>\n",
       "  </thead>\n",
       "  <tbody>\n",
       "    <tr>\n",
       "      <th>count</th>\n",
       "      <td>6314.00000000000</td>\n",
       "      <td>6314.00000000000</td>\n",
       "      <td>6314.00000000000</td>\n",
       "      <td>6314.00000000000</td>\n",
       "      <td>6314.00000000000</td>\n",
       "    </tr>\n",
       "    <tr>\n",
       "      <th>mean</th>\n",
       "      <td>-91.84829859862</td>\n",
       "      <td>40.37765799823</td>\n",
       "      <td>36.69490574913</td>\n",
       "      <td>5.70821582198</td>\n",
       "      <td>4.57630503643</td>\n",
       "    </tr>\n",
       "    <tr>\n",
       "      <th>std</th>\n",
       "      <td>0.00136728733</td>\n",
       "      <td>0.00104623597</td>\n",
       "      <td>2.52255031654</td>\n",
       "      <td>1.02914093892</td>\n",
       "      <td>0.52876202165</td>\n",
       "    </tr>\n",
       "    <tr>\n",
       "      <th>min</th>\n",
       "      <td>-91.85061399968</td>\n",
       "      <td>40.37588045151</td>\n",
       "      <td>0.00000000000</td>\n",
       "      <td>0.00000000000</td>\n",
       "      <td>0.02000000000</td>\n",
       "    </tr>\n",
       "    <tr>\n",
       "      <th>25%</th>\n",
       "      <td>-91.84944822468</td>\n",
       "      <td>40.37674532651</td>\n",
       "      <td>35.84910000000</td>\n",
       "      <td>5.54350000000</td>\n",
       "      <td>4.50000000000</td>\n",
       "    </tr>\n",
       "    <tr>\n",
       "      <th>50%</th>\n",
       "      <td>-91.84828204968</td>\n",
       "      <td>40.37765820151</td>\n",
       "      <td>37.26410000000</td>\n",
       "      <td>5.61080000000</td>\n",
       "      <td>4.75000000000</td>\n",
       "    </tr>\n",
       "    <tr>\n",
       "      <th>75%</th>\n",
       "      <td>-91.84711422468</td>\n",
       "      <td>40.37857565151</td>\n",
       "      <td>37.70820000000</td>\n",
       "      <td>5.82617500000</td>\n",
       "      <td>4.90000000000</td>\n",
       "    </tr>\n",
       "    <tr>\n",
       "      <th>max</th>\n",
       "      <td>-91.84597999968</td>\n",
       "      <td>40.37939005151</td>\n",
       "      <td>48.81620000000</td>\n",
       "      <td>45.57280000000</td>\n",
       "      <td>5.19000000000</td>\n",
       "    </tr>\n",
       "  </tbody>\n",
       "</table>\n",
       "</div>"
      ],
      "text/plain": [
       "                   long               lat      seeding_rate      seed_spacing  \\\n",
       "count  6314.00000000000  6314.00000000000  6314.00000000000  6314.00000000000   \n",
       "mean    -91.84829859862    40.37765799823    36.69490574913     5.70821582198   \n",
       "std       0.00136728733     0.00104623597     2.52255031654     1.02914093892   \n",
       "min     -91.85061399968    40.37588045151     0.00000000000     0.00000000000   \n",
       "25%     -91.84944822468    40.37674532651    35.84910000000     5.54350000000   \n",
       "50%     -91.84828204968    40.37765820151    37.26410000000     5.61080000000   \n",
       "75%     -91.84711422468    40.37857565151    37.70820000000     5.82617500000   \n",
       "max     -91.84597999968    40.37939005151    48.81620000000    45.57280000000   \n",
       "\n",
       "                  speed  \n",
       "count  6314.00000000000  \n",
       "mean      4.57630503643  \n",
       "std       0.52876202165  \n",
       "min       0.02000000000  \n",
       "25%       4.50000000000  \n",
       "50%       4.75000000000  \n",
       "75%       4.90000000000  \n",
       "max       5.19000000000  "
      ]
     },
     "execution_count": 5,
     "metadata": {},
     "output_type": "execute_result"
    }
   ],
   "source": [
    "planter.describe()"
   ]
  },
  {
   "cell_type": "code",
   "execution_count": 6,
   "metadata": {
    "collapsed": false
   },
   "outputs": [
    {
     "data": {
      "text/html": [
       "<div>\n",
       "<table border=\"1\" class=\"dataframe\">\n",
       "  <thead>\n",
       "    <tr style=\"text-align: right;\">\n",
       "      <th></th>\n",
       "      <th>long</th>\n",
       "      <th>lat</th>\n",
       "      <th>yield</th>\n",
       "    </tr>\n",
       "  </thead>\n",
       "  <tbody>\n",
       "    <tr>\n",
       "      <th>count</th>\n",
       "      <td>16626.00000000000</td>\n",
       "      <td>16626.00000000000</td>\n",
       "      <td>16626.00000000000</td>\n",
       "    </tr>\n",
       "    <tr>\n",
       "      <th>mean</th>\n",
       "      <td>-91.84833560319</td>\n",
       "      <td>40.37767474760</td>\n",
       "      <td>231.15184726913</td>\n",
       "    </tr>\n",
       "    <tr>\n",
       "      <th>std</th>\n",
       "      <td>0.00134872697</td>\n",
       "      <td>0.00101866436</td>\n",
       "      <td>26.59249177464</td>\n",
       "    </tr>\n",
       "    <tr>\n",
       "      <th>min</th>\n",
       "      <td>-91.85065794214</td>\n",
       "      <td>40.37588862999</td>\n",
       "      <td>42.42315244164</td>\n",
       "    </tr>\n",
       "    <tr>\n",
       "      <th>25%</th>\n",
       "      <td>-91.84948667615</td>\n",
       "      <td>40.37680786733</td>\n",
       "      <td>219.77168948374</td>\n",
       "    </tr>\n",
       "    <tr>\n",
       "      <th>50%</th>\n",
       "      <td>-91.84834097814</td>\n",
       "      <td>40.37767991793</td>\n",
       "      <td>231.87076628901</td>\n",
       "    </tr>\n",
       "    <tr>\n",
       "      <th>75%</th>\n",
       "      <td>-91.84717053079</td>\n",
       "      <td>40.37855887688</td>\n",
       "      <td>244.17457385903</td>\n",
       "    </tr>\n",
       "    <tr>\n",
       "      <th>max</th>\n",
       "      <td>-91.84594757114</td>\n",
       "      <td>40.37942139599</td>\n",
       "      <td>365.70835825733</td>\n",
       "    </tr>\n",
       "  </tbody>\n",
       "</table>\n",
       "</div>"
      ],
      "text/plain": [
       "                    long                lat              yield\n",
       "count  16626.00000000000  16626.00000000000  16626.00000000000\n",
       "mean     -91.84833560319     40.37767474760    231.15184726913\n",
       "std        0.00134872697      0.00101866436     26.59249177464\n",
       "min      -91.85065794214     40.37588862999     42.42315244164\n",
       "25%      -91.84948667615     40.37680786733    219.77168948374\n",
       "50%      -91.84834097814     40.37767991793    231.87076628901\n",
       "75%      -91.84717053079     40.37855887688    244.17457385903\n",
       "max      -91.84594757114     40.37942139599    365.70835825733"
      ]
     },
     "execution_count": 6,
     "metadata": {},
     "output_type": "execute_result"
    }
   ],
   "source": [
    "harvester.describe()"
   ]
  },
  {
   "cell_type": "code",
   "execution_count": 7,
   "metadata": {
    "collapsed": false
   },
   "outputs": [
    {
     "data": {
      "text/html": [
       "<div>\n",
       "<table border=\"1\" class=\"dataframe\">\n",
       "  <thead>\n",
       "    <tr style=\"text-align: right;\">\n",
       "      <th></th>\n",
       "      <th>long</th>\n",
       "      <th>lat</th>\n",
       "      <th>variety</th>\n",
       "      <th>seeding_rate</th>\n",
       "      <th>seed_spacing</th>\n",
       "      <th>speed</th>\n",
       "    </tr>\n",
       "  </thead>\n",
       "  <tbody>\n",
       "    <tr>\n",
       "      <th>0</th>\n",
       "      <td>-91.85061399968</td>\n",
       "      <td>40.37588045151</td>\n",
       "      <td>DKC63-33RIB</td>\n",
       "      <td>0.0000</td>\n",
       "      <td>0.0000</td>\n",
       "      <td>0.02</td>\n",
       "    </tr>\n",
       "    <tr>\n",
       "      <th>1</th>\n",
       "      <td>-91.85061239968</td>\n",
       "      <td>40.37596835151</td>\n",
       "      <td>DKC63-33RIB</td>\n",
       "      <td>0.0000</td>\n",
       "      <td>0.0000</td>\n",
       "      <td>3.75</td>\n",
       "    </tr>\n",
       "    <tr>\n",
       "      <th>2</th>\n",
       "      <td>-91.85061169968</td>\n",
       "      <td>40.37600165151</td>\n",
       "      <td>DKC63-33RIB</td>\n",
       "      <td>0.0000</td>\n",
       "      <td>0.0000</td>\n",
       "      <td>3.76</td>\n",
       "    </tr>\n",
       "    <tr>\n",
       "      <th>3</th>\n",
       "      <td>-91.85061139968</td>\n",
       "      <td>40.37602595151</td>\n",
       "      <td>DKC63-33RIB</td>\n",
       "      <td>31.7371</td>\n",
       "      <td>6.5881</td>\n",
       "      <td>3.77</td>\n",
       "    </tr>\n",
       "    <tr>\n",
       "      <th>4</th>\n",
       "      <td>-91.85061069968</td>\n",
       "      <td>40.37605615151</td>\n",
       "      <td>DKC63-33RIB</td>\n",
       "      <td>32.8151</td>\n",
       "      <td>6.3717</td>\n",
       "      <td>3.76</td>\n",
       "    </tr>\n",
       "  </tbody>\n",
       "</table>\n",
       "</div>"
      ],
      "text/plain": [
       "             long             lat      variety  seeding_rate  seed_spacing  \\\n",
       "0 -91.85061399968  40.37588045151  DKC63-33RIB        0.0000        0.0000   \n",
       "1 -91.85061239968  40.37596835151  DKC63-33RIB        0.0000        0.0000   \n",
       "2 -91.85061169968  40.37600165151  DKC63-33RIB        0.0000        0.0000   \n",
       "3 -91.85061139968  40.37602595151  DKC63-33RIB       31.7371        6.5881   \n",
       "4 -91.85061069968  40.37605615151  DKC63-33RIB       32.8151        6.3717   \n",
       "\n",
       "   speed  \n",
       "0   0.02  \n",
       "1   3.75  \n",
       "2   3.76  \n",
       "3   3.77  \n",
       "4   3.76  "
      ]
     },
     "execution_count": 7,
     "metadata": {},
     "output_type": "execute_result"
    }
   ],
   "source": [
    "planter.head()"
   ]
  },
  {
   "cell_type": "code",
   "execution_count": 8,
   "metadata": {
    "collapsed": false
   },
   "outputs": [
    {
     "data": {
      "text/html": [
       "<div>\n",
       "<table border=\"1\" class=\"dataframe\">\n",
       "  <thead>\n",
       "    <tr style=\"text-align: right;\">\n",
       "      <th></th>\n",
       "      <th>long</th>\n",
       "      <th>lat</th>\n",
       "      <th>yield</th>\n",
       "    </tr>\n",
       "  </thead>\n",
       "  <tbody>\n",
       "    <tr>\n",
       "      <th>0</th>\n",
       "      <td>-91.85065794214</td>\n",
       "      <td>40.37589336599</td>\n",
       "      <td>216.92110846492</td>\n",
       "    </tr>\n",
       "    <tr>\n",
       "      <th>1</th>\n",
       "      <td>-91.85065682914</td>\n",
       "      <td>40.37590353899</td>\n",
       "      <td>218.21178574100</td>\n",
       "    </tr>\n",
       "    <tr>\n",
       "      <th>2</th>\n",
       "      <td>-91.85065636914</td>\n",
       "      <td>40.37591472799</td>\n",
       "      <td>241.78874779943</td>\n",
       "    </tr>\n",
       "    <tr>\n",
       "      <th>3</th>\n",
       "      <td>-91.85065582614</td>\n",
       "      <td>40.37592657599</td>\n",
       "      <td>227.94857084442</td>\n",
       "    </tr>\n",
       "    <tr>\n",
       "      <th>4</th>\n",
       "      <td>-91.85065529614</td>\n",
       "      <td>40.37593849799</td>\n",
       "      <td>226.69384423697</td>\n",
       "    </tr>\n",
       "  </tbody>\n",
       "</table>\n",
       "</div>"
      ],
      "text/plain": [
       "             long             lat            yield\n",
       "0 -91.85065794214  40.37589336599  216.92110846492\n",
       "1 -91.85065682914  40.37590353899  218.21178574100\n",
       "2 -91.85065636914  40.37591472799  241.78874779943\n",
       "3 -91.85065582614  40.37592657599  227.94857084442\n",
       "4 -91.85065529614  40.37593849799  226.69384423697"
      ]
     },
     "execution_count": 8,
     "metadata": {},
     "output_type": "execute_result"
    }
   ],
   "source": [
    "harvester.head()"
   ]
  },
  {
   "cell_type": "markdown",
   "metadata": {},
   "source": [
    "### Bounding box & field dimensions"
   ]
  },
  {
   "cell_type": "code",
   "execution_count": 9,
   "metadata": {
    "collapsed": false
   },
   "outputs": [
    {
     "name": "stdout",
     "output_type": "stream",
     "text": [
      "(-91.850657942140501, -91.8459475711404)\n",
      "(40.375880451506298, 40.379421395990498)\n"
     ]
    }
   ],
   "source": [
    "b_long = min(planter['long'].min(),harvester['long'].min()),max(planter['long'].max(),harvester['long'].max())\n",
    "print (b_long)\n",
    "b_lat = min(planter['lat'].min(),harvester['lat'].min()),max(planter['lat'].max(),harvester['lat'].max())\n",
    "print (b_lat)"
   ]
  },
  {
   "cell_type": "code",
   "execution_count": 10,
   "metadata": {
    "collapsed": false
   },
   "outputs": [
    {
     "name": "stdout",
     "output_type": "stream",
     "text": [
      "393.7  m\n",
      "399.0  m\n"
     ]
    }
   ],
   "source": [
    "length = round(haversine((b_lat[0], b_long[0]),(b_lat[1], b_long[0]))*1000,1)\n",
    "print (length, ' m')\n",
    "breadth = round(haversine((b_lat[0], b_long[0]),(b_lat[0], b_long[1]))*1000,1)\n",
    "print (breadth, ' m')"
   ]
  },
  {
   "cell_type": "code",
   "execution_count": 11,
   "metadata": {
    "collapsed": false
   },
   "outputs": [
    {
     "name": "stdout",
     "output_type": "stream",
     "text": [
      "8.9940169779e-06\n",
      "1.1805441103e-05\n"
     ]
    }
   ],
   "source": [
    "lat_pm = (b_lat[1]-b_lat[0])/length\n",
    "print (lat_pm)\n",
    "long_pm = (b_long[1]-b_long[0])/breadth\n",
    "print (long_pm)"
   ]
  },
  {
   "cell_type": "markdown",
   "metadata": {},
   "source": [
    "### Plot"
   ]
  },
  {
   "cell_type": "code",
   "execution_count": 12,
   "metadata": {
    "collapsed": false
   },
   "outputs": [],
   "source": [
    "plt.rcParams['figure.figsize'] = (32.0, 32.0)\n",
    "_= plt.scatter(planter['long'], planter['lat'], alpha=0.5)\n",
    "_= plt.scatter(harvester['long'], harvester['lat'], alpha=0.5, c='r')\n",
    "plt.savefig('images/planter-harvester-py.png')"
   ]
  },
  {
   "cell_type": "markdown",
   "metadata": {},
   "source": [
    "![Planter-Harvester](images/planter-harvester-py.png)"
   ]
  },
  {
   "cell_type": "markdown",
   "metadata": {},
   "source": [
    "### Create Gridlines"
   ]
  },
  {
   "cell_type": "code",
   "execution_count": 13,
   "metadata": {
    "collapsed": true
   },
   "outputs": [],
   "source": [
    "def myrange(start, step, count):\n",
    "    return [start+i*step for i in range(count)]"
   ]
  },
  {
   "cell_type": "code",
   "execution_count": 14,
   "metadata": {
    "collapsed": false
   },
   "outputs": [
    {
     "name": "stdout",
     "output_type": "stream",
     "text": [
      "Vertical Gridlines:  42\n",
      "Horizontal Gridlines:  42\n"
     ]
    }
   ],
   "source": [
    "# vertical gridlines\n",
    "nx = math.ceil((breadth+(long_pm * 5))/10)\n",
    "x = myrange(b_long[0]-(long_pm * 5), (long_pm * 10), count = nx+2)\n",
    "print (\"Vertical Gridlines: \", len(x))\n",
    "# horizontal gridlines \n",
    "ny = math.ceil((breadth+(lat_pm * 5))/10)\n",
    "y = myrange(b_lat[0]-(lat_pm * 5), (lat_pm * 10), count = ny+2)\n",
    "print (\"Horizontal Gridlines: \", len(y))"
   ]
  },
  {
   "cell_type": "markdown",
   "metadata": {},
   "source": [
    "### Create boundaries for Grids"
   ]
  },
  {
   "cell_type": "code",
   "execution_count": 15,
   "metadata": {
    "collapsed": false
   },
   "outputs": [
    {
     "name": "stdout",
     "output_type": "stream",
     "text": [
      "<class 'pandas.core.frame.DataFrame'>\n",
      "Int64Index: 41 entries, 0 to 40\n",
      "Data columns (total 3 columns):\n",
      "value     41 non-null float64\n",
      "value1    41 non-null float64\n",
      "groupX    41 non-null int64\n",
      "dtypes: float64(2), int64(1)\n",
      "memory usage: 1.3 KB\n",
      "<class 'pandas.core.frame.DataFrame'>\n",
      "Int64Index: 41 entries, 0 to 40\n",
      "Data columns (total 3 columns):\n",
      "value     41 non-null float64\n",
      "value1    41 non-null float64\n",
      "groupY    41 non-null int64\n",
      "dtypes: float64(2), int64(1)\n",
      "memory usage: 1.3 KB\n"
     ]
    }
   ],
   "source": [
    "# longitude range\n",
    "dfx = pd.DataFrame(x)\n",
    "dfx.columns = ['value']\n",
    "dfx['value1'] = dfx.shift(-1)-1e-10\n",
    "dfx['groupX'] = range(0,len(dfx['value']),1)\n",
    "dfx = dfx.dropna()\n",
    "dfx.info()\n",
    "\n",
    "# latitude range\n",
    "dfy = pd.DataFrame(y)\n",
    "dfy.columns = ['value']\n",
    "dfy['value1'] = dfy.shift(-1)-1e-10\n",
    "dfy['groupY'] = range(0,len(dfy['value']),1)\n",
    "dfy = dfy.dropna()\n",
    "dfy.info()"
   ]
  },
  {
   "cell_type": "code",
   "execution_count": 16,
   "metadata": {
    "collapsed": false
   },
   "outputs": [
    {
     "name": "stdout",
     "output_type": "stream",
     "text": [
      "41\n",
      "41\n"
     ]
    }
   ],
   "source": [
    "# Check lower boundary < upper boundary\n",
    "print (sum(dfx['value']< dfx['value1']))\n",
    "print (sum(dfy['value']< dfy['value1']))"
   ]
  },
  {
   "cell_type": "markdown",
   "metadata": {},
   "source": [
    "### Assign Grid Membership"
   ]
  },
  {
   "cell_type": "code",
   "execution_count": 17,
   "metadata": {
    "collapsed": false
   },
   "outputs": [
    {
     "data": {
      "text/html": [
       "<div>\n",
       "<table border=\"1\" class=\"dataframe\">\n",
       "  <thead>\n",
       "    <tr style=\"text-align: right;\">\n",
       "      <th></th>\n",
       "      <th>value</th>\n",
       "      <th>group</th>\n",
       "    </tr>\n",
       "  </thead>\n",
       "  <tbody>\n",
       "    <tr>\n",
       "      <th>0</th>\n",
       "      <td>0-0</td>\n",
       "      <td>0</td>\n",
       "    </tr>\n",
       "    <tr>\n",
       "      <th>1</th>\n",
       "      <td>0-1</td>\n",
       "      <td>1</td>\n",
       "    </tr>\n",
       "    <tr>\n",
       "      <th>2</th>\n",
       "      <td>0-2</td>\n",
       "      <td>2</td>\n",
       "    </tr>\n",
       "    <tr>\n",
       "      <th>3</th>\n",
       "      <td>0-3</td>\n",
       "      <td>3</td>\n",
       "    </tr>\n",
       "    <tr>\n",
       "      <th>4</th>\n",
       "      <td>0-4</td>\n",
       "      <td>4</td>\n",
       "    </tr>\n",
       "  </tbody>\n",
       "</table>\n",
       "</div>"
      ],
      "text/plain": [
       "  value  group\n",
       "0   0-0      0\n",
       "1   0-1      1\n",
       "2   0-2      2\n",
       "3   0-3      3\n",
       "4   0-4      4"
      ]
     },
     "execution_count": 17,
     "metadata": {},
     "output_type": "execute_result"
    }
   ],
   "source": [
    "import itertools\n",
    "\n",
    "def expand_grid(data_dict):\n",
    "    rows = itertools.product(*data_dict.values())\n",
    "    return pd.DataFrame.from_records(rows, columns=data_dict.keys())\n",
    "\n",
    "group = expand_grid({'groupX': range(0, dfx.count()[0], 1),\n",
    "        'groupY': range(0, dfy.count()[0], 1)})\n",
    "\n",
    "group['value'] = group['groupY'].map(str) + \"-\" + group['groupX'].map(str)\n",
    "group['group'] = range(0, group.count()[0], 1)\n",
    "group.drop(['groupX','groupY'],axis=1, inplace=True)\n",
    "group.head()"
   ]
  },
  {
   "cell_type": "markdown",
   "metadata": {},
   "source": [
    "### Map planter data to grids"
   ]
  },
  {
   "cell_type": "code",
   "execution_count": 18,
   "metadata": {
    "collapsed": false
   },
   "outputs": [
    {
     "data": {
      "text/html": [
       "<div>\n",
       "<table border=\"1\" class=\"dataframe\">\n",
       "  <thead>\n",
       "    <tr style=\"text-align: right;\">\n",
       "      <th></th>\n",
       "      <th>long</th>\n",
       "      <th>lat</th>\n",
       "      <th>variety</th>\n",
       "      <th>seeding_rate</th>\n",
       "      <th>seed_spacing</th>\n",
       "      <th>speed</th>\n",
       "      <th>value</th>\n",
       "      <th>group</th>\n",
       "    </tr>\n",
       "  </thead>\n",
       "  <tbody>\n",
       "    <tr>\n",
       "      <th>0</th>\n",
       "      <td>-91.85061399968</td>\n",
       "      <td>40.37588045151</td>\n",
       "      <td>DKC63-33RIB</td>\n",
       "      <td>0.0000</td>\n",
       "      <td>0.0000</td>\n",
       "      <td>0.02</td>\n",
       "      <td>0-0</td>\n",
       "      <td>0</td>\n",
       "    </tr>\n",
       "    <tr>\n",
       "      <th>1</th>\n",
       "      <td>-91.85061239968</td>\n",
       "      <td>40.37596835151</td>\n",
       "      <td>DKC63-33RIB</td>\n",
       "      <td>0.0000</td>\n",
       "      <td>0.0000</td>\n",
       "      <td>3.75</td>\n",
       "      <td>1-0</td>\n",
       "      <td>41</td>\n",
       "    </tr>\n",
       "    <tr>\n",
       "      <th>2</th>\n",
       "      <td>-91.85061169968</td>\n",
       "      <td>40.37600165151</td>\n",
       "      <td>DKC63-33RIB</td>\n",
       "      <td>0.0000</td>\n",
       "      <td>0.0000</td>\n",
       "      <td>3.76</td>\n",
       "      <td>1-0</td>\n",
       "      <td>41</td>\n",
       "    </tr>\n",
       "    <tr>\n",
       "      <th>3</th>\n",
       "      <td>-91.85061139968</td>\n",
       "      <td>40.37602595151</td>\n",
       "      <td>DKC63-33RIB</td>\n",
       "      <td>31.7371</td>\n",
       "      <td>6.5881</td>\n",
       "      <td>3.77</td>\n",
       "      <td>2-0</td>\n",
       "      <td>82</td>\n",
       "    </tr>\n",
       "    <tr>\n",
       "      <th>4</th>\n",
       "      <td>-91.85061069968</td>\n",
       "      <td>40.37605615151</td>\n",
       "      <td>DKC63-33RIB</td>\n",
       "      <td>32.8151</td>\n",
       "      <td>6.3717</td>\n",
       "      <td>3.76</td>\n",
       "      <td>2-0</td>\n",
       "      <td>82</td>\n",
       "    </tr>\n",
       "  </tbody>\n",
       "</table>\n",
       "</div>"
      ],
      "text/plain": [
       "             long             lat      variety  seeding_rate  seed_spacing  \\\n",
       "0 -91.85061399968  40.37588045151  DKC63-33RIB        0.0000        0.0000   \n",
       "1 -91.85061239968  40.37596835151  DKC63-33RIB        0.0000        0.0000   \n",
       "2 -91.85061169968  40.37600165151  DKC63-33RIB        0.0000        0.0000   \n",
       "3 -91.85061139968  40.37602595151  DKC63-33RIB       31.7371        6.5881   \n",
       "4 -91.85061069968  40.37605615151  DKC63-33RIB       32.8151        6.3717   \n",
       "\n",
       "   speed value  group  \n",
       "0   0.02   0-0      0  \n",
       "1   3.75   1-0     41  \n",
       "2   3.76   1-0     41  \n",
       "3   3.77   2-0     82  \n",
       "4   3.76   2-0     82  "
      ]
     },
     "execution_count": 18,
     "metadata": {},
     "output_type": "execute_result"
    }
   ],
   "source": [
    "# vertical grids\n",
    "planter_grid = planter.copy()\n",
    "planter_grid['groupX'] = np.piecewise(np.zeros(planter_grid.count()[0]),\n",
    "                                 [(planter_grid['long'].values >= start) & (planter_grid['long'].values <= end) for start, end in zip(dfx['value'].values, dfx['value1'].values)], dfx['groupX'].values).astype(int) \n",
    "# horizontal grids\n",
    "planter_grid['groupY'] = np.piecewise(np.zeros(planter.count()[0]),\n",
    "                                 [(planter_grid['lat'].values >= start) & (planter_grid['lat'].values <= end) for start, end in zip(dfy['value'].values, dfy['value1'].values)], dfy['groupY'].values).astype(int)\n",
    "\n",
    "# grid membership\n",
    "planter_grid['value'] = planter_grid['groupY'].map(str) + \"-\" + planter_grid['groupX'].map(str)\n",
    "planter_grid.drop(['groupX','groupY'],axis=1, inplace=True)\n",
    "planter_grid = pd.merge(planter_grid, group, on='value')\n",
    "planter_grid = planter_grid.sort_values(['long','lat']).reset_index(drop=True)\n",
    "planter_grid.head()"
   ]
  },
  {
   "cell_type": "code",
   "execution_count": 19,
   "metadata": {
    "collapsed": false
   },
   "outputs": [
    {
     "name": "stdout",
     "output_type": "stream",
     "text": [
      "<class 'pandas.core.frame.DataFrame'>\n",
      "RangeIndex: 6314 entries, 0 to 6313\n",
      "Data columns (total 8 columns):\n",
      "long            6314 non-null float64\n",
      "lat             6314 non-null float64\n",
      "variety         6314 non-null object\n",
      "seeding_rate    6314 non-null float64\n",
      "seed_spacing    6314 non-null float64\n",
      "speed           6314 non-null float64\n",
      "value           6314 non-null object\n",
      "group           6314 non-null int64\n",
      "dtypes: float64(5), int64(1), object(2)\n",
      "memory usage: 394.7+ KB\n"
     ]
    }
   ],
   "source": [
    "# Check for NULL values\n",
    "planter_grid.info()"
   ]
  },
  {
   "cell_type": "code",
   "execution_count": 20,
   "metadata": {
    "collapsed": false
   },
   "outputs": [
    {
     "data": {
      "text/plain": [
       "True"
      ]
     },
     "execution_count": 20,
     "metadata": {},
     "output_type": "execute_result"
    }
   ],
   "source": [
    "# Check for data consistency\n",
    "planter_grid.loc[:,['long','lat','variety','seeding_rate','seed_spacing','speed']].equals(planter)"
   ]
  },
  {
   "cell_type": "markdown",
   "metadata": {},
   "source": [
    "### Map harvester data to grids"
   ]
  },
  {
   "cell_type": "code",
   "execution_count": 21,
   "metadata": {
    "collapsed": false
   },
   "outputs": [
    {
     "data": {
      "text/html": [
       "<div>\n",
       "<table border=\"1\" class=\"dataframe\">\n",
       "  <thead>\n",
       "    <tr style=\"text-align: right;\">\n",
       "      <th></th>\n",
       "      <th>long</th>\n",
       "      <th>lat</th>\n",
       "      <th>yield</th>\n",
       "      <th>value</th>\n",
       "      <th>group</th>\n",
       "    </tr>\n",
       "  </thead>\n",
       "  <tbody>\n",
       "    <tr>\n",
       "      <th>0</th>\n",
       "      <td>-91.85065794214</td>\n",
       "      <td>40.37589336599</td>\n",
       "      <td>216.92110846492</td>\n",
       "      <td>0-0</td>\n",
       "      <td>0</td>\n",
       "    </tr>\n",
       "    <tr>\n",
       "      <th>1</th>\n",
       "      <td>-91.85065682914</td>\n",
       "      <td>40.37590353899</td>\n",
       "      <td>218.21178574100</td>\n",
       "      <td>0-0</td>\n",
       "      <td>0</td>\n",
       "    </tr>\n",
       "    <tr>\n",
       "      <th>2</th>\n",
       "      <td>-91.85065636914</td>\n",
       "      <td>40.37591472799</td>\n",
       "      <td>241.78874779943</td>\n",
       "      <td>0-0</td>\n",
       "      <td>0</td>\n",
       "    </tr>\n",
       "    <tr>\n",
       "      <th>3</th>\n",
       "      <td>-91.85065582614</td>\n",
       "      <td>40.37592657599</td>\n",
       "      <td>227.94857084442</td>\n",
       "      <td>1-0</td>\n",
       "      <td>41</td>\n",
       "    </tr>\n",
       "    <tr>\n",
       "      <th>4</th>\n",
       "      <td>-91.85065529614</td>\n",
       "      <td>40.37593849799</td>\n",
       "      <td>226.69384423697</td>\n",
       "      <td>1-0</td>\n",
       "      <td>41</td>\n",
       "    </tr>\n",
       "  </tbody>\n",
       "</table>\n",
       "</div>"
      ],
      "text/plain": [
       "             long             lat            yield value  group\n",
       "0 -91.85065794214  40.37589336599  216.92110846492   0-0      0\n",
       "1 -91.85065682914  40.37590353899  218.21178574100   0-0      0\n",
       "2 -91.85065636914  40.37591472799  241.78874779943   0-0      0\n",
       "3 -91.85065582614  40.37592657599  227.94857084442   1-0     41\n",
       "4 -91.85065529614  40.37593849799  226.69384423697   1-0     41"
      ]
     },
     "execution_count": 21,
     "metadata": {},
     "output_type": "execute_result"
    }
   ],
   "source": [
    "#vertical grids\n",
    "harvester_grid = harvester.copy()\n",
    "harvester_grid['groupX'] = np.piecewise(np.zeros(harvester_grid.count()[0]),\n",
    "                                 [(harvester_grid['long'].values >= start) & (harvester_grid['long'].values <= end) for start, end in zip(dfx['value'].values, dfx['value1'].values)], dfx['groupX'].values).astype(int) \n",
    "#horizontal grids\n",
    "harvester_grid['groupY'] = np.piecewise(np.zeros(harvester_grid.count()[0]),\n",
    "                                 [(harvester_grid['lat'].values >= start) & (harvester_grid['lat'].values <= end) for start, end in zip(dfy['value'].values, dfy['value1'].values)], dfy['groupY'].values).astype(int)\n",
    "\n",
    "# grid membership\n",
    "harvester_grid['value'] = harvester_grid['groupY'].map(str) + \"-\" + harvester_grid['groupX'].map(str)\n",
    "harvester_grid.drop(['groupX','groupY'],axis=1, inplace=True)\n",
    "harvester_grid = pd.merge(harvester_grid, group, on='value')\n",
    "harvester_grid = harvester_grid.sort_values(['long','lat']).reset_index(drop=True)\n",
    "harvester_grid.head()"
   ]
  },
  {
   "cell_type": "code",
   "execution_count": 22,
   "metadata": {
    "collapsed": false
   },
   "outputs": [
    {
     "name": "stdout",
     "output_type": "stream",
     "text": [
      "<class 'pandas.core.frame.DataFrame'>\n",
      "RangeIndex: 16626 entries, 0 to 16625\n",
      "Data columns (total 5 columns):\n",
      "long     16626 non-null float64\n",
      "lat      16626 non-null float64\n",
      "yield    16626 non-null float64\n",
      "value    16626 non-null object\n",
      "group    16626 non-null int64\n",
      "dtypes: float64(3), int64(1), object(1)\n",
      "memory usage: 649.5+ KB\n"
     ]
    }
   ],
   "source": [
    "# Check for NULL values\n",
    "harvester_grid.info()"
   ]
  },
  {
   "cell_type": "code",
   "execution_count": 23,
   "metadata": {
    "collapsed": false
   },
   "outputs": [
    {
     "data": {
      "text/plain": [
       "True"
      ]
     },
     "execution_count": 23,
     "metadata": {},
     "output_type": "execute_result"
    }
   ],
   "source": [
    "# Check for data consistency\n",
    "harvester_grid.loc[:,['long','lat','yield']].equals(harvester)"
   ]
  },
  {
   "cell_type": "markdown",
   "metadata": {},
   "source": [
    "### Map planter - harvester data\n",
    "\n",
    "Algorithm: Nearest neigbour search"
   ]
  },
  {
   "cell_type": "code",
   "execution_count": 24,
   "metadata": {
    "collapsed": true
   },
   "outputs": [],
   "source": [
    "def haversine_vect(x):\n",
    "    return round(haversine((x['lat'], x['long']),(x['lat1'], x['long1']))*1000,1)"
   ]
  },
  {
   "cell_type": "code",
   "execution_count": 25,
   "metadata": {
    "collapsed": false
   },
   "outputs": [],
   "source": [
    "harvester_grid = pd.concat([harvester_grid,\n",
    "                            pd.DataFrame(columns=['variety','seeding_rate','seed_spacing','speed','long1','lat1','dist'])], axis=1)"
   ]
  },
  {
   "cell_type": "code",
   "execution_count": 26,
   "metadata": {
    "collapsed": false
   },
   "outputs": [],
   "source": [
    "for i in tqdm(range(harvester_grid.count()[0])):\n",
    "    harvester_gps = harvester_grid.loc[i,].copy()\n",
    "    n = harvester_gps['value'].split('-')\n",
    "    row = int(n[0])\n",
    "    col = int(n[1])\n",
    "              \n",
    "    # filter the rows from planting - nearest neighbour search      \n",
    "    neighbour = [\"%s-%s\" %(row, col-1),\n",
    "                  \"%s-%s\" %(row-1, col),\n",
    "                  \"%s-%s\" %(row, col),\n",
    "                  \"%s-%s\" %(row+1, col),\n",
    "                  \"%s-%s\" %(row, col+1)]\n",
    "    \n",
    "    planter_gps = planter_grid[planter_grid['value'].isin(neighbour)].copy().reset_index(drop=True)\n",
    "    \n",
    "    if(planter_gps.count()[0] >0):\n",
    "        planter_gps['long1'] = harvester_gps['long']\n",
    "        planter_gps['lat1'] = harvester_gps['lat']\n",
    "        # find the distance between geo-coordinates\n",
    "        planter_gps['dist'] = planter_gps.apply(lambda row: haversine_vect(row), axis=1)\n",
    "        planter_gps = planter_gps[planter_gps['dist'] == planter_gps['dist'].min()].reset_index(drop=True)\n",
    "        \n",
    "        # map the data back to harvester_grid\n",
    "        harvester_grid.loc[i,'variety'] = planter_gps.loc[0,'variety']\n",
    "        harvester_grid.loc[i,'seeding_rate'] = planter_gps.loc[0,'seeding_rate']\n",
    "        harvester_grid.loc[i,'seed_spacing'] = planter_gps.loc[0,'seed_spacing']\n",
    "        harvester_grid.loc[i,'speed'] = planter_gps.loc[0,'speed']\n",
    "        harvester_grid.loc[i,'long1'] = planter_gps.loc[0,'long1']\n",
    "        harvester_grid.loc[i,'lat1'] = planter_gps.loc[0,'lat1']\n",
    "        harvester_grid.loc[i,'dist'] = planter_gps.loc[0,'dist']"
   ]
  },
  {
   "cell_type": "code",
   "execution_count": 27,
   "metadata": {
    "collapsed": false
   },
   "outputs": [
    {
     "data": {
      "text/html": [
       "<div>\n",
       "<table border=\"1\" class=\"dataframe\">\n",
       "  <thead>\n",
       "    <tr style=\"text-align: right;\">\n",
       "      <th></th>\n",
       "      <th>long</th>\n",
       "      <th>lat</th>\n",
       "      <th>yield</th>\n",
       "      <th>value</th>\n",
       "      <th>group</th>\n",
       "      <th>variety</th>\n",
       "      <th>seeding_rate</th>\n",
       "      <th>seed_spacing</th>\n",
       "      <th>speed</th>\n",
       "      <th>long1</th>\n",
       "      <th>lat1</th>\n",
       "      <th>dist</th>\n",
       "    </tr>\n",
       "  </thead>\n",
       "  <tbody>\n",
       "    <tr>\n",
       "      <th>0</th>\n",
       "      <td>-91.85065794214</td>\n",
       "      <td>40.37589336599</td>\n",
       "      <td>216.92110846492</td>\n",
       "      <td>0-0</td>\n",
       "      <td>0</td>\n",
       "      <td>DKC63-33RIB</td>\n",
       "      <td>0</td>\n",
       "      <td>0</td>\n",
       "      <td>0.02</td>\n",
       "      <td>-91.850657942</td>\n",
       "      <td>40.375893366</td>\n",
       "      <td>4</td>\n",
       "    </tr>\n",
       "    <tr>\n",
       "      <th>1</th>\n",
       "      <td>-91.85065682914</td>\n",
       "      <td>40.37590353899</td>\n",
       "      <td>218.21178574100</td>\n",
       "      <td>0-0</td>\n",
       "      <td>0</td>\n",
       "      <td>DKC63-33RIB</td>\n",
       "      <td>0</td>\n",
       "      <td>0</td>\n",
       "      <td>0.02</td>\n",
       "      <td>-91.850656829</td>\n",
       "      <td>40.375903539</td>\n",
       "      <td>4.4</td>\n",
       "    </tr>\n",
       "    <tr>\n",
       "      <th>2</th>\n",
       "      <td>-91.85065636914</td>\n",
       "      <td>40.37591472799</td>\n",
       "      <td>241.78874779943</td>\n",
       "      <td>0-0</td>\n",
       "      <td>0</td>\n",
       "      <td>DKC63-33RIB</td>\n",
       "      <td>0</td>\n",
       "      <td>0</td>\n",
       "      <td>0.02</td>\n",
       "      <td>-91.850656369</td>\n",
       "      <td>40.375914728</td>\n",
       "      <td>5.2</td>\n",
       "    </tr>\n",
       "    <tr>\n",
       "      <th>3</th>\n",
       "      <td>-91.85065582614</td>\n",
       "      <td>40.37592657599</td>\n",
       "      <td>227.94857084442</td>\n",
       "      <td>1-0</td>\n",
       "      <td>41</td>\n",
       "      <td>DKC63-33RIB</td>\n",
       "      <td>0</td>\n",
       "      <td>0</td>\n",
       "      <td>3.75</td>\n",
       "      <td>-91.850655826</td>\n",
       "      <td>40.375926576</td>\n",
       "      <td>5.9</td>\n",
       "    </tr>\n",
       "    <tr>\n",
       "      <th>4</th>\n",
       "      <td>-91.85065529614</td>\n",
       "      <td>40.37593849799</td>\n",
       "      <td>226.69384423697</td>\n",
       "      <td>1-0</td>\n",
       "      <td>41</td>\n",
       "      <td>DKC63-33RIB</td>\n",
       "      <td>0</td>\n",
       "      <td>0</td>\n",
       "      <td>3.75</td>\n",
       "      <td>-91.850655296</td>\n",
       "      <td>40.375938498</td>\n",
       "      <td>4.9</td>\n",
       "    </tr>\n",
       "  </tbody>\n",
       "</table>\n",
       "</div>"
      ],
      "text/plain": [
       "             long             lat            yield value  group      variety  \\\n",
       "0 -91.85065794214  40.37589336599  216.92110846492   0-0      0  DKC63-33RIB   \n",
       "1 -91.85065682914  40.37590353899  218.21178574100   0-0      0  DKC63-33RIB   \n",
       "2 -91.85065636914  40.37591472799  241.78874779943   0-0      0  DKC63-33RIB   \n",
       "3 -91.85065582614  40.37592657599  227.94857084442   1-0     41  DKC63-33RIB   \n",
       "4 -91.85065529614  40.37593849799  226.69384423697   1-0     41  DKC63-33RIB   \n",
       "\n",
       "  seeding_rate seed_spacing speed         long1          lat1 dist  \n",
       "0            0            0  0.02 -91.850657942  40.375893366    4  \n",
       "1            0            0  0.02 -91.850656829  40.375903539  4.4  \n",
       "2            0            0  0.02 -91.850656369  40.375914728  5.2  \n",
       "3            0            0  3.75 -91.850655826  40.375926576  5.9  \n",
       "4            0            0  3.75 -91.850655296  40.375938498  4.9  "
      ]
     },
     "execution_count": 27,
     "metadata": {},
     "output_type": "execute_result"
    }
   ],
   "source": [
    "harvester_grid.head()"
   ]
  },
  {
   "cell_type": "markdown",
   "metadata": {},
   "source": [
    "### Examine the distribution of distance between planter and harvester gps coordinates"
   ]
  },
  {
   "cell_type": "code",
   "execution_count": null,
   "metadata": {
    "collapsed": false
   },
   "outputs": [],
   "source": [
    "plt.rcParams['figure.figsize'] = (8.0, 4.0)\n",
    "_= plt.hist(harvester_grid['dist']) \n",
    "plt.show()"
   ]
  },
  {
   "cell_type": "markdown",
   "metadata": {},
   "source": [
    "### Save the file"
   ]
  },
  {
   "cell_type": "code",
   "execution_count": null,
   "metadata": {
    "collapsed": false
   },
   "outputs": [],
   "source": [
    "harvester_grid.to_csv('planter-harvester-python.csv', index=False)"
   ]
  }
 ],
 "metadata": {
  "anaconda-cloud": {},
  "kernelspec": {
   "display_name": "Python [conda root]",
   "language": "python",
   "name": "conda-root-py"
  },
  "language_info": {
   "codemirror_mode": {
    "name": "ipython",
    "version": 3
   },
   "file_extension": ".py",
   "mimetype": "text/x-python",
   "name": "python",
   "nbconvert_exporter": "python",
   "pygments_lexer": "ipython3",
   "version": "3.5.2"
  }
 },
 "nbformat": 4,
 "nbformat_minor": 1
}
