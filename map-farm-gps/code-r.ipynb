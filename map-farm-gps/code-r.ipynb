{
 "cells": [
  {
   "cell_type": "markdown",
   "metadata": {},
   "source": [
    "# Mapping Planter & Harvester GPS coordinates"
   ]
  },
  {
   "cell_type": "markdown",
   "metadata": {},
   "source": [
    "It is commonplace for agricultural data to contain spatial information typically the longitude and latitude at which each data point was collected. However, one of the challenges this introduces is that different datasets often do not contain data that were collected at the same locations. A specific example involves planter and harvester data from precision farming equipment. As a planter moves through a field, it records thousands of measurements of its location along with various data about the planter operation (such as the variety of seed planted, the seeding rate, and the spacing between seeds). Similarly, as a harvester moves through a field, it records thousands of measurements of its location and the crop’s yield at that point. A question of agricultural interest is to estimate the relationship between yield and the variables measured during planter. However, the harvester data points do not necessarily exactly overlap the planter data points, so before any analysis can be conducted to probe these relationships, it’s necessary to determine which planter points are associated with which harvesterpoints.\n",
    "\n",
    "Let's devise an algorithm to efficiently associate the planter data points with the harvester data points for one corn field (from the same year)."
   ]
  },
  {
   "cell_type": "markdown",
   "metadata": {},
   "source": [
    "## Load the libraries"
   ]
  },
  {
   "cell_type": "code",
   "execution_count": 1,
   "metadata": {
    "collapsed": false,
    "nbpresent": {
     "id": "01a5ea05-82a2-4902-a7d3-a7730eb4b010"
    }
   },
   "outputs": [],
   "source": [
    "suppressMessages({\n",
    "    library(ggmap)\n",
    "    library(geosphere)\n",
    "    library(dplyr)\n",
    "    library(data.table)\n",
    "    library(ggplot2)\n",
    "    library(cowplot)\n",
    "    })\n",
    "# Set numeric digit precision\n",
    "options(digits=11)"
   ]
  },
  {
   "cell_type": "markdown",
   "metadata": {},
   "source": [
    "## Load the data files"
   ]
  },
  {
   "cell_type": "markdown",
   "metadata": {},
   "source": [
    "The files contain a row for each data point collected by the planter and harvester machines. The columns in each file are as follows:\n",
    "\n",
    "**planter_data.csv**\n",
    "1. **long**: longitude where data point was collected.\n",
    "2. **lat**: latitude where data point was collected.\n",
    "3. **variety**: the seed variety planted at that location.\n",
    "4. **seeding_rate**: continuous variable specifying the number of seeds planted per acre (in thousands).\n",
    "5. **seed_spacing**: continuous variable specifying the distance between seeds (inches).\n",
    "\n",
    "**harvester_data.csv**\n",
    "1. **long**: longitude where data point was collected\n",
    "2. **lat**: latitude where data point was collected\n",
    "3. **yield**: continuous variable specifying the yield of the crop (in bushels/acre)."
   ]
  },
  {
   "cell_type": "code",
   "execution_count": 2,
   "metadata": {
    "collapsed": false,
    "nbpresent": {
     "id": "f5336817-8342-4986-9b30-cfe906b28fe0"
    }
   },
   "outputs": [
    {
     "name": "stderr",
     "output_type": "stream",
     "text": [
      "Parsed with column specification:\n",
      "cols(\n",
      "  long = col_double(),\n",
      "  lat = col_double(),\n",
      "  yield = col_double()\n",
      ")\n",
      "Parsed with column specification:\n",
      "cols(\n",
      "  long = col_double(),\n",
      "  lat = col_double(),\n",
      "  variety = col_character(),\n",
      "  seeding_rate = col_double(),\n",
      "  seed_spacing = col_double(),\n",
      "  speed = col_double()\n",
      ")\n"
     ]
    }
   ],
   "source": [
    "harvester <- readr::read_csv('harvester_data.csv')\n",
    "planter <- readr::read_csv('planter_data.csv')"
   ]
  },
  {
   "cell_type": "code",
   "execution_count": 3,
   "metadata": {
    "collapsed": false,
    "nbpresent": {
     "id": "1ee7f492-f5df-451a-b13f-765b09a93f86"
    }
   },
   "outputs": [
    {
     "name": "stdout",
     "output_type": "stream",
     "text": [
      "Observations: 16,626\n",
      "Variables: 3\n",
      "$ long  <dbl> -91.849991029, -91.849991529, -91.849991821, -91.849992445, -...\n",
      "$ lat   <dbl> 40.376097181, 40.376106399, 40.376116310, 40.376126812, 40.37...\n",
      "$ yield <dbl> 88.451156135, 102.173517338, 191.420756250, 236.556216966, 22...\n"
     ]
    }
   ],
   "source": [
    "glimpse(harvester)"
   ]
  },
  {
   "cell_type": "code",
   "execution_count": 4,
   "metadata": {
    "collapsed": false
   },
   "outputs": [
    {
     "name": "stdout",
     "output_type": "stream",
     "text": [
      "Observations: 6,314\n",
      "Variables: 6\n",
      "$ long         <dbl> -91.8505320, -91.8505192, -91.8505040, -91.8504868, -9...\n",
      "$ lat          <dbl> 40.376043052, 40.376043152, 40.376042752, 40.376042552...\n",
      "$ variety      <chr> \"P1498\", \"P1498\", \"P1498\", \"P1498\", \"P1498\", \"P1498\", ...\n",
      "$ seeding_rate <dbl> 47.6142, 47.6412, 47.6412, 47.6412, 34.6421, 31.2031, ...\n",
      "$ seed_spacing <dbl> 4.3913, 4.3888, 4.3888, 4.3888, 6.0357, 6.7009, 7.0360...\n",
      "$ speed        <dbl> 1.90, 2.11, 2.52, 2.94, 3.37, 3.88, 4.22, 4.26, 4.35, ...\n"
     ]
    }
   ],
   "source": [
    "glimpse(planter)"
   ]
  },
  {
   "cell_type": "markdown",
   "metadata": {},
   "source": [
    "Let's check if the gps coordinates overlap between the planter.csv and harvest.csv."
   ]
  },
  {
   "cell_type": "code",
   "execution_count": 5,
   "metadata": {
    "collapsed": false
   },
   "outputs": [
    {
     "name": "stdout",
     "output_type": "stream",
     "text": [
      "0\n"
     ]
    }
   ],
   "source": [
    "cat(nrow(semi_join(harvester, planter, by=c(\"long\",\"lat\"))), fill=T)"
   ]
  },
  {
   "cell_type": "markdown",
   "metadata": {},
   "source": [
    "It is clear that none of the points overlap. Now let us visualize the gps coordinates to get more insights."
   ]
  },
  {
   "cell_type": "markdown",
   "metadata": {},
   "source": [
    "## Data Consistency"
   ]
  },
  {
   "cell_type": "markdown",
   "metadata": {
    "nbpresent": {
     "id": "33c7078a-be29-4695-ada5-4b2620e8f694"
    }
   },
   "source": [
    "Before we visualize the data, let's first check the data consistency.\n",
    "\n",
    "1. Are the range of gps coordinates from planter.csv and harvest.csv in sync? i.e. within a small tolerance.\n",
    "2. Are the gps coordinates confined within a reasonable bounding-box? i.e. must be a finite area\n",
    "3. Do the points overlay over a resonable area? i.e. must be on land\n",
    "    \n",
    "Let's find the range of the gps coordinates for the **bounding box**."
   ]
  },
  {
   "cell_type": "code",
   "execution_count": 6,
   "metadata": {
    "collapsed": false
   },
   "outputs": [
    {
     "name": "stdout",
     "output_type": "stream",
     "text": [
      "long-min:  -91.850657942 , long-max:  -91.845947571\n",
      "lat-min:  40.375880452 , lat-max:  40.379421396\n"
     ]
    }
   ],
   "source": [
    "b_long <- c(min(min(planter$long),min(harvester$long)), max(max(planter$long),max(harvester$long)))\n",
    "b_lat <- c(min(min(planter$lat),min(harvester$lat)), max(max(planter$lat),max(harvester$lat)))\n",
    "cat(\"long-min: \",b_long[1], \",\", \"long-max: \",b_long[2], fill=T)\n",
    "cat(\"lat-min: \",b_lat[1], \",\", \"lat-max: \",b_lat[2], fill=T)"
   ]
  },
  {
   "cell_type": "markdown",
   "metadata": {
    "nbpresent": {
     "id": "35dcb57e-5b5a-4e34-a796-7262721998c2"
    }
   },
   "source": [
    "Let's find the **field dimensions**."
   ]
  },
  {
   "cell_type": "code",
   "execution_count": 7,
   "metadata": {
    "collapsed": false,
    "nbpresent": {
     "id": "d4c428e1-f65f-4387-8e8d-73e7499301a7"
    }
   },
   "outputs": [
    {
     "name": "stdout",
     "output_type": "stream",
     "text": [
      "y:  394.2 m\n",
      "x:  399.5 m\n"
     ]
    }
   ],
   "source": [
    "length <- round(distm(c(b_long[1], b_lat[1]), c(b_long[1], b_lat[2]), fun = distHaversine),1)\n",
    "breadth <- round(distm(c(b_long[1], b_lat[1]), c(b_long[2], b_lat[1]), fun = distHaversine),1)\n",
    "cat(\"y: \", length,\"m\" , fill=T)\n",
    "cat(\"x: \", breadth,\"m\", fill=T)"
   ]
  },
  {
   "cell_type": "markdown",
   "metadata": {
    "nbpresent": {
     "id": "629c51ea-c4da-4f8d-b658-f750edf72b50"
    }
   },
   "source": [
    "This field is approximately 400m x 400m field. i.e. ~40 acres. This is reasonable.\n",
    "\n",
    "Let's find the **lat-long offset per metre**."
   ]
  },
  {
   "cell_type": "code",
   "execution_count": 8,
   "metadata": {
    "collapsed": false
   },
   "outputs": [
    {
     "name": "stdout",
     "output_type": "stream",
     "text": [
      "Per metre latitude offset:  8.9826090416e-06\n",
      "Per metre longitude offset:  1.1790665833e-05\n"
     ]
    }
   ],
   "source": [
    "lat.pm <- (b_lat[2]-b_lat[1])/length\n",
    "long.pm <- (b_long[2]-b_long[1])/breadth\n",
    "cat(\"Per metre latitude offset: \", lat.pm, fill=T)\n",
    "cat(\"Per metre longitude offset: \", long.pm, fill=T)"
   ]
  },
  {
   "cell_type": "markdown",
   "metadata": {},
   "source": [
    "Now, let's find the **field center**. This is to be used for map center."
   ]
  },
  {
   "cell_type": "code",
   "execution_count": 9,
   "metadata": {
    "collapsed": false,
    "nbpresent": {
     "id": "9df571aa-2318-4992-9aa7-4a316daf872f"
    }
   },
   "outputs": [
    {
     "name": "stdout",
     "output_type": "stream",
     "text": [
      "harvest-long:  -91.848302757 , harvest-lat:  40.377655013\n",
      "planter-long:  -91.848297 , planter-lat:  40.377635252\n"
     ]
    }
   ],
   "source": [
    "hc <- c((max(harvester$long)+min(harvester$long))/2, (max(harvester$lat)+min(harvester$lat))/2)\n",
    "pc <- c((max(planter$long)+min(planter$long))/2, (max(planter$lat)+min(planter$lat))/2)\n",
    "cat(\"harvest-long: \",hc[1], \",\", \"harvest-lat: \",hc[2], fill=T)\n",
    "cat(\"planter-long: \",pc[1], \",\", \"planter-lat: \",pc[2], fill=T)"
   ]
  },
  {
   "cell_type": "markdown",
   "metadata": {
    "nbpresent": {
     "id": "92c24f1a-d252-4609-9829-18b39d263219"
    }
   },
   "source": [
    "The lat-long coordinates for center of the field for harvester and planter are in sync. The longitude is -ve and the latitude is +ve. So this must be in North-West. Let's confirm this with the map."
   ]
  },
  {
   "cell_type": "code",
   "execution_count": 10,
   "metadata": {
    "collapsed": false,
    "nbpresent": {
     "id": "8316f8ed-3be3-49fc-9605-6388a86c973f"
    }
   },
   "outputs": [
    {
     "name": "stderr",
     "output_type": "stream",
     "text": [
      "Map from URL : http://maps.googleapis.com/maps/api/staticmap?center=40.377655,-91.848302&zoom=12&size=640x640&scale=2&maptype=terrain&language=en-EN&sensor=false\n"
     ]
    }
   ],
   "source": [
    "options(repr.plot.width=8, repr.plot.height=8)\n",
    "map <- c(lon = -91.848302, lat = 40.377655)\n",
    "map <- get_map(location = map, zoom = 12)\n",
    "ggsave('images/fieldmap.jpg', plot = ggmap(map), width = 8, height = 8)"
   ]
  },
  {
   "cell_type": "markdown",
   "metadata": {},
   "source": [
    "![Fieldmap](images/fieldmap.jpg)"
   ]
  },
  {
   "cell_type": "markdown",
   "metadata": {
    "nbpresent": {
     "id": "b552a7c0-ccdb-4768-8a05-2d1f1237a667"
    }
   },
   "source": [
    "The map is centered somewhere over Wyaconda, which is in Missouri, USA."
   ]
  },
  {
   "cell_type": "markdown",
   "metadata": {
    "nbpresent": {
     "id": "9c461a8a-89f8-426a-a1f6-57bd4fc92c6f"
    }
   },
   "source": [
    "## Exploratory Analysis\n",
    "\n",
    "Now that the data consistency is verified, let's plot the gps coordinates."
   ]
  },
  {
   "cell_type": "code",
   "execution_count": 11,
   "metadata": {
    "collapsed": false
   },
   "outputs": [],
   "source": [
    "g1 <- ggplot() + geom_point(aes(long, lat, alpha=0.01), data = planter) +\n",
    "                 geom_point(aes(long, lat, alpha=0.01, colour = \"red\"), data = harvester)\n",
    "ggsave('images/planter-harvester.jpg', plot = g1, width = 32, height = 32)"
   ]
  },
  {
   "cell_type": "markdown",
   "metadata": {},
   "source": [
    "![Planter-Harvester](images/planter-harvester.jpg)"
   ]
  },
  {
   "cell_type": "markdown",
   "metadata": {},
   "source": [
    "### Observations\n",
    "\n",
    "1. More harvester gps-cordinates than planter. Besides the harvester machine has run exactly on either side of the planter machine path. The image below on the left is that of a 32 row corn planter and the image on the right is a multi-row corn harvester.\n",
    "![Planter-Harvester](images/planter-harvester-machine.jpg)\n",
    "2. **Data Provenance** - Where is/are the gps devices mounted? How are the variables such as yield, speed, seeding rate & seed spacing recorded?\n",
    "3. 66 vertical lines for harvester vs 33 vertical lines for planter. 8 horizontal lines for harvester vs 4 horizontal lines for planter. So harvester is ~2X+ that of planter based on the lines, but with higher density of data collection i.e. 16626 vs 6314 data points.\n",
    "4. In this case a similar multi-row equipment could have been used - for example a 16 row planter and a 8 row harvester. That explains why the `harvester` file has 2X+ gps coordinates compared to `planter` file.\n",
    "5. As you can see the lines are not exactly vertical or horizontal. So there is no direct option to group the lines."
   ]
  },
  {
   "cell_type": "markdown",
   "metadata": {},
   "source": [
    "## Algorithm\n",
    "\n",
    "The brute force approach would be to take each lat-long coordinate from harvest.csv and find the nearest lat-long coordinate in the planter.csv. This would be computationaly intensive as 16626 x 6314 distance computations need to be carried out.\n",
    "\n",
    "The heuristic approach would be to categorize the gps coordinates into smaller bins to restrict the search space. i.e. divide the field into grids similar to a chessboard. In the **uniform grid** approach the field is divided into equal grids by equal lat and long offsets."
   ]
  },
  {
   "cell_type": "markdown",
   "metadata": {},
   "source": [
    "### Gridline design\n",
    "Now let's design the grid layout and then overlay it over the gps coordinates. Let's go with a 20m x 20m grid. i.e. ~10 cents or 0.1 acre. To cover the entire field (40 acres) in this case we would need ~400 grids."
   ]
  },
  {
   "cell_type": "code",
   "execution_count": 12,
   "metadata": {
    "collapsed": false
   },
   "outputs": [
    {
     "name": "stdout",
     "output_type": "stream",
     "text": [
      "Vertical gridlines:  42\n",
      "Horizontal gridlines:  42\n"
     ]
    }
   ],
   "source": [
    "# vertical gridlines\n",
    "nx <- ceiling((breadth+(long.pm * 5))/10)\n",
    "x <- seq(from=b_long[1]-(long.pm * 5), length.out=nx+2, by=(long.pm * 10))\n",
    "cat(\"Vertical gridlines: \",length(x), fill=T)\n",
    "\n",
    "# horizontal gridlines \n",
    "ny <- ceiling((length+(lat.pm * 5))/10)\n",
    "y <- seq(from=b_lat[1]-(lat.pm * 5), length.out=ny+2, by=(lat.pm * 10))\n",
    "cat(\"Horizontal gridlines: \",length(y), fill=T)"
   ]
  },
  {
   "cell_type": "markdown",
   "metadata": {},
   "source": [
    "### Overlay gridlines"
   ]
  },
  {
   "cell_type": "code",
   "execution_count": 13,
   "metadata": {
    "collapsed": false,
    "nbpresent": {
     "id": "5124adf3-40dd-47c2-bf15-7dd3754cae48"
    }
   },
   "outputs": [],
   "source": [
    "for(i in 1:length(x)){\n",
    "    g1 <- g1+geom_vline(xintercept = x[i])+geom_hline(yintercept = y[i])\n",
    "}\n",
    "ggsave('images/planter-harvester-grids.jpg', plot = g1, width = 32, height = 32)"
   ]
  },
  {
   "cell_type": "markdown",
   "metadata": {},
   "source": [
    "![Planter-Harvester-Grids](images/planter-harvester-grids.jpg)"
   ]
  },
  {
   "cell_type": "markdown",
   "metadata": {
    "collapsed": true
   },
   "source": [
    "### Assign grid memberships\n",
    "\n",
    "Now that we have visualized the grid layout, let's assign the geo-coodinates to each unique grid-box. In this case there are 40x40 grids i.e. 1600 grids.\n",
    "\n",
    "In this case I use the `foverlaps()` function from `data.table` package to do this. The steps are as follows,\n",
    "\n",
    "1. Create a table with long ranges (x-axis) mapped to  grid sequence i.e. 1 to 40\n",
    "2. Create a table with lat ranges (y-axis) mapped to  grid sequence i.e. 1 to 40\n",
    "3. Create duplicate cols in planter & harvesterfor lat & long coordinates\n",
    "4. Setkey in the above two tables and planter & harvester (for long coordinates) \n",
    "5. `foverlaps()` to left join horizontal/column grid membership\n",
    "6. Repeat the steps 4,5 for lat coordinates"
   ]
  },
  {
   "cell_type": "code",
   "execution_count": 14,
   "metadata": {
    "collapsed": false
   },
   "outputs": [
    {
     "name": "stdout",
     "output_type": "stream",
     "text": [
      "Observations: 41\n",
      "Variables: 3\n",
      "$ value  <dbl> -91.850716895, -91.850598989, -91.850481082, -91.850363175, ...\n",
      "$ value1 <dbl> -91.850598989, -91.850481082, -91.850363176, -91.850245269, ...\n",
      "$ groupX <int> 1, 2, 3, 4, 5, 6, 7, 8, 9, 10, 11, 12, 13, 14, 15, 16, 17, 1...\n",
      "Observations: 41\n",
      "Variables: 3\n",
      "$ value  <dbl> 40.375835538, 40.375925365, 40.376015191, 40.376105017, 40.3...\n",
      "$ value1 <dbl> 40.375925364, 40.376015191, 40.376105017, 40.376194843, 40.3...\n",
      "$ groupY <int> 1, 2, 3, 4, 5, 6, 7, 8, 9, 10, 11, 12, 13, 14, 15, 16, 17, 1...\n"
     ]
    }
   ],
   "source": [
    "# create long grid ranges\n",
    "dfx <- tbl_df(x)\n",
    "dfx$value1 <- lead(dfx$value)-1e-10\n",
    "dfx <- dfx %>% na.omit()\n",
    "dfx$groupX <- 1:nrow(dfx)\n",
    "dfx <- data.table(dfx)\n",
    "\n",
    "# create lat grid ranges\n",
    "dfy <- tbl_df(y)\n",
    "dfy$value1 <- lead(dfy$value)-1e-10\n",
    "dfy <- dfy %>% na.omit()\n",
    "dfy$groupY <- 1:nrow(dfy)\n",
    "dfy <- data.table(dfy)\n",
    "\n",
    "glimpse(dfx)\n",
    "glimpse(dfy)"
   ]
  },
  {
   "cell_type": "markdown",
   "metadata": {},
   "source": [
    "The values on the left col must be less than the right in the range. Let's verify"
   ]
  },
  {
   "cell_type": "code",
   "execution_count": 15,
   "metadata": {
    "collapsed": false
   },
   "outputs": [
    {
     "name": "stdout",
     "output_type": "stream",
     "text": [
      "41\n",
      "41\n"
     ]
    }
   ],
   "source": [
    "cat(sum(dfx$value<=dfx$value1), fill=T)\n",
    "cat(sum(dfy$value<=dfy$value1), fill=T)"
   ]
  },
  {
   "cell_type": "markdown",
   "metadata": {},
   "source": [
    "Now that the grid ranges are verified, let's asign unique group/grid number"
   ]
  },
  {
   "cell_type": "code",
   "execution_count": 16,
   "metadata": {
    "collapsed": false
   },
   "outputs": [
    {
     "name": "stdout",
     "output_type": "stream",
     "text": [
      "Observations: 1,681\n",
      "Variables: 2\n",
      "$ value <chr> \"1-1\", \"1-2\", \"1-3\", \"1-4\", \"1-5\", \"1-6\", \"1-7\", \"1-8\", \"1-9\"...\n",
      "$ group <int> 1, 2, 3, 4, 5, 6, 7, 8, 9, 10, 11, 12, 13, 14, 15, 16, 17, 18...\n"
     ]
    }
   ],
   "source": [
    "group <- expand.grid(groupX=c(1:nrow(dfx)),groupY=c(1:nrow(dfy)))\n",
    "group$value <- paste0(group$groupY,\"-\",group$groupX)\n",
    "group$group <- 1:nrow(group)\n",
    "group <- group %>% select(value, group)\n",
    "glimpse(group)"
   ]
  },
  {
   "cell_type": "markdown",
   "metadata": {},
   "source": [
    "#### Map 'planter' gps coordinates to unique grids"
   ]
  },
  {
   "cell_type": "code",
   "execution_count": 17,
   "metadata": {
    "collapsed": false
   },
   "outputs": [
    {
     "name": "stdout",
     "output_type": "stream",
     "text": [
      "Observations: 6,314\n",
      "Variables: 8\n",
      "$ long         <dbl> -91.8506140, -91.8506124, -91.8506117, -91.8506114, -9...\n",
      "$ lat          <dbl> 40.375880452, 40.375968352, 40.376001652, 40.376025952...\n",
      "$ variety      <chr> \"DKC63-33RIB\", \"DKC63-33RIB\", \"DKC63-33RIB\", \"DKC63-33...\n",
      "$ seeding_rate <dbl> 0.0000, 0.0000, 0.0000, 31.7371, 32.8151, 33.4241, 34....\n",
      "$ seed_spacing <dbl> 0.0000, 0.0000, 0.0000, 6.5881, 6.3717, 6.2556, 6.1480...\n",
      "$ speed        <dbl> 0.02, 3.75, 3.76, 3.77, 3.76, 3.75, 3.74, 3.72, 3.42, ...\n",
      "$ value        <chr> \"1-1\", \"2-1\", \"2-1\", \"3-1\", \"3-1\", \"3-1\", \"3-1\", \"3-1\"...\n",
      "$ group        <int> 1, 42, 42, 83, 83, 83, 83, 83, 124, 124, 124, 124, 124...\n"
     ]
    }
   ],
   "source": [
    "# create dummy lat-long ranges\n",
    "planter <- planter %>%\n",
    "                mutate(long1 = round(long,5),\n",
    "                       long2 = round(long,5),\n",
    "                       lat1 = round(lat,6),\n",
    "                       lat2 = round(lat,6))\n",
    "planter <- data.table(planter)\n",
    "\n",
    "#setkey\n",
    "setkey(planter, long1, long2)\n",
    "setkey(dfx, value, value1)\n",
    "\n",
    "#vertical grids\n",
    "planter_grid <- foverlaps(planter, dfx, nomatch = NA) #left_join\n",
    "\n",
    "#setkey\n",
    "setkey(planter_grid, lat1, lat2)\n",
    "setkey(dfy, value, value1)\n",
    "\n",
    "#horizontal grids\n",
    "planter_grid <- foverlaps(planter_grid, dfy, nomatch = NA) #left_join\n",
    "\n",
    "planter_grid <- planter_grid %>%\n",
    "    select_(\"long\",\"lat\",\"variety\",\"seeding_rate\",\"seed_spacing\",\"speed\",\"groupX\",\"groupY\") %>%\n",
    "    mutate(value = paste0(groupY,\"-\",groupX)) %>% select(-groupX, -groupY) %>%\n",
    "    left_join(group, by=\"value\") %>% arrange(long,lat)\n",
    "\n",
    "glimpse(planter_grid)"
   ]
  },
  {
   "cell_type": "markdown",
   "metadata": {},
   "source": [
    "#### Map 'harvest' gps coordinates to unique grids"
   ]
  },
  {
   "cell_type": "code",
   "execution_count": 18,
   "metadata": {
    "collapsed": false
   },
   "outputs": [
    {
     "name": "stdout",
     "output_type": "stream",
     "text": [
      "Observations: 16,626\n",
      "Variables: 5\n",
      "$ long  <dbl> -91.850657942, -91.850656829, -91.850656369, -91.850655826, -...\n",
      "$ lat   <dbl> 40.375893366, 40.375903539, 40.375914728, 40.375926576, 40.37...\n",
      "$ yield <dbl> 216.92110846, 218.21178574, 241.78874780, 227.94857084, 226.6...\n",
      "$ value <chr> \"1-1\", \"1-1\", \"1-1\", \"2-1\", \"2-1\", \"2-1\", \"2-1\", \"2-1\", \"2-1\"...\n",
      "$ group <int> 1, 1, 1, 42, 42, 42, 42, 42, 42, 42, 83, 83, 83, 83, 83, 83, ...\n"
     ]
    }
   ],
   "source": [
    "# create dummy lat-long ranges\n",
    "harvester <- harvester %>%\n",
    "                mutate(long1 = round(long,5),\n",
    "                       long2 = round(long,5),\n",
    "                       lat1 = round(lat,6),\n",
    "                       lat2 = round(lat,6))\n",
    "harvester <- data.table(harvester)\n",
    "\n",
    "#setkey\n",
    "setkey(harvester, long1, long2)\n",
    "\n",
    "#left_join\n",
    "harvest_grid <- foverlaps(harvester, dfx, nomatch = NA) #left_join\n",
    "\n",
    "#setkey\n",
    "setkey(harvest_grid, lat1, lat2)\n",
    "#left_join\n",
    "harvest_grid <- foverlaps(harvest_grid, dfy, nomatch = NA) #left_join\n",
    "\n",
    "harvest_grid <- harvest_grid %>% \n",
    "    select_(\"long\",\"lat\",\"yield\",\"groupX\",\"groupY\") %>%\n",
    "    mutate(value = paste0(groupY,\"-\",groupX)) %>% select(-groupX, -groupY) %>%\n",
    "    left_join(group, by=\"value\") %>% arrange(long,lat)\n",
    "\n",
    "glimpse(harvest_grid)"
   ]
  },
  {
   "cell_type": "markdown",
   "metadata": {},
   "source": [
    "Let's verify the data consistency between the original file and grid assigned file."
   ]
  },
  {
   "cell_type": "code",
   "execution_count": 19,
   "metadata": {
    "collapsed": false
   },
   "outputs": [
    {
     "name": "stdout",
     "output_type": "stream",
     "text": [
      "TRUE\n",
      "TRUE\n"
     ]
    }
   ],
   "source": [
    "cat(setequal(select(planter,-long1,-long2,-lat1,-lat2),\n",
    "         select(planter_grid,-value,-group)), fill=T)\n",
    "cat(setequal(select(harvester,-long1,-long2,-lat1,-lat2),\n",
    "         select(harvest_grid,-value,-group)), fill=T)"
   ]
  },
  {
   "cell_type": "markdown",
   "metadata": {
    "collapsed": true
   },
   "source": [
    "### Mapping planter to harvester"
   ]
  },
  {
   "cell_type": "code",
   "execution_count": 20,
   "metadata": {
    "collapsed": false
   },
   "outputs": [
    {
     "name": "stdout",
     "output_type": "stream",
     "text": [
      "Observations: 16,626\n",
      "Variables: 12\n",
      "$ long         <dbl> -91.850657942, -91.850656829, -91.850656369, -91.85065...\n",
      "$ lat          <dbl> 40.375893366, 40.375903539, 40.375914728, 40.375926576...\n",
      "$ yield        <dbl> 216.92110846, 218.21178574, 241.78874780, 227.94857084...\n",
      "$ value        <chr> \"1-1\", \"1-1\", \"1-1\", \"2-1\", \"2-1\", \"2-1\", \"2-1\", \"2-1\"...\n",
      "$ group        <int> 1, 1, 1, 42, 42, 42, 42, 42, 42, 42, 83, 83, 83, 83, 8...\n",
      "$ variety      <lgl> NA, NA, NA, NA, NA, NA, NA, NA, NA, NA, NA, NA, NA, NA...\n",
      "$ seeding_rate <lgl> NA, NA, NA, NA, NA, NA, NA, NA, NA, NA, NA, NA, NA, NA...\n",
      "$ seed_spacing <lgl> NA, NA, NA, NA, NA, NA, NA, NA, NA, NA, NA, NA, NA, NA...\n",
      "$ speed        <lgl> NA, NA, NA, NA, NA, NA, NA, NA, NA, NA, NA, NA, NA, NA...\n",
      "$ long1        <lgl> NA, NA, NA, NA, NA, NA, NA, NA, NA, NA, NA, NA, NA, NA...\n",
      "$ lat1         <lgl> NA, NA, NA, NA, NA, NA, NA, NA, NA, NA, NA, NA, NA, NA...\n",
      "$ dist         <lgl> NA, NA, NA, NA, NA, NA, NA, NA, NA, NA, NA, NA, NA, NA...\n"
     ]
    }
   ],
   "source": [
    "# Create new variable to store data from planter\n",
    "harvest_grid <- harvest_grid %>%\n",
    "    mutate(variety = NA,\n",
    "           seeding_rate = NA,\n",
    "           seed_spacing = NA,\n",
    "           speed = NA,\n",
    "           long1 = NA,\n",
    "           lat1 = NA,\n",
    "           dist = NA)\n",
    "glimpse(harvest_grid)"
   ]
  },
  {
   "cell_type": "markdown",
   "metadata": {},
   "source": [
    "The nearest neighbour grid search search is done horizontally and vertically. For example if the selected grid is 3-3, then the nearest neighbour grids are as below."
   ]
  },
  {
   "cell_type": "code",
   "execution_count": 21,
   "metadata": {
    "collapsed": false
   },
   "outputs": [
    {
     "name": "stdout",
     "output_type": "stream",
     "text": [
      "3-2 2-3 3-3 4-3 3-4\n"
     ]
    }
   ],
   "source": [
    "n <- unlist(strsplit('3-3', '-'))\n",
    "row <- as.integer(n[1])\n",
    "col <- as.integer(n[2])   \n",
    "neighbour <- c(paste0(row,\"-\",col-1),\n",
    "               paste0(row-1,\"-\",col),\n",
    "               paste0(row,\"-\",col),\n",
    "               paste0(row+1,\"-\",col),\n",
    "               paste0(row,\"-\",col+1))  \n",
    "cat(neighbour, fill=T)"
   ]
  },
  {
   "cell_type": "markdown",
   "metadata": {},
   "source": [
    "Putting it all together. The code takes ~4 min to run. Please be patient."
   ]
  },
  {
   "cell_type": "code",
   "execution_count": 22,
   "metadata": {
    "collapsed": false
   },
   "outputs": [
    {
     "name": "stdout",
     "output_type": "stream",
     "text": [
      "***Process completed in 3.34 min!***\n"
     ]
    }
   ],
   "source": [
    "timer <- Sys.time()\n",
    "#pb <- txtProgressBar(max=nrow(harvest_grid), style = 3)\n",
    "for(i in 1:nrow(harvest_grid)){\n",
    "    harvest.gps <- harvest_grid[i,]\n",
    "    \n",
    "    n <- unlist(strsplit(harvest.gps$value, '-'))\n",
    "    row <- as.integer(n[1])\n",
    "    col <- as.integer(n[2])        \n",
    "    # filter the rows from planter - nearest neighbour search      \n",
    "    neighbour <- c(paste0(row,\"-\",col-1),\n",
    "                   paste0(row-1,\"-\",col),\n",
    "                   paste0(row,\"-\",col),\n",
    "                   paste0(row+1,\"-\",col),\n",
    "                   paste0(row,\"-\",col+1))       \n",
    "    planter.gps <- planter_grid %>% filter(value %in% neighbour)\n",
    "    \n",
    "    if(nrow(planter.gps)>0){\n",
    "        # store gps coordinates for vector based operation\n",
    "        planter.gps$long1 <- harvest.gps$long\n",
    "        planter.gps$lat1 <- harvest.gps$lat\n",
    "        \n",
    "        # find the distance between gps coordinates\n",
    "        planter.gps$dist <- distm(as.matrix(planter.gps[,c('long','lat')]), as.matrix(planter.gps[,c('long1','lat1')]), fun = distHaversine)[,1]\n",
    "        planter.gps <- planter.gps %>% filter(dist == min(dist)) %>% select(-long1, -lat1, -group)\n",
    "        \n",
    "        # map the data back to harvest\n",
    "        harvest_grid[i, \"variety\"] <- planter.gps[1,\"variety\"]\n",
    "        harvest_grid[i, \"seeding_rate\"] <- planter.gps[1,\"seeding_rate\"]\n",
    "        harvest_grid[i, \"seed_spacing\"] <- planter.gps[1,\"seed_spacing\"]\n",
    "        harvest_grid[i, \"speed\"] <- planter.gps[1,\"speed\"]\n",
    "        harvest_grid[i, \"long1\"] <- planter.gps[1,\"long\"]\n",
    "        harvest_grid[i, \"lat1\"] <- planter.gps[1,\"lat\"]\n",
    "        harvest_grid[i, \"dist\"] <- planter.gps[1,\"dist\"]\n",
    "    }\n",
    "    #setTxtProgressBar(pb, i)\n",
    "}\n",
    "cat(\"***Process completed in\",round(difftime(Sys.time(), timer, tz = \"\", units = \"mins\"),2),\"min!***\", fill=T)"
   ]
  },
  {
   "cell_type": "code",
   "execution_count": 24,
   "metadata": {
    "collapsed": false
   },
   "outputs": [
    {
     "name": "stdout",
     "output_type": "stream",
     "text": [
      "Observations: 16,626\n",
      "Variables: 12\n",
      "$ long         <dbl> -91.850657942, -91.850656829, -91.850656369, -91.85065...\n",
      "$ lat          <dbl> 40.375893366, 40.375903539, 40.375914728, 40.375926576...\n",
      "$ yield        <dbl> 216.92110846, 218.21178574, 241.78874780, 227.94857084...\n",
      "$ value        <chr> \"1-1\", \"1-1\", \"1-1\", \"2-1\", \"2-1\", \"2-1\", \"2-1\", \"2-1\"...\n",
      "$ group        <int> 1, 1, 1, 42, 42, 42, 42, 42, 42, 42, 83, 83, 83, 83, 8...\n",
      "$ variety      <chr> \"DKC63-33RIB\", \"DKC63-33RIB\", \"DKC63-33RIB\", \"DKC63-33...\n",
      "$ seeding_rate <dbl> 0.0000, 0.0000, 0.0000, 0.0000, 0.0000, 0.0000, 0.0000...\n",
      "$ seed_spacing <dbl> 0.0000, 0.0000, 0.0000, 0.0000, 0.0000, 0.0000, 0.0000...\n",
      "$ speed        <dbl> 0.02, 0.02, 0.02, 3.75, 3.75, 3.75, 3.75, 3.75, 3.76, ...\n",
      "$ long1        <dbl> -91.8506140, -91.8506140, -91.8506140, -91.8506124, -9...\n",
      "$ lat1         <dbl> 40.375880452, 40.375880452, 40.375880452, 40.375968352...\n",
      "$ dist         <dbl> 3.9942087025, 4.4494600649, 5.2411452085, 5.9320448613...\n"
     ]
    }
   ],
   "source": [
    "glimpse(harvest_grid)"
   ]
  },
  {
   "cell_type": "markdown",
   "metadata": {},
   "source": [
    "## Efficiency Metric"
   ]
  },
  {
   "cell_type": "markdown",
   "metadata": {
    "collapsed": true
   },
   "source": [
    "Besides the time taken to complete, the distance between planter and harvester data points is the metric which decides if the points are tightly clustered. \n",
    "\n",
    "Let's visualize the histogram of distance between planter and harvester."
   ]
  },
  {
   "cell_type": "code",
   "execution_count": 25,
   "metadata": {
    "collapsed": false
   },
   "outputs": [
    {
     "name": "stderr",
     "output_type": "stream",
     "text": [
      "`stat_bin()` using `bins = 30`. Pick better value with `binwidth`.\n"
     ]
    }
   ],
   "source": [
    "plot_hist <- harvest_grid %>% ggplot(aes(x=dist)) + geom_histogram()\n",
    "ggsave('images/planter-harvester-hist.jpg', plot = plot_hist, width = 8, height = 4)"
   ]
  },
  {
   "cell_type": "markdown",
   "metadata": {},
   "source": [
    "![Planter-Harvester-Histogram](images/planter-harvester-hist.jpg)"
   ]
  },
  {
   "cell_type": "markdown",
   "metadata": {},
   "source": [
    "The distance is mostly 3 metres i.e. 10 feet, which is reasonable given the fact that the precision machines are multi row."
   ]
  },
  {
   "cell_type": "markdown",
   "metadata": {},
   "source": [
    "### Save the file"
   ]
  },
  {
   "cell_type": "code",
   "execution_count": 26,
   "metadata": {
    "collapsed": true
   },
   "outputs": [],
   "source": [
    "write.csv(harvest_grid, file = \"planter-harvester.csv\", row.names=FALSE)"
   ]
  },
  {
   "cell_type": "markdown",
   "metadata": {},
   "source": [
    "### Note"
   ]
  },
  {
   "cell_type": "markdown",
   "metadata": {},
   "source": [
    "1. The ‘haversine’ formula is used to calculate distance between 2 gps coordinates. Other formulae like Cosine, VincentySphere, VincentyEllipsoid can be used.\n",
    "2. The operation is sequential and takes ~4 min. The entire process could be executed in parallel _(using `foreach()`)_ to improve efficiency, as all computations are independent.\n",
    "3. Distance between longitude and latitude is constant over a smaller area. i.e. the field is flat. In reality this isn't the case. The distance between longitudes is 0km at poles and ~133km at the equator. The distance between latitudes is ~111km."
   ]
  },
  {
   "cell_type": "markdown",
   "metadata": {},
   "source": [
    "## Statistical Analysis"
   ]
  },
  {
   "cell_type": "markdown",
   "metadata": {},
   "source": [
    "Let's group the data by the corn variety."
   ]
  },
  {
   "cell_type": "code",
   "execution_count": 27,
   "metadata": {
    "collapsed": false
   },
   "outputs": [
    {
     "data": {
      "text/html": [
       "<table>\n",
       "<thead><tr><th></th><th scope=col>variety</th><th scope=col>count</th><th scope=col>sum</th><th scope=col>sd</th></tr></thead>\n",
       "<tbody>\n",
       "\t<tr><th scope=row>1</th><td>DKC63-33RIB     </td><td>14372           </td><td>3332944.0397097 </td><td>25.0110720021795</td></tr>\n",
       "\t<tr><th scope=row>2</th><td>P1498           </td><td>2254            </td><td>510186.572986916</td><td>34.6597138288796</td></tr>\n",
       "</tbody>\n",
       "</table>\n"
      ],
      "text/latex": [
       "\\begin{tabular}{r|llll}\n",
       "  & variety & count & sum & sd\\\\\n",
       "\\hline\n",
       "\t1 & DKC63-33RIB      & 14372            & 3332944.0397097  & 25.0110720021795\\\\\n",
       "\t2 & P1498            & 2254             & 510186.572986916 & 34.6597138288796\\\\\n",
       "\\end{tabular}\n"
      ],
      "text/plain": [
       "      variety count           sum           sd\n",
       "1 DKC63-33RIB 14372 3332944.03971 25.011072002\n",
       "2       P1498  2254  510186.57299 34.659713829"
      ]
     },
     "metadata": {},
     "output_type": "display_data"
    }
   ],
   "source": [
    "harvest_grid %>% group_by(variety) %>% summarise(count = n(), sum = sum(yield), sd = sd(yield))"
   ]
  },
  {
   "cell_type": "markdown",
   "metadata": {},
   "source": [
    "There are just two variety of corn. Looks like `DKC63-33RIB` is the main one, while `P1498` is a trail for yield.\n",
    "\n",
    "Besides from my understanding of corn farming, a genetically modified variety yields ~200 bushels/acre. But each data point in the `harvester_data.csv` has yield ~200 with the unit bushels/acre as mentioned. This isn't possible as each gps point isn't an acre."
   ]
  },
  {
   "cell_type": "markdown",
   "metadata": {},
   "source": [
    "Now let's plot a density plot for yield for both the corn variety."
   ]
  },
  {
   "cell_type": "code",
   "execution_count": 28,
   "metadata": {
    "collapsed": false
   },
   "outputs": [],
   "source": [
    "plot_den <- harvest_grid %>% ggplot(aes(x=yield, fill=variety)) +\n",
    "    geom_histogram(aes(y=..density..), binwidth=.5, alpha=.5, position=\"identity\")    \n",
    "ggsave('images/corn-variety.jpg', plot = plot_den, width = 8, height = 4)"
   ]
  },
  {
   "cell_type": "markdown",
   "metadata": {},
   "source": [
    "![Corn-Variety](images/corn-variety.jpg)"
   ]
  },
  {
   "cell_type": "markdown",
   "metadata": {},
   "source": [
    "Looks like the `P1498` has more instances where the yield is below 200 units."
   ]
  },
  {
   "cell_type": "markdown",
   "metadata": {},
   "source": [
    "The next logical question would be - is `P1498` variety significantly different from `DKC63-33RIB` variety in terms of yield? Let's check the mean first."
   ]
  },
  {
   "cell_type": "code",
   "execution_count": 29,
   "metadata": {
    "collapsed": false
   },
   "outputs": [
    {
     "data": {
      "text/html": [
       "<table>\n",
       "<thead><tr><th></th><th scope=col>variety</th><th scope=col>count</th><th scope=col>mean</th><th scope=col>sd</th></tr></thead>\n",
       "<tbody>\n",
       "\t<tr><th scope=row>1</th><td>DKC63-33RIB     </td><td>14372           </td><td>231.905374318793</td><td>25.0110720021795</td></tr>\n",
       "\t<tr><th scope=row>2</th><td>P1498           </td><td>2254            </td><td>226.347192984435</td><td>34.6597138288796</td></tr>\n",
       "</tbody>\n",
       "</table>\n"
      ],
      "text/latex": [
       "\\begin{tabular}{r|llll}\n",
       "  & variety & count & mean & sd\\\\\n",
       "\\hline\n",
       "\t1 & DKC63-33RIB      & 14372            & 231.905374318793 & 25.0110720021795\\\\\n",
       "\t2 & P1498            & 2254             & 226.347192984435 & 34.6597138288796\\\\\n",
       "\\end{tabular}\n"
      ],
      "text/plain": [
       "      variety count         mean           sd\n",
       "1 DKC63-33RIB 14372 231.90537432 25.011072002\n",
       "2       P1498  2254 226.34719298 34.659713829"
      ]
     },
     "metadata": {},
     "output_type": "display_data"
    }
   ],
   "source": [
    "harvest_grid %>% group_by(variety) %>% summarise(count = n(), mean = mean(yield), sd = sd(yield))"
   ]
  },
  {
   "cell_type": "markdown",
   "metadata": {},
   "source": [
    "A **two tailed t-test** is required to determine if the means are statistically different.\n",
    "\n",
    "Let's frame the **hypothesis**:\n",
    "\n",
    "$ H_0: \\mu_{DKC63-33RIB} - \\mu_{P1498} = 0$\n",
    "\n",
    "$ H_1: \\mu_{DKC63-33RIB} - \\mu_{P1498} \\neq 0$"
   ]
  },
  {
   "cell_type": "code",
   "execution_count": 31,
   "metadata": {
    "collapsed": false
   },
   "outputs": [
    {
     "name": "stdout",
     "output_type": "stream",
     "text": [
      "Confidence interval (CI): 4.0693594537 7.047003215\n",
      "P-value: 3.2667180289e-13\n"
     ]
    }
   ],
   "source": [
    "h <- t.test(filter(harvest_grid, variety=='DKC63-33RIB') %>% .$yield,\n",
    "          filter(harvest_grid, variety=='P1498') %>% .$yield,\n",
    "          paired = F, var.equal = FALSE)\n",
    "cat(\"Confidence interval (CI):\", h$conf.int, fill=T)\n",
    "cat(\"P-value:\", h$p.value, fill=T)"
   ]
  },
  {
   "cell_type": "markdown",
   "metadata": {},
   "source": [
    "The p-value is less than 0.05 (assuming a 95% CI) and 0 isn't in the CI. So we reject the $H_0$. In this case `DKC63-33RIB` variety has better yield compared to the `P1498` variety by 4-7 units per acre."
   ]
  },
  {
   "cell_type": "markdown",
   "metadata": {},
   "source": [
    "Next, let's check the influence of the variables - seeding rate, seed spacing and speed on yield for the major variety `DKC63-33RIB`.\n",
    "\n",
    "First, let's examine each of these variables."
   ]
  },
  {
   "cell_type": "code",
   "execution_count": 32,
   "metadata": {
    "collapsed": false
   },
   "outputs": [],
   "source": [
    "DKC63_33RIB <- harvest_grid %>% filter(variety == 'DKC63-33RIB')\n",
    "p1 <- DKC63_33RIB %>% ggplot(aes(x=seeding_rate)) + geom_histogram(binwidth=.5, alpha=.5, position=\"identity\")\n",
    "p2 <- DKC63_33RIB %>% ggplot(aes(x=seed_spacing)) + geom_histogram(binwidth=.5, alpha=.5, position=\"identity\")\n",
    "p3 <- DKC63_33RIB %>% ggplot(aes(x=speed)) + geom_histogram(binwidth=.5, alpha=.5, position=\"identity\")\n",
    "plot_p1 <- plot_grid(p1,p2,p3, nrow = 1, ncol = 3)\n",
    "ggsave('images/DKC63_33RIB.jpg', plot = plot_p1, width = 8, height = 3)"
   ]
  },
  {
   "cell_type": "markdown",
   "metadata": {},
   "source": [
    "![Corn-Variety-DKC63_33RIB](images/DKC63_33RIB.jpg)"
   ]
  },
  {
   "cell_type": "code",
   "execution_count": 33,
   "metadata": {
    "collapsed": true
   },
   "outputs": [],
   "source": [
    "P1498 <- harvest_grid %>% filter(variety == 'P1498')\n",
    "p1 <- P1498 %>% ggplot(aes(x=seeding_rate)) + geom_histogram(binwidth=.5, alpha=.5, position=\"identity\")\n",
    "p2 <- P1498 %>% ggplot(aes(x=seed_spacing)) + geom_histogram(binwidth=.5, alpha=.5, position=\"identity\")\n",
    "p3 <- P1498 %>% ggplot(aes(x=speed)) + geom_histogram(binwidth=.5, alpha=.5, position=\"identity\")\n",
    "plot_p2 <- plot_grid(p1,p2,p3, nrow = 1, ncol = 3)\n",
    "ggsave('images/P1498.jpg', plot = plot_p2, width = 8, height = 3)"
   ]
  },
  {
   "cell_type": "markdown",
   "metadata": {
    "collapsed": false
   },
   "source": [
    "![Corn-Variety-P1498](images/P1498.jpg)"
   ]
  },
  {
   "cell_type": "markdown",
   "metadata": {},
   "source": [
    "Let's check for the correlations."
   ]
  },
  {
   "cell_type": "code",
   "execution_count": 34,
   "metadata": {
    "collapsed": false
   },
   "outputs": [
    {
     "data": {
      "text/html": [
       "<table>\n",
       "<thead><tr><th></th><th scope=col>yield</th><th scope=col>seeding_rate</th><th scope=col>seed_spacing</th><th scope=col>speed</th></tr></thead>\n",
       "<tbody>\n",
       "\t<tr><th scope=row>yield</th><td> 1.000000000000</td><td> 0.025440208633</td><td>-0.028035536397</td><td> 0.055932730337</td></tr>\n",
       "\t<tr><th scope=row>seeding_rate</th><td> 0.025440208633</td><td> 1.000000000000</td><td>-0.110126202364</td><td> 0.315066766633</td></tr>\n",
       "\t<tr><th scope=row>seed_spacing</th><td>-0.028035536397</td><td>-0.110126202364</td><td> 1.000000000000</td><td> 0.011788013335</td></tr>\n",
       "\t<tr><th scope=row>speed</th><td>0.055932730337</td><td>0.315066766633</td><td>0.011788013335</td><td>1.000000000000</td></tr>\n",
       "</tbody>\n",
       "</table>\n"
      ],
      "text/latex": [
       "\\begin{tabular}{r|llll}\n",
       "  & yield & seeding\\_rate & seed\\_spacing & speed\\\\\n",
       "\\hline\n",
       "\tyield &  1.000000000000 &  0.025440208633 & -0.028035536397 &  0.055932730337\\\\\n",
       "\tseeding\\_rate &  0.025440208633 &  1.000000000000 & -0.110126202364 &  0.315066766633\\\\\n",
       "\tseed\\_spacing & -0.028035536397 & -0.110126202364 &  1.000000000000 &  0.011788013335\\\\\n",
       "\tspeed & 0.055932730337 & 0.315066766633 & 0.011788013335 & 1.000000000000\\\\\n",
       "\\end{tabular}\n"
      ],
      "text/markdown": [
       "1. 1\n",
       "2. 0.0254402086330402\n",
       "3. -0.0280355363971405\n",
       "4. 0.0559327303373894\n",
       "5. 0.0254402086330402\n",
       "6. 1\n",
       "7. -0.110126202363718\n",
       "8. 0.31506676663344\n",
       "9. -0.0280355363971405\n",
       "10. -0.110126202363718\n",
       "11. 1\n",
       "12. 0.0117880133350436\n",
       "13. 0.0559327303373894\n",
       "14. 0.31506676663344\n",
       "15. 0.0117880133350436\n",
       "16. 1\n",
       "\n",
       "\n"
      ],
      "text/plain": [
       "                       yield    seeding_rate    seed_spacing          speed\n",
       "yield         1.000000000000  0.025440208633 -0.028035536397 0.055932730337\n",
       "seeding_rate  0.025440208633  1.000000000000 -0.110126202364 0.315066766633\n",
       "seed_spacing -0.028035536397 -0.110126202364  1.000000000000 0.011788013335\n",
       "speed         0.055932730337  0.315066766633  0.011788013335 1.000000000000"
      ]
     },
     "metadata": {},
     "output_type": "display_data"
    }
   ],
   "source": [
    "cor(DKC63_33RIB %>% select(yield, seeding_rate, seed_spacing, speed))"
   ]
  },
  {
   "cell_type": "code",
   "execution_count": 35,
   "metadata": {
    "collapsed": false
   },
   "outputs": [
    {
     "data": {
      "text/html": [
       "<table>\n",
       "<thead><tr><th></th><th scope=col>yield</th><th scope=col>seeding_rate</th><th scope=col>seed_spacing</th><th scope=col>speed</th></tr></thead>\n",
       "<tbody>\n",
       "\t<tr><th scope=row>yield</th><td> 1.000000000000</td><td> 0.101515181511</td><td>-0.089742169382</td><td>-0.022399522796</td></tr>\n",
       "\t<tr><th scope=row>seeding_rate</th><td> 0.10151518151</td><td> 1.00000000000</td><td>-0.97720824192</td><td> 0.10073656335</td></tr>\n",
       "\t<tr><th scope=row>seed_spacing</th><td>-0.089742169382</td><td>-0.977208241916</td><td> 1.000000000000</td><td>-0.129996584027</td></tr>\n",
       "\t<tr><th scope=row>speed</th><td>-0.022399522796</td><td> 0.100736563347</td><td>-0.129996584027</td><td> 1.000000000000</td></tr>\n",
       "</tbody>\n",
       "</table>\n"
      ],
      "text/latex": [
       "\\begin{tabular}{r|llll}\n",
       "  & yield & seeding\\_rate & seed\\_spacing & speed\\\\\n",
       "\\hline\n",
       "\tyield &  1.000000000000 &  0.101515181511 & -0.089742169382 & -0.022399522796\\\\\n",
       "\tseeding\\_rate &  0.10151518151 &  1.00000000000 & -0.97720824192 &  0.10073656335\\\\\n",
       "\tseed\\_spacing & -0.089742169382 & -0.977208241916 &  1.000000000000 & -0.129996584027\\\\\n",
       "\tspeed & -0.022399522796 &  0.100736563347 & -0.129996584027 &  1.000000000000\\\\\n",
       "\\end{tabular}\n"
      ],
      "text/markdown": [
       "1. 1\n",
       "2. 0.10151518151076\n",
       "3. -0.0897421693818271\n",
       "4. -0.0223995227959041\n",
       "5. 0.10151518151076\n",
       "6. 1\n",
       "7. -0.97720824191604\n",
       "8. 0.10073656334705\n",
       "9. -0.0897421693818271\n",
       "10. -0.97720824191604\n",
       "11. 1\n",
       "12. -0.129996584027139\n",
       "13. -0.0223995227959041\n",
       "14. 0.10073656334705\n",
       "15. -0.129996584027139\n",
       "16. 1\n",
       "\n",
       "\n"
      ],
      "text/plain": [
       "                       yield   seeding_rate    seed_spacing           speed\n",
       "yield         1.000000000000  0.10151518151 -0.089742169382 -0.022399522796\n",
       "seeding_rate  0.101515181511  1.00000000000 -0.977208241916  0.100736563347\n",
       "seed_spacing -0.089742169382 -0.97720824192  1.000000000000 -0.129996584027\n",
       "speed        -0.022399522796  0.10073656335 -0.129996584027  1.000000000000"
      ]
     },
     "metadata": {},
     "output_type": "display_data"
    }
   ],
   "source": [
    "cor(P1498 %>% select(yield, seeding_rate, seed_spacing, speed))"
   ]
  },
  {
   "cell_type": "markdown",
   "metadata": {},
   "source": [
    "Only seeding_rate and seed_spacing are strongly negatively correlated. None of the variables are correlated with yield."
   ]
  },
  {
   "cell_type": "markdown",
   "metadata": {},
   "source": [
    "From my understanding on corn farming _from the documentary [King Corn (2007)](http://www.imdb.com/title/tt1112115)_,\n",
    "\n",
    "- The kernels(seeds) are sown in April/May with fertilizer.\n",
    "- Fertilizer: ~150 pound anhydrous ammonia per acre. This depends on the type of soil.\n",
    "- ~31000 kernels planted per acre.\n",
    "- Herbicide sprayed in June.\n",
    "- Harvested in October/November.\n",
    "    \n",
    "So essentially there are several factors in play that influence yield."
   ]
  },
  {
   "cell_type": "markdown",
   "metadata": {},
   "source": [
    "## SessionInfo"
   ]
  },
  {
   "cell_type": "code",
   "execution_count": 36,
   "metadata": {
    "collapsed": false
   },
   "outputs": [
    {
     "data": {
      "text/plain": [
       "R version 3.3.1 (2016-06-21)\n",
       "Platform: x86_64-apple-darwin11.0.0 (64-bit)\n",
       "Running under: OS X 10.10.5 (Yosemite)\n",
       "\n",
       "locale:\n",
       "[1] C\n",
       "\n",
       "attached base packages:\n",
       "[1] stats     graphics  grDevices utils     datasets  methods   base     \n",
       "\n",
       "other attached packages:\n",
       "[1] cowplot_0.7.0     data.table_1.10.4 dplyr_0.5.0       geosphere_1.5-5  \n",
       "[5] sp_1.2-4          ggmap_2.6.1       ggplot2_2.2.1    \n",
       "\n",
       "loaded via a namespace (and not attached):\n",
       " [1] Rcpp_0.12.9       plyr_1.8.4        tools_3.3.1       digest_0.6.9     \n",
       " [5] uuid_0.1-2        jsonlite_1.2      evaluate_0.9      memoise_1.0.0    \n",
       " [9] tibble_1.2        gtable_0.2.0      lattice_0.20-34   png_0.1-7        \n",
       "[13] IRdisplay_0.4.3   DBI_0.5-1         mapproj_1.2-4     IRkernel_0.7     \n",
       "[17] proto_1.0.0       repr_0.7          stringr_1.1.0     RgoogleMaps_1.4.1\n",
       "[21] maps_3.1.1        grid_3.3.1        R6_2.1.2          jpeg_0.1-8       \n",
       "[25] pbdZMQ_0.2-3      readr_1.0.0       reshape2_1.4.2    magrittr_1.5     \n",
       "[29] scales_0.4.1      assertthat_0.1    colorspace_1.3-2  labeling_0.3     \n",
       "[33] stringi_1.1.2     lazyeval_0.2.0    munsell_0.4.3     crayon_1.3.1     \n",
       "[37] rjson_0.2.15     "
      ]
     },
     "metadata": {},
     "output_type": "display_data"
    }
   ],
   "source": [
    "sessionInfo()"
   ]
  }
 ],
 "metadata": {
  "anaconda-cloud": {},
  "kernelspec": {
   "display_name": "R",
   "language": "R",
   "name": "ir"
  },
  "language_info": {
   "codemirror_mode": "r",
   "file_extension": ".r",
   "mimetype": "text/x-r-source",
   "name": "R",
   "pygments_lexer": "r",
   "version": "3.3.1"
  }
 },
 "nbformat": 4,
 "nbformat_minor": 1
}
