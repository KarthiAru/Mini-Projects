{
 "cells": [
  {
   "cell_type": "markdown",
   "metadata": {},
   "source": [
    "# Squad Optimization"
   ]
  },
  {
   "cell_type": "markdown",
   "metadata": {},
   "source": [
    "### Load packages"
   ]
  },
  {
   "cell_type": "code",
   "execution_count": 1,
   "metadata": {
    "collapsed": false
   },
   "outputs": [
    {
     "name": "stderr",
     "output_type": "stream",
     "text": [
      "\n",
      "Attaching package: 'dplyr'\n",
      "\n",
      "The following objects are masked from 'package:stats':\n",
      "\n",
      "    filter, lag\n",
      "\n",
      "The following objects are masked from 'package:base':\n",
      "\n",
      "    intersect, setdiff, setequal, union\n",
      "\n",
      "ROI: R Optimization Infrastructure\n",
      "Registered solver plugins: nlminb, cplex, glpk, lpsolve.\n",
      "Default solver: auto.\n"
     ]
    }
   ],
   "source": [
    "library(dplyr)\n",
    "library(ROI)\n",
    "library(ROI.plugin.glpk)\n",
    "library(ompr)\n",
    "library(ompr.roi)\n",
    "library(Matrix)"
   ]
  },
  {
   "cell_type": "markdown",
   "metadata": {},
   "source": [
    "### Load the dataset"
   ]
  },
  {
   "cell_type": "code",
   "execution_count": 2,
   "metadata": {
    "collapsed": true
   },
   "outputs": [],
   "source": [
    "df <- read.csv('gw20.csv')"
   ]
  },
  {
   "cell_type": "code",
   "execution_count": 3,
   "metadata": {
    "collapsed": false
   },
   "outputs": [
    {
     "data": {
      "text/html": [
       "<ol class=list-inline>\n",
       "\t<li>632</li>\n",
       "\t<li>45</li>\n",
       "</ol>\n"
      ],
      "text/latex": [
       "\\begin{enumerate*}\n",
       "\\item 632\n",
       "\\item 45\n",
       "\\end{enumerate*}\n"
      ],
      "text/markdown": [
       "1. 632\n",
       "2. 45\n",
       "\n",
       "\n"
      ],
      "text/plain": [
       "[1] 632  45"
      ]
     },
     "metadata": {},
     "output_type": "display_data"
    }
   ],
   "source": [
    "dim(df)"
   ]
  },
  {
   "cell_type": "code",
   "execution_count": 17,
   "metadata": {
    "collapsed": false
   },
   "outputs": [
    {
     "data": {
      "text/html": [
       "<ol class=list-inline>\n",
       "\t<li>'name'</li>\n",
       "\t<li>'club'</li>\n",
       "\t<li>'pos'</li>\n",
       "\t<li>'status'</li>\n",
       "\t<li>'news'</li>\n",
       "\t<li>'chance_of_playing_this_round'</li>\n",
       "\t<li>'chance_of_playing_next_round'</li>\n",
       "\t<li>'now_cost'</li>\n",
       "\t<li>'total_points'</li>\n",
       "\t<li>'event_points'</li>\n",
       "\t<li>'minutes'</li>\n",
       "\t<li>'points_per_game'</li>\n",
       "\t<li>'points_per_game_last3'</li>\n",
       "\t<li>'form'</li>\n",
       "\t<li>'value_form'</li>\n",
       "\t<li>'value_season'</li>\n",
       "\t<li>'dreamteam_count'</li>\n",
       "\t<li>'selected_by_percent'</li>\n",
       "\t<li>'transfers_out'</li>\n",
       "\t<li>'transfers_in'</li>\n",
       "\t<li>'transfers_out_event'</li>\n",
       "\t<li>'transfers_in_event'</li>\n",
       "\t<li>'cost_change_start'</li>\n",
       "\t<li>'cost_change_event'</li>\n",
       "\t<li>'cost_change_start_fall'</li>\n",
       "\t<li>'cost_change_event_fall'</li>\n",
       "\t<li>'goals_scored'</li>\n",
       "\t<li>'assists'</li>\n",
       "\t<li>'clean_sheets'</li>\n",
       "\t<li>'goals_conceded'</li>\n",
       "\t<li>'own_goals'</li>\n",
       "\t<li>'penalties_saved'</li>\n",
       "\t<li>'penalties_missed'</li>\n",
       "\t<li>'yellow_cards'</li>\n",
       "\t<li>'red_cards'</li>\n",
       "\t<li>'saves'</li>\n",
       "\t<li>'bonus'</li>\n",
       "\t<li>'bps'</li>\n",
       "\t<li>'influence'</li>\n",
       "\t<li>'creativity'</li>\n",
       "\t<li>'threat'</li>\n",
       "\t<li>'ict_index'</li>\n",
       "\t<li>'ea_index'</li>\n",
       "\t<li>'ep_this'</li>\n",
       "\t<li>'ep_next'</li>\n",
       "\t<li>'Goalkeeper'</li>\n",
       "\t<li>'Defender'</li>\n",
       "\t<li>'Midfielder'</li>\n",
       "\t<li>'Forward'</li>\n",
       "</ol>\n"
      ],
      "text/latex": [
       "\\begin{enumerate*}\n",
       "\\item 'name'\n",
       "\\item 'club'\n",
       "\\item 'pos'\n",
       "\\item 'status'\n",
       "\\item 'news'\n",
       "\\item 'chance\\_of\\_playing\\_this\\_round'\n",
       "\\item 'chance\\_of\\_playing\\_next\\_round'\n",
       "\\item 'now\\_cost'\n",
       "\\item 'total\\_points'\n",
       "\\item 'event\\_points'\n",
       "\\item 'minutes'\n",
       "\\item 'points\\_per\\_game'\n",
       "\\item 'points\\_per\\_game\\_last3'\n",
       "\\item 'form'\n",
       "\\item 'value\\_form'\n",
       "\\item 'value\\_season'\n",
       "\\item 'dreamteam\\_count'\n",
       "\\item 'selected\\_by\\_percent'\n",
       "\\item 'transfers\\_out'\n",
       "\\item 'transfers\\_in'\n",
       "\\item 'transfers\\_out\\_event'\n",
       "\\item 'transfers\\_in\\_event'\n",
       "\\item 'cost\\_change\\_start'\n",
       "\\item 'cost\\_change\\_event'\n",
       "\\item 'cost\\_change\\_start\\_fall'\n",
       "\\item 'cost\\_change\\_event\\_fall'\n",
       "\\item 'goals\\_scored'\n",
       "\\item 'assists'\n",
       "\\item 'clean\\_sheets'\n",
       "\\item 'goals\\_conceded'\n",
       "\\item 'own\\_goals'\n",
       "\\item 'penalties\\_saved'\n",
       "\\item 'penalties\\_missed'\n",
       "\\item 'yellow\\_cards'\n",
       "\\item 'red\\_cards'\n",
       "\\item 'saves'\n",
       "\\item 'bonus'\n",
       "\\item 'bps'\n",
       "\\item 'influence'\n",
       "\\item 'creativity'\n",
       "\\item 'threat'\n",
       "\\item 'ict\\_index'\n",
       "\\item 'ea\\_index'\n",
       "\\item 'ep\\_this'\n",
       "\\item 'ep\\_next'\n",
       "\\item 'Goalkeeper'\n",
       "\\item 'Defender'\n",
       "\\item 'Midfielder'\n",
       "\\item 'Forward'\n",
       "\\end{enumerate*}\n"
      ],
      "text/markdown": [
       "1. 'name'\n",
       "2. 'club'\n",
       "3. 'pos'\n",
       "4. 'status'\n",
       "5. 'news'\n",
       "6. 'chance_of_playing_this_round'\n",
       "7. 'chance_of_playing_next_round'\n",
       "8. 'now_cost'\n",
       "9. 'total_points'\n",
       "10. 'event_points'\n",
       "11. 'minutes'\n",
       "12. 'points_per_game'\n",
       "13. 'points_per_game_last3'\n",
       "14. 'form'\n",
       "15. 'value_form'\n",
       "16. 'value_season'\n",
       "17. 'dreamteam_count'\n",
       "18. 'selected_by_percent'\n",
       "19. 'transfers_out'\n",
       "20. 'transfers_in'\n",
       "21. 'transfers_out_event'\n",
       "22. 'transfers_in_event'\n",
       "23. 'cost_change_start'\n",
       "24. 'cost_change_event'\n",
       "25. 'cost_change_start_fall'\n",
       "26. 'cost_change_event_fall'\n",
       "27. 'goals_scored'\n",
       "28. 'assists'\n",
       "29. 'clean_sheets'\n",
       "30. 'goals_conceded'\n",
       "31. 'own_goals'\n",
       "32. 'penalties_saved'\n",
       "33. 'penalties_missed'\n",
       "34. 'yellow_cards'\n",
       "35. 'red_cards'\n",
       "36. 'saves'\n",
       "37. 'bonus'\n",
       "38. 'bps'\n",
       "39. 'influence'\n",
       "40. 'creativity'\n",
       "41. 'threat'\n",
       "42. 'ict_index'\n",
       "43. 'ea_index'\n",
       "44. 'ep_this'\n",
       "45. 'ep_next'\n",
       "46. 'Goalkeeper'\n",
       "47. 'Defender'\n",
       "48. 'Midfielder'\n",
       "49. 'Forward'\n",
       "\n",
       "\n"
      ],
      "text/plain": [
       " [1] \"name\"                         \"club\"                        \n",
       " [3] \"pos\"                          \"status\"                      \n",
       " [5] \"news\"                         \"chance_of_playing_this_round\"\n",
       " [7] \"chance_of_playing_next_round\" \"now_cost\"                    \n",
       " [9] \"total_points\"                 \"event_points\"                \n",
       "[11] \"minutes\"                      \"points_per_game\"             \n",
       "[13] \"points_per_game_last3\"        \"form\"                        \n",
       "[15] \"value_form\"                   \"value_season\"                \n",
       "[17] \"dreamteam_count\"              \"selected_by_percent\"         \n",
       "[19] \"transfers_out\"                \"transfers_in\"                \n",
       "[21] \"transfers_out_event\"          \"transfers_in_event\"          \n",
       "[23] \"cost_change_start\"            \"cost_change_event\"           \n",
       "[25] \"cost_change_start_fall\"       \"cost_change_event_fall\"      \n",
       "[27] \"goals_scored\"                 \"assists\"                     \n",
       "[29] \"clean_sheets\"                 \"goals_conceded\"              \n",
       "[31] \"own_goals\"                    \"penalties_saved\"             \n",
       "[33] \"penalties_missed\"             \"yellow_cards\"                \n",
       "[35] \"red_cards\"                    \"saves\"                       \n",
       "[37] \"bonus\"                        \"bps\"                         \n",
       "[39] \"influence\"                    \"creativity\"                  \n",
       "[41] \"threat\"                       \"ict_index\"                   \n",
       "[43] \"ea_index\"                     \"ep_this\"                     \n",
       "[45] \"ep_next\"                      \"Goalkeeper\"                  \n",
       "[47] \"Defender\"                     \"Midfielder\"                  \n",
       "[49] \"Forward\"                     "
      ]
     },
     "metadata": {},
     "output_type": "display_data"
    }
   ],
   "source": [
    "# columns in the dataset\n",
    "names(df)"
   ]
  },
  {
   "cell_type": "code",
   "execution_count": 5,
   "metadata": {
    "collapsed": false
   },
   "outputs": [
    {
     "data": {
      "text/html": [
       "<table>\n",
       "<thead><tr><th scope=col>name</th><th scope=col>club</th><th scope=col>pos</th><th scope=col>status</th><th scope=col>news</th><th scope=col>chance_of_playing_this_round</th><th scope=col>chance_of_playing_next_round</th><th scope=col>now_cost</th><th scope=col>total_points</th><th scope=col>event_points</th><th scope=col>⋯</th><th scope=col>saves</th><th scope=col>bonus</th><th scope=col>bps</th><th scope=col>influence</th><th scope=col>creativity</th><th scope=col>threat</th><th scope=col>ict_index</th><th scope=col>ea_index</th><th scope=col>ep_this</th><th scope=col>ep_next</th></tr></thead>\n",
       "<tbody>\n",
       "\t<tr><td>David Ospina                              </td><td>Arsenal                                   </td><td>Goalkeeper                                </td><td>active                                    </td><td>                                          </td><td>100                                       </td><td>100                                       </td><td>4.7                                       </td><td> 0                                        </td><td>0                                         </td><td><U+22EF>                                  </td><td> 0                                        </td><td> 0                                        </td><td>  0                                       </td><td>  0.0                                     </td><td>  0.0                                     </td><td>  0                                       </td><td> 0.0                                      </td><td> 56                                       </td><td>0.5                                       </td><td>1.5                                       </td></tr>\n",
       "\t<tr><td>Petr Cech                                 </td><td>Arsenal                                   </td><td>Goalkeeper                                </td><td>active                                    </td><td>                                          </td><td>100                                       </td><td>100                                       </td><td>5.4                                       </td><td>65                                        </td><td>2                                         </td><td><U+22EF>                                  </td><td>54                                        </td><td> 0                                        </td><td>334                                       </td><td>377.0                                     </td><td>  0.1                                     </td><td>  0                                       </td><td>37.9                                      </td><td>409                                       </td><td>4.8                                       </td><td>5.8                                       </td></tr>\n",
       "\t<tr><td>Laurent Koscielny                         </td><td>Arsenal                                   </td><td>Defender                                  </td><td>active                                    </td><td>                                          </td><td>100                                       </td><td>100                                       </td><td>6.3                                       </td><td>78                                        </td><td>1                                         </td><td><U+22EF>                                  </td><td> 0                                        </td><td>11                                        </td><td>447                                       </td><td>507.0                                     </td><td> 13.2                                     </td><td>117                                       </td><td>64.0                                      </td><td>493                                       </td><td>4.8                                       </td><td>5.8                                       </td></tr>\n",
       "\t<tr><td>Per Mertesacker                           </td><td>Arsenal                                   </td><td>Defender                                  </td><td>major injury                              </td><td>Knee injury - Unknown return date         </td><td>  0                                       </td><td>  0                                       </td><td>4.8                                       </td><td> 0                                        </td><td>0                                         </td><td><U+22EF>                                  </td><td> 0                                        </td><td> 0                                        </td><td>  0                                       </td><td>  0.0                                     </td><td>  0.0                                     </td><td>  0                                       </td><td> 0.0                                      </td><td>265                                       </td><td>0.0                                       </td><td>0.0                                       </td></tr>\n",
       "\t<tr><td>Gabriel Armando de Abreu                  </td><td>Arsenal                                   </td><td>Defender                                  </td><td>active                                    </td><td>                                          </td><td>100                                       </td><td>100                                       </td><td>4.8                                       </td><td>19                                        </td><td>1                                         </td><td><U+22EF>                                  </td><td> 0                                        </td><td> 0                                        </td><td>124                                       </td><td>122.0                                     </td><td> 15.1                                     </td><td> 26                                       </td><td>16.3                                      </td><td>244                                       </td><td>3.8                                       </td><td>4.8                                       </td></tr>\n",
       "\t<tr><td>H&lt;cc&gt;&lt;c4&gt;&lt;e5&gt;&lt;a9&gt;ctor Beller&lt;cc&gt;&lt;c4&gt;&lt;e5&gt;_n</td><td>Arsenal                                                                             </td><td><span style=white-space:pre-wrap>Defender  </span>                                  </td><td>major injury                                                                        </td><td>Ankle injury - Expected back 21 Jan                                                 </td><td><span style=white-space:pre-wrap>  0</span>                                         </td><td><span style=white-space:pre-wrap>  0</span>                                         </td><td>6.5                                                                                 </td><td>70                                                                                  </td><td>0                                                                                   </td><td><U+22EF>                                                                            </td><td> 0                                                                                  </td><td>10                                                                                  </td><td>324                                                                                 </td><td>240.2                                                                               </td><td>263.4                                                                               </td><td>219                                                                                 </td><td>72.0                                                                                </td><td>541                                                                                 </td><td>4.5                                                                                 </td><td>0.0                                                                                 </td></tr>\n",
       "</tbody>\n",
       "</table>\n"
      ],
      "text/latex": [
       "\\begin{tabular}{r|lllllllllllllllllllllllllllllllllllllllllllll}\n",
       " name & club & pos & status & news & chance\\_of\\_playing\\_this\\_round & chance\\_of\\_playing\\_next\\_round & now\\_cost & total\\_points & event\\_points & ⋯ & saves & bonus & bps & influence & creativity & threat & ict\\_index & ea\\_index & ep\\_this & ep\\_next\\\\\n",
       "\\hline\n",
       "\t David Ospina                               & Arsenal                                    & Goalkeeper                                 & active                                     &                                            & 100                                        & 100                                        & 4.7                                        &  0                                         & 0                                          & <U+22EF>                                   &  0                                         &  0                                         &   0                                        &   0.0                                      &   0.0                                      &   0                                        &  0.0                                       &  56                                        & 0.5                                        & 1.5                                       \\\\\n",
       "\t Petr Cech                                  & Arsenal                                    & Goalkeeper                                 & active                                     &                                            & 100                                        & 100                                        & 5.4                                        & 65                                         & 2                                          & <U+22EF>                                   & 54                                         &  0                                         & 334                                        & 377.0                                      &   0.1                                      &   0                                        & 37.9                                       & 409                                        & 4.8                                        & 5.8                                       \\\\\n",
       "\t Laurent Koscielny                          & Arsenal                                    & Defender                                   & active                                     &                                            & 100                                        & 100                                        & 6.3                                        & 78                                         & 1                                          & <U+22EF>                                   &  0                                         & 11                                         & 447                                        & 507.0                                      &  13.2                                      & 117                                        & 64.0                                       & 493                                        & 4.8                                        & 5.8                                       \\\\\n",
       "\t Per Mertesacker                            & Arsenal                                    & Defender                                   & major injury                               & Knee injury - Unknown return date          &   0                                        &   0                                        & 4.8                                        &  0                                         & 0                                          & <U+22EF>                                   &  0                                         &  0                                         &   0                                        &   0.0                                      &   0.0                                      &   0                                        &  0.0                                       & 265                                        & 0.0                                        & 0.0                                       \\\\\n",
       "\t Gabriel Armando de Abreu                   & Arsenal                                    & Defender                                   & active                                     &                                            & 100                                        & 100                                        & 4.8                                        & 19                                         & 1                                          & <U+22EF>                                   &  0                                         &  0                                         & 124                                        & 122.0                                      &  15.1                                      &  26                                        & 16.3                                       & 244                                        & 3.8                                        & 4.8                                       \\\\\n",
       "\t H<cc><c4><e5><a9>ctor Beller<cc><c4><e5>\\_n & Arsenal                                      & Defender                                     & major injury                                 & Ankle injury - Expected back 21 Jan          &   0                                          &   0                                          & 6.5                                          & 70                                           & 0                                            & <U+22EF>                                     &  0                                           & 10                                           & 324                                          & 240.2                                        & 263.4                                        & 219                                          & 72.0                                         & 541                                          & 4.5                                          & 0.0                                         \\\\\n",
       "\\end{tabular}\n"
      ],
      "text/markdown": [
       "\n",
       "name | club | pos | status | news | chance_of_playing_this_round | chance_of_playing_next_round | now_cost | total_points | event_points | ⋯ | saves | bonus | bps | influence | creativity | threat | ict_index | ea_index | ep_this | ep_next | \n",
       "|---|---|---|---|---|---|\n",
       "| David Ospina                               | Arsenal                                    | Goalkeeper                                 | active                                     |                                            | 100                                        | 100                                        | 4.7                                        |  0                                         | 0                                          | <U+22EF>                                   |  0                                         |  0                                         |   0                                        |   0.0                                      |   0.0                                      |   0                                        |  0.0                                       |  56                                        | 0.5                                        | 1.5                                        | \n",
       "| Petr Cech                                  | Arsenal                                    | Goalkeeper                                 | active                                     |                                            | 100                                        | 100                                        | 5.4                                        | 65                                         | 2                                          | <U+22EF>                                   | 54                                         |  0                                         | 334                                        | 377.0                                      |   0.1                                      |   0                                        | 37.9                                       | 409                                        | 4.8                                        | 5.8                                        | \n",
       "| Laurent Koscielny                          | Arsenal                                    | Defender                                   | active                                     |                                            | 100                                        | 100                                        | 6.3                                        | 78                                         | 1                                          | <U+22EF>                                   |  0                                         | 11                                         | 447                                        | 507.0                                      |  13.2                                      | 117                                        | 64.0                                       | 493                                        | 4.8                                        | 5.8                                        | \n",
       "| Per Mertesacker                            | Arsenal                                    | Defender                                   | major injury                               | Knee injury - Unknown return date          |   0                                        |   0                                        | 4.8                                        |  0                                         | 0                                          | <U+22EF>                                   |  0                                         |  0                                         |   0                                        |   0.0                                      |   0.0                                      |   0                                        |  0.0                                       | 265                                        | 0.0                                        | 0.0                                        | \n",
       "| Gabriel Armando de Abreu                   | Arsenal                                    | Defender                                   | active                                     |                                            | 100                                        | 100                                        | 4.8                                        | 19                                         | 1                                          | <U+22EF>                                   |  0                                         |  0                                         | 124                                        | 122.0                                      |  15.1                                      |  26                                        | 16.3                                       | 244                                        | 3.8                                        | 4.8                                        | \n",
       "| H<cc><c4><e5><a9>ctor Beller<cc><c4><e5>_n | Arsenal                                    | Defender                                   | major injury                               | Ankle injury - Expected back 21 Jan        |   0                                        |   0                                        | 6.5                                        | 70                                         | 0                                          | <U+22EF>                                   |  0                                         | 10                                         | 324                                        | 240.2                                      | 263.4                                      | 219                                        | 72.0                                       | 541                                        | 4.5                                        | 0.0                                        | \n",
       "\n",
       "\n"
      ],
      "text/plain": [
       "  name                                       club    pos        status      \n",
       "1 David Ospina                               Arsenal Goalkeeper active      \n",
       "2 Petr Cech                                  Arsenal Goalkeeper active      \n",
       "3 Laurent Koscielny                          Arsenal Defender   active      \n",
       "4 Per Mertesacker                            Arsenal Defender   major injury\n",
       "5 Gabriel Armando de Abreu                   Arsenal Defender   active      \n",
       "6 H\\314\\304\\345\\251ctor Beller\\314\\304\\345_n Arsenal Defender   major injury\n",
       "  news                                chance_of_playing_this_round\n",
       "1                                     100                         \n",
       "2                                     100                         \n",
       "3                                     100                         \n",
       "4 Knee injury - Unknown return date     0                         \n",
       "5                                     100                         \n",
       "6 Ankle injury - Expected back 21 Jan   0                         \n",
       "  chance_of_playing_next_round now_cost total_points event_points <U+22EF>  \n",
       "1 100                          4.7       0           0            <U+22EF>\n",
       "2 100                          5.4      65           2            <U+22EF>\n",
       "3 100                          6.3      78           1            <U+22EF>\n",
       "4   0                          4.8       0           0            <U+22EF>\n",
       "5 100                          4.8      19           1            <U+22EF>\n",
       "6   0                          6.5      70           0            <U+22EF>\n",
       "  saves bonus bps influence creativity threat ict_index ea_index ep_this\n",
       "1  0     0      0   0.0       0.0        0     0.0       56      0.5    \n",
       "2 54     0    334 377.0       0.1        0    37.9      409      4.8    \n",
       "3  0    11    447 507.0      13.2      117    64.0      493      4.8    \n",
       "4  0     0      0   0.0       0.0        0     0.0      265      0.0    \n",
       "5  0     0    124 122.0      15.1       26    16.3      244      3.8    \n",
       "6  0    10    324 240.2     263.4      219    72.0      541      4.5    \n",
       "  ep_next\n",
       "1 1.5    \n",
       "2 5.8    \n",
       "3 5.8    \n",
       "4 0.0    \n",
       "5 4.8    \n",
       "6 0.0    "
      ]
     },
     "metadata": {},
     "output_type": "display_data"
    }
   ],
   "source": [
    "head(df)"
   ]
  },
  {
   "cell_type": "markdown",
   "metadata": {},
   "source": [
    "### Data Transformation"
   ]
  },
  {
   "cell_type": "code",
   "execution_count": 7,
   "metadata": {
    "collapsed": true
   },
   "outputs": [],
   "source": [
    "# Encode 'position' categorical variables to binary integer values\n",
    "df$Goalkeeper = ifelse(df$pos == \"Goalkeeper\", 1, 0)\n",
    "df$Defender = ifelse(df$pos == \"Defender\", 1, 0)\n",
    "df$Midfielder = ifelse(df$pos == \"Midfielder\", 1, 0)\n",
    "df$Forward = ifelse(df$pos == \"Forward\", 1, 0)"
   ]
  },
  {
   "cell_type": "code",
   "execution_count": 8,
   "metadata": {
    "collapsed": false
   },
   "outputs": [],
   "source": [
    "# Encode 'club' categorical variables to binary integer values\n",
    "team_constraint <- t(fac2sparse(df$club))"
   ]
  },
  {
   "cell_type": "markdown",
   "metadata": {},
   "source": [
    "# Mathematical Modelling"
   ]
  },
  {
   "cell_type": "markdown",
   "metadata": {},
   "source": [
    "### Create the optimization model"
   ]
  },
  {
   "cell_type": "code",
   "execution_count": 9,
   "metadata": {
    "collapsed": true
   },
   "outputs": [],
   "source": [
    "model <- MIPModel()"
   ]
  },
  {
   "cell_type": "markdown",
   "metadata": {},
   "source": [
    "### Iteration Indices"
   ]
  },
  {
   "cell_type": "code",
   "execution_count": 6,
   "metadata": {
    "collapsed": true
   },
   "outputs": [],
   "source": [
    "n = nrow(df)"
   ]
  },
  {
   "cell_type": "markdown",
   "metadata": {},
   "source": [
    "### Define Decision Variables"
   ]
  },
  {
   "cell_type": "code",
   "execution_count": 10,
   "metadata": {
    "collapsed": true
   },
   "outputs": [],
   "source": [
    "model <- model %>%\n",
    "  add_variable(x[i], i = 1:n, type = \"binary\")"
   ]
  },
  {
   "cell_type": "markdown",
   "metadata": {},
   "source": [
    "### Define the Objective Function"
   ]
  },
  {
   "cell_type": "code",
   "execution_count": 11,
   "metadata": {
    "collapsed": true
   },
   "outputs": [],
   "source": [
    "# based on maximizing total points\n",
    "model <- model %>%\n",
    "    set_objective(sum_expr(df$total_points[i] * x[i], i = 1:n), \"max\")"
   ]
  },
  {
   "cell_type": "markdown",
   "metadata": {},
   "source": [
    "Other possible objective metrics\n",
    "\n",
    "    Metric                   Column Name\n",
    "    ------------------------------------\n",
    "    Total Points             total_points\n",
    "    Points per Game          points_per_game\n",
    "    Points per Game (last 3) points_per_game_last3\n",
    "    Form                     form\n",
    "    Value                    value\n",
    "    Bonus Points             bonus             \n",
    "    Dream Team Count         dreamteam_count\n",
    "\n",
    "You can also form hybrid metrics based on columns present in this dataframe."
   ]
  },
  {
   "cell_type": "markdown",
   "metadata": {},
   "source": [
    "### Create the constraints"
   ]
  },
  {
   "cell_type": "code",
   "execution_count": 12,
   "metadata": {
    "collapsed": true
   },
   "outputs": [],
   "source": [
    "# Squad Value\n",
    "max_cost = 105.8\n",
    "\n",
    "# Formation\n",
    "num_gk = 2\n",
    "num_def = 5\n",
    "num_mid = 5\n",
    "num_fwd = 3"
   ]
  },
  {
   "cell_type": "markdown",
   "metadata": {},
   "source": [
    "Other possible formations\n",
    "\n",
    "    1-5-2-3\n",
    "    1-5-3-2\n",
    "    1-3-5-2\n",
    "    1-4-5-1\n",
    "    1-5-4-1\n",
    "    1-4-3-3\n",
    "    1-3-4-3\n",
    "    1-4-4-2\n",
    "    1-2-5-3 (All-Out-Attack chip)"
   ]
  },
  {
   "cell_type": "code",
   "execution_count": 13,
   "metadata": {
    "collapsed": false
   },
   "outputs": [],
   "source": [
    "# Constraint 1: Formation\n",
    "model <- model %>%\n",
    "    add_constraint(sum_expr(df$Goalkeeper[i] * x[i], i = 1:n) == num_gk) %>%\n",
    "    add_constraint(sum_expr(df$Defender[i] * x[i], i = 1:n) == num_def) %>%\n",
    "    add_constraint(sum_expr(df$Midfielder[i] * x[i], i = 1:n) == num_mid) %>%\n",
    "    add_constraint(sum_expr(df$Forward[i] * x[i], i = 1:n) == num_fwd)\n",
    "\n",
    "# Constraint 2: Total Squad Value\n",
    "model <- model %>%\n",
    "    add_constraint(sum_expr(df$now_cost[i] * x[i], i = 1:n) <= max_cost)\n",
    "\n",
    "# Constraint 3: Max 3 players from a club\n",
    "for (j in 1:20){\n",
    "    model <-model %>%\n",
    "    add_constraint(sum_expr(team_constraint[i,j] * x[i], i=1:n) <= 3)\n",
    "} "
   ]
  },
  {
   "cell_type": "markdown",
   "metadata": {},
   "source": [
    "The above step takes a couple of minutes to execute. Please be patient."
   ]
  },
  {
   "cell_type": "markdown",
   "metadata": {},
   "source": [
    "### Solve the model"
   ]
  },
  {
   "cell_type": "code",
   "execution_count": 14,
   "metadata": {
    "collapsed": true
   },
   "outputs": [],
   "source": [
    "model <- model %>%\n",
    "    solve_model(with_ROI(solver = \"glpk\")) %>% \n",
    "    get_solution(x[i]) %>% \n",
    "    filter(value > 0)"
   ]
  },
  {
   "cell_type": "markdown",
   "metadata": {},
   "source": [
    "### View the solution"
   ]
  },
  {
   "cell_type": "code",
   "execution_count": 16,
   "metadata": {
    "collapsed": false
   },
   "outputs": [
    {
     "data": {
      "text/html": [
       "<table>\n",
       "<thead><tr><th scope=col>name</th><th scope=col>club</th><th scope=col>pos</th><th scope=col>status</th><th scope=col>news</th><th scope=col>chance_of_playing_this_round</th><th scope=col>chance_of_playing_next_round</th><th scope=col>now_cost</th><th scope=col>total_points</th><th scope=col>event_points</th><th scope=col>⋯</th><th scope=col>creativity</th><th scope=col>threat</th><th scope=col>ict_index</th><th scope=col>ea_index</th><th scope=col>ep_this</th><th scope=col>ep_next</th><th scope=col>Goalkeeper</th><th scope=col>Defender</th><th scope=col>Midfielder</th><th scope=col>Forward</th></tr></thead>\n",
       "<tbody>\n",
       "\t<tr><td>Charlie Daniels                 </td><td>Bournemouth                     </td><td>Defender                        </td><td>active                          </td><td>                                </td><td>100                             </td><td>100                             </td><td> 5.2                            </td><td> 88                             </td><td>11                              </td><td><U+22EF>                        </td><td>315.6                           </td><td> 202                            </td><td> 95.9                           </td><td>491                             </td><td> 5.3                            </td><td> 6.8                            </td><td>0                               </td><td>1                               </td><td>0                               </td><td>0                               </td></tr>\n",
       "\t<tr><td>Kyle Walker                     </td><td>Spurs                           </td><td>Defender                        </td><td>active                          </td><td>                                </td><td>100                             </td><td>100                             </td><td> 6.1                            </td><td> 86                             </td><td> 6                              </td><td><U+22EF>                        </td><td>389.8                           </td><td> 138                            </td><td> 95.0                           </td><td>461                             </td><td> 2.8                            </td><td> 3.3                            </td><td>0                               </td><td>1                               </td><td>0                               </td><td>0                               </td></tr>\n",
       "\t<tr><td>Gareth McAuley                  </td><td>West Brom                       </td><td>Defender                        </td><td>active                          </td><td>                                </td><td>100                             </td><td>100                             </td><td> 4.9                            </td><td> 72                             </td><td> 8                              </td><td><U+22EF>                        </td><td> 26.8                           </td><td> 228                            </td><td> 77.9                           </td><td>339                             </td><td> 4.3                            </td><td> 2.3                            </td><td>0                               </td><td>1                               </td><td>0                               </td><td>0                               </td></tr>\n",
       "\t<tr><td>C&lt;cc&gt;&lt;c4&gt;&lt;e5&gt;&lt;a9&gt;sar Azpilicueta               </td><td><span style=white-space:pre-wrap>Chelsea    </span>                    </td><td><span style=white-space:pre-wrap>Defender  </span>                     </td><td><span style=white-space:pre-wrap>active      </span>                   </td><td><span style=white-space:pre-wrap>                               </span></td><td>100                                                                    </td><td>100                                                                    </td><td> 6.6                                                                   </td><td> 97                                                                    </td><td> 1                                                                     </td><td><U+22EF>                                                               </td><td>204.5                                                                  </td><td><span style=white-space:pre-wrap>  63</span>                           </td><td> 68.5                                                                  </td><td>470                                                                    </td><td> 5.0                                                                   </td><td> 6.5                                                                   </td><td>0                                                                      </td><td>1                                                                      </td><td>0                                                                      </td><td>0                                                                      </td></tr>\n",
       "\t<tr><td>Gary Cahill                     </td><td>Chelsea                         </td><td>Defender                        </td><td>active                          </td><td>                                </td><td>100                             </td><td>100                             </td><td> 6.4                            </td><td> 96                             </td><td> 0                              </td><td><U+22EF>                        </td><td> 41.4                           </td><td> 194                            </td><td> 64.8                           </td><td>283                             </td><td> 5.5                            </td><td> 7.0                            </td><td>0                               </td><td>1                               </td><td>0                               </td><td>0                               </td></tr>\n",
       "\t<tr><td>Romelu Lukaku                   </td><td>Everton                         </td><td>Forward                         </td><td>active                          </td><td>                                </td><td>100                             </td><td>100                             </td><td> 9.5                            </td><td>110                             </td><td>11                              </td><td><U+22EF>                        </td><td>394.9                           </td><td> 787                            </td><td>175.4                           </td><td>754                             </td><td> 5.8                            </td><td> 4.8                            </td><td>0                               </td><td>0                               </td><td>0                               </td><td>1                               </td></tr>\n",
       "\t<tr><td>Zlatan Ibrahimovic              </td><td>Man Utd                         </td><td>Forward                         </td><td>minor injury                    </td><td>Illness - 75% chance of playing </td><td> 75                             </td><td> 75                             </td><td>11.6                            </td><td>123                             </td><td> 8                              </td><td><U+22EF>                        </td><td>548.8                           </td><td>1249                            </td><td>239.1                           </td><td>  0                             </td><td>11.0                            </td><td> 7.1                            </td><td>0                               </td><td>0                               </td><td>0                               </td><td>1                               </td></tr>\n",
       "\t<tr><td>Jermain Defoe                   </td><td>Sunderland                      </td><td>Forward                         </td><td>active                          </td><td>                                </td><td>100                             </td><td>100                             </td><td> 7.8                            </td><td>113                             </td><td>13                              </td><td><U+22EF>                        </td><td>160.4                           </td><td> 749                            </td><td>134.4                           </td><td>595                             </td><td> 5.3                            </td><td> 6.3                            </td><td>0                               </td><td>0                               </td><td>0                               </td><td>1                               </td></tr>\n",
       "\t<tr><td>Tom Heaton                      </td><td>Burnley                         </td><td>Goalkeeper                      </td><td>active                          </td><td>                                </td><td>100                             </td><td>100                             </td><td> 4.9                            </td><td> 80                             </td><td> 1                              </td><td><U+22EF>                        </td><td> 10.1                           </td><td>   0                            </td><td> 59.0                           </td><td>  0                             </td><td> 2.3                            </td><td> 3.3                            </td><td>1                               </td><td>0                               </td><td>0                               </td><td>0                               </td></tr>\n",
       "\t<tr><td>Thibaut Courtois                </td><td>Chelsea                         </td><td>Goalkeeper                      </td><td>active                          </td><td>                                </td><td>100                             </td><td>100                             </td><td> 5.9                            </td><td> 85                             </td><td> 1                              </td><td><U+22EF>                        </td><td>  0.0                           </td><td>   0                            </td><td> 26.5                           </td><td>230                             </td><td> 3.8                            </td><td> 5.3                            </td><td>1                               </td><td>0                               </td><td>0                               </td><td>0                               </td></tr>\n",
       "\t<tr><td><span style=white-space:pre-wrap>Alexis S&lt;cc&gt;&lt;c4&gt;&lt;e5&gt;&lt;c1&gt;nchez   </span></td><td><span style=white-space:pre-wrap>Arsenal    </span>                                             </td><td>Midfielder                                                                                      </td><td><span style=white-space:pre-wrap>active      </span>                                            </td><td><span style=white-space:pre-wrap>                               </span>                         </td><td>100                                                                                             </td><td>100                                                                                             </td><td>11.9                                                                                            </td><td>143                                                                                             </td><td> 7                                                                                              </td><td><U+22EF>                                                                                        </td><td>833.8                                                                                           </td><td>1038                                                                                            </td><td>264.5                                                                                           </td><td>690                                                                                             </td><td> 5.8                                                                                            </td><td> 6.8                                                                                            </td><td>0                                                                                               </td><td>0                                                                                               </td><td>1                                                                                               </td><td>0                                                                                               </td></tr>\n",
       "\t<tr><td>Robert Snodgrass                </td><td>Hull                            </td><td>Midfielder                      </td><td>active                          </td><td>                                </td><td>100                             </td><td>100                             </td><td> 5.8                            </td><td> 94                             </td><td>10                              </td><td><U+22EF>                        </td><td>688.7                           </td><td> 380                            </td><td>147.1                           </td><td>  0                             </td><td> 5.0                            </td><td> 5.5                            </td><td>0                               </td><td>0                               </td><td>1                               </td><td>0                               </td></tr>\n",
       "\t<tr><td>Bamidele Alli                   </td><td>Spurs                           </td><td>Midfielder                      </td><td>active                          </td><td>                                </td><td>100                             </td><td>100                             </td><td> 8.6                            </td><td>115                             </td><td>15                              </td><td><U+22EF>                        </td><td>387.7                           </td><td> 596                            </td><td>145.5                           </td><td>666                             </td><td>12.8                            </td><td>13.3                            </td><td>0                               </td><td>0                               </td><td>1                               </td><td>0                               </td></tr>\n",
       "\t<tr><td>Etienne Capoue                  </td><td>Watford                         </td><td>Midfielder                      </td><td>active                          </td><td>                                </td><td>100                             </td><td>100                             </td><td> 4.8                            </td><td> 83                             </td><td> 2                              </td><td><U+22EF>                        </td><td>409.7                           </td><td> 242                            </td><td>103.5                           </td><td>347                             </td><td> 1.5                            </td><td> 2.0                            </td><td>0                               </td><td>0                               </td><td>1                               </td><td>0                               </td></tr>\n",
       "\t<tr><td>Matt Phillips                   </td><td>West Brom                       </td><td>Midfielder                      </td><td>active                          </td><td>                                </td><td>100                             </td><td>100                             </td><td> 5.8                            </td><td>100                             </td><td> 9                              </td><td><U+22EF>                        </td><td>427.3                           </td><td> 293                            </td><td>112.4                           </td><td>  0                             </td><td> 7.5                            </td><td> 5.5                            </td><td>0                               </td><td>0                               </td><td>1                               </td><td>0                               </td></tr>\n",
       "</tbody>\n",
       "</table>\n"
      ],
      "text/latex": [
       "\\begin{tabular}{r|lllllllllllllllllllllllllllllllllllllllllllllllll}\n",
       " name & club & pos & status & news & chance\\_of\\_playing\\_this\\_round & chance\\_of\\_playing\\_next\\_round & now\\_cost & total\\_points & event\\_points & ⋯ & creativity & threat & ict\\_index & ea\\_index & ep\\_this & ep\\_next & Goalkeeper & Defender & Midfielder & Forward\\\\\n",
       "\\hline\n",
       "\t Charlie Daniels                  & Bournemouth                      & Defender                         & active                           &                                  & 100                              & 100                              &  5.2                             &  88                              & 11                               & <U+22EF>                         & 315.6                            &  202                             &  95.9                            & 491                              &  5.3                             &  6.8                             & 0                                & 1                                & 0                                & 0                               \\\\\n",
       "\t Kyle Walker                      & Spurs                            & Defender                         & active                           &                                  & 100                              & 100                              &  6.1                             &  86                              &  6                               & <U+22EF>                         & 389.8                            &  138                             &  95.0                            & 461                              &  2.8                             &  3.3                             & 0                                & 1                                & 0                                & 0                               \\\\\n",
       "\t Gareth McAuley                   & West Brom                        & Defender                         & active                           &                                  & 100                              & 100                              &  4.9                             &  72                              &  8                               & <U+22EF>                         &  26.8                            &  228                             &  77.9                            & 339                              &  4.3                             &  2.3                             & 0                                & 1                                & 0                                & 0                               \\\\\n",
       "\t C<cc><c4><e5><a9>sar Azpilicueta & Chelsea                          & Defender                         & active                           &                                  & 100                              & 100                              &  6.6                             &  97                              &  1                               & <U+22EF>                         & 204.5                            &   63                             &  68.5                            & 470                              &  5.0                             &  6.5                             & 0                                & 1                                & 0                                & 0                               \\\\\n",
       "\t Gary Cahill                      & Chelsea                          & Defender                         & active                           &                                  & 100                              & 100                              &  6.4                             &  96                              &  0                               & <U+22EF>                         &  41.4                            &  194                             &  64.8                            & 283                              &  5.5                             &  7.0                             & 0                                & 1                                & 0                                & 0                               \\\\\n",
       "\t Romelu Lukaku                    & Everton                          & Forward                          & active                           &                                  & 100                              & 100                              &  9.5                             & 110                              & 11                               & <U+22EF>                         & 394.9                            &  787                             & 175.4                            & 754                              &  5.8                             &  4.8                             & 0                                & 0                                & 0                                & 1                               \\\\\n",
       "\t Zlatan Ibrahimovic                & Man Utd                           & Forward                           & minor injury                      & Illness - 75\\% chance of playing &  75                               &  75                               & 11.6                              & 123                               &  8                                & <U+22EF>                          & 548.8                             & 1249                              & 239.1                             &   0                               & 11.0                              &  7.1                              & 0                                 & 0                                 & 0                                 & 1                                \\\\\n",
       "\t Jermain Defoe                    & Sunderland                       & Forward                          & active                           &                                  & 100                              & 100                              &  7.8                             & 113                              & 13                               & <U+22EF>                         & 160.4                            &  749                             & 134.4                            & 595                              &  5.3                             &  6.3                             & 0                                & 0                                & 0                                & 1                               \\\\\n",
       "\t Tom Heaton                       & Burnley                          & Goalkeeper                       & active                           &                                  & 100                              & 100                              &  4.9                             &  80                              &  1                               & <U+22EF>                         &  10.1                            &    0                             &  59.0                            &   0                              &  2.3                             &  3.3                             & 1                                & 0                                & 0                                & 0                               \\\\\n",
       "\t Thibaut Courtois                 & Chelsea                          & Goalkeeper                       & active                           &                                  & 100                              & 100                              &  5.9                             &  85                              &  1                               & <U+22EF>                         &   0.0                            &    0                             &  26.5                            & 230                              &  3.8                             &  5.3                             & 1                                & 0                                & 0                                & 0                               \\\\\n",
       "\t Alexis S<cc><c4><e5><c1>nchez    & Arsenal                          & Midfielder                       & active                           &                                  & 100                              & 100                              & 11.9                             & 143                              &  7                               & <U+22EF>                         & 833.8                            & 1038                             & 264.5                            & 690                              &  5.8                             &  6.8                             & 0                                & 0                                & 1                                & 0                               \\\\\n",
       "\t Robert Snodgrass                 & Hull                             & Midfielder                       & active                           &                                  & 100                              & 100                              &  5.8                             &  94                              & 10                               & <U+22EF>                         & 688.7                            &  380                             & 147.1                            &   0                              &  5.0                             &  5.5                             & 0                                & 0                                & 1                                & 0                               \\\\\n",
       "\t Bamidele Alli                    & Spurs                            & Midfielder                       & active                           &                                  & 100                              & 100                              &  8.6                             & 115                              & 15                               & <U+22EF>                         & 387.7                            &  596                             & 145.5                            & 666                              & 12.8                             & 13.3                             & 0                                & 0                                & 1                                & 0                               \\\\\n",
       "\t Etienne Capoue                   & Watford                          & Midfielder                       & active                           &                                  & 100                              & 100                              &  4.8                             &  83                              &  2                               & <U+22EF>                         & 409.7                            &  242                             & 103.5                            & 347                              &  1.5                             &  2.0                             & 0                                & 0                                & 1                                & 0                               \\\\\n",
       "\t Matt Phillips                    & West Brom                        & Midfielder                       & active                           &                                  & 100                              & 100                              &  5.8                             & 100                              &  9                               & <U+22EF>                         & 427.3                            &  293                             & 112.4                            &   0                              &  7.5                             &  5.5                             & 0                                & 0                                & 1                                & 0                               \\\\\n",
       "\\end{tabular}\n"
      ],
      "text/markdown": [
       "\n",
       "name | club | pos | status | news | chance_of_playing_this_round | chance_of_playing_next_round | now_cost | total_points | event_points | ⋯ | creativity | threat | ict_index | ea_index | ep_this | ep_next | Goalkeeper | Defender | Midfielder | Forward | \n",
       "|---|---|---|---|---|---|---|---|---|---|---|---|---|---|---|\n",
       "| Charlie Daniels                  | Bournemouth                      | Defender                         | active                           |                                  | 100                              | 100                              |  5.2                             |  88                              | 11                               | <U+22EF>                         | 315.6                            |  202                             |  95.9                            | 491                              |  5.3                             |  6.8                             | 0                                | 1                                | 0                                | 0                                | \n",
       "| Kyle Walker                      | Spurs                            | Defender                         | active                           |                                  | 100                              | 100                              |  6.1                             |  86                              |  6                               | <U+22EF>                         | 389.8                            |  138                             |  95.0                            | 461                              |  2.8                             |  3.3                             | 0                                | 1                                | 0                                | 0                                | \n",
       "| Gareth McAuley                   | West Brom                        | Defender                         | active                           |                                  | 100                              | 100                              |  4.9                             |  72                              |  8                               | <U+22EF>                         |  26.8                            |  228                             |  77.9                            | 339                              |  4.3                             |  2.3                             | 0                                | 1                                | 0                                | 0                                | \n",
       "| C<cc><c4><e5><a9>sar Azpilicueta | Chelsea                          | Defender                         | active                           |                                  | 100                              | 100                              |  6.6                             |  97                              |  1                               | <U+22EF>                         | 204.5                            |   63                             |  68.5                            | 470                              |  5.0                             |  6.5                             | 0                                | 1                                | 0                                | 0                                | \n",
       "| Gary Cahill                      | Chelsea                          | Defender                         | active                           |                                  | 100                              | 100                              |  6.4                             |  96                              |  0                               | <U+22EF>                         |  41.4                            |  194                             |  64.8                            | 283                              |  5.5                             |  7.0                             | 0                                | 1                                | 0                                | 0                                | \n",
       "| Romelu Lukaku                    | Everton                          | Forward                          | active                           |                                  | 100                              | 100                              |  9.5                             | 110                              | 11                               | <U+22EF>                         | 394.9                            |  787                             | 175.4                            | 754                              |  5.8                             |  4.8                             | 0                                | 0                                | 0                                | 1                                | \n",
       "| Zlatan Ibrahimovic               | Man Utd                          | Forward                          | minor injury                     | Illness - 75% chance of playing  |  75                              |  75                              | 11.6                             | 123                              |  8                               | <U+22EF>                         | 548.8                            | 1249                             | 239.1                            |   0                              | 11.0                             |  7.1                             | 0                                | 0                                | 0                                | 1                                | \n",
       "| Jermain Defoe                    | Sunderland                       | Forward                          | active                           |                                  | 100                              | 100                              |  7.8                             | 113                              | 13                               | <U+22EF>                         | 160.4                            |  749                             | 134.4                            | 595                              |  5.3                             |  6.3                             | 0                                | 0                                | 0                                | 1                                | \n",
       "| Tom Heaton                       | Burnley                          | Goalkeeper                       | active                           |                                  | 100                              | 100                              |  4.9                             |  80                              |  1                               | <U+22EF>                         |  10.1                            |    0                             |  59.0                            |   0                              |  2.3                             |  3.3                             | 1                                | 0                                | 0                                | 0                                | \n",
       "| Thibaut Courtois                 | Chelsea                          | Goalkeeper                       | active                           |                                  | 100                              | 100                              |  5.9                             |  85                              |  1                               | <U+22EF>                         |   0.0                            |    0                             |  26.5                            | 230                              |  3.8                             |  5.3                             | 1                                | 0                                | 0                                | 0                                | \n",
       "| Alexis S<cc><c4><e5><c1>nchez    | Arsenal                          | Midfielder                       | active                           |                                  | 100                              | 100                              | 11.9                             | 143                              |  7                               | <U+22EF>                         | 833.8                            | 1038                             | 264.5                            | 690                              |  5.8                             |  6.8                             | 0                                | 0                                | 1                                | 0                                | \n",
       "| Robert Snodgrass                 | Hull                             | Midfielder                       | active                           |                                  | 100                              | 100                              |  5.8                             |  94                              | 10                               | <U+22EF>                         | 688.7                            |  380                             | 147.1                            |   0                              |  5.0                             |  5.5                             | 0                                | 0                                | 1                                | 0                                | \n",
       "| Bamidele Alli                    | Spurs                            | Midfielder                       | active                           |                                  | 100                              | 100                              |  8.6                             | 115                              | 15                               | <U+22EF>                         | 387.7                            |  596                             | 145.5                            | 666                              | 12.8                             | 13.3                             | 0                                | 0                                | 1                                | 0                                | \n",
       "| Etienne Capoue                   | Watford                          | Midfielder                       | active                           |                                  | 100                              | 100                              |  4.8                             |  83                              |  2                               | <U+22EF>                         | 409.7                            |  242                             | 103.5                            | 347                              |  1.5                             |  2.0                             | 0                                | 0                                | 1                                | 0                                | \n",
       "| Matt Phillips                    | West Brom                        | Midfielder                       | active                           |                                  | 100                              | 100                              |  5.8                             | 100                              |  9                               | <U+22EF>                         | 427.3                            |  293                             | 112.4                            |   0                              |  7.5                             |  5.5                             | 0                                | 0                                | 1                                | 0                                | \n",
       "\n",
       "\n"
      ],
      "text/plain": [
       "   name                             club        pos        status      \n",
       "1  Charlie Daniels                  Bournemouth Defender   active      \n",
       "2  Kyle Walker                      Spurs       Defender   active      \n",
       "3  Gareth McAuley                   West Brom   Defender   active      \n",
       "4  C\\314\\304\\345\\251sar Azpilicueta Chelsea     Defender   active      \n",
       "5  Gary Cahill                      Chelsea     Defender   active      \n",
       "6  Romelu Lukaku                    Everton     Forward    active      \n",
       "7  Zlatan Ibrahimovic               Man Utd     Forward    minor injury\n",
       "8  Jermain Defoe                    Sunderland  Forward    active      \n",
       "9  Tom Heaton                       Burnley     Goalkeeper active      \n",
       "10 Thibaut Courtois                 Chelsea     Goalkeeper active      \n",
       "11 Alexis S\\314\\304\\345\\301nchez    Arsenal     Midfielder active      \n",
       "12 Robert Snodgrass                 Hull        Midfielder active      \n",
       "13 Bamidele Alli                    Spurs       Midfielder active      \n",
       "14 Etienne Capoue                   Watford     Midfielder active      \n",
       "15 Matt Phillips                    West Brom   Midfielder active      \n",
       "   news                            chance_of_playing_this_round\n",
       "1                                  100                         \n",
       "2                                  100                         \n",
       "3                                  100                         \n",
       "4                                  100                         \n",
       "5                                  100                         \n",
       "6                                  100                         \n",
       "7  Illness - 75% chance of playing  75                         \n",
       "8                                  100                         \n",
       "9                                  100                         \n",
       "10                                 100                         \n",
       "11                                 100                         \n",
       "12                                 100                         \n",
       "13                                 100                         \n",
       "14                                 100                         \n",
       "15                                 100                         \n",
       "   chance_of_playing_next_round now_cost total_points event_points <U+22EF>  \n",
       "1  100                           5.2      88          11           <U+22EF>\n",
       "2  100                           6.1      86           6           <U+22EF>\n",
       "3  100                           4.9      72           8           <U+22EF>\n",
       "4  100                           6.6      97           1           <U+22EF>\n",
       "5  100                           6.4      96           0           <U+22EF>\n",
       "6  100                           9.5     110          11           <U+22EF>\n",
       "7   75                          11.6     123           8           <U+22EF>\n",
       "8  100                           7.8     113          13           <U+22EF>\n",
       "9  100                           4.9      80           1           <U+22EF>\n",
       "10 100                           5.9      85           1           <U+22EF>\n",
       "11 100                          11.9     143           7           <U+22EF>\n",
       "12 100                           5.8      94          10           <U+22EF>\n",
       "13 100                           8.6     115          15           <U+22EF>\n",
       "14 100                           4.8      83           2           <U+22EF>\n",
       "15 100                           5.8     100           9           <U+22EF>\n",
       "   creativity threat ict_index ea_index ep_this ep_next Goalkeeper Defender\n",
       "1  315.6       202    95.9     491       5.3     6.8    0          1       \n",
       "2  389.8       138    95.0     461       2.8     3.3    0          1       \n",
       "3   26.8       228    77.9     339       4.3     2.3    0          1       \n",
       "4  204.5        63    68.5     470       5.0     6.5    0          1       \n",
       "5   41.4       194    64.8     283       5.5     7.0    0          1       \n",
       "6  394.9       787   175.4     754       5.8     4.8    0          0       \n",
       "7  548.8      1249   239.1       0      11.0     7.1    0          0       \n",
       "8  160.4       749   134.4     595       5.3     6.3    0          0       \n",
       "9   10.1         0    59.0       0       2.3     3.3    1          0       \n",
       "10   0.0         0    26.5     230       3.8     5.3    1          0       \n",
       "11 833.8      1038   264.5     690       5.8     6.8    0          0       \n",
       "12 688.7       380   147.1       0       5.0     5.5    0          0       \n",
       "13 387.7       596   145.5     666      12.8    13.3    0          0       \n",
       "14 409.7       242   103.5     347       1.5     2.0    0          0       \n",
       "15 427.3       293   112.4       0       7.5     5.5    0          0       \n",
       "   Midfielder Forward\n",
       "1  0          0      \n",
       "2  0          0      \n",
       "3  0          0      \n",
       "4  0          0      \n",
       "5  0          0      \n",
       "6  0          1      \n",
       "7  0          1      \n",
       "8  0          1      \n",
       "9  0          0      \n",
       "10 0          0      \n",
       "11 1          0      \n",
       "12 1          0      \n",
       "13 1          0      \n",
       "14 1          0      \n",
       "15 1          0      "
      ]
     },
     "metadata": {},
     "output_type": "display_data"
    }
   ],
   "source": [
    "df[model$i,] %>% arrange(pos)"
   ]
  },
  {
   "cell_type": "markdown",
   "metadata": {},
   "source": [
    "### Optimized Squad Value"
   ]
  },
  {
   "cell_type": "code",
   "execution_count": 18,
   "metadata": {
    "collapsed": false
   },
   "outputs": [
    {
     "data": {
      "text/html": [
       "105.8"
      ],
      "text/latex": [
       "105.8"
      ],
      "text/markdown": [
       "105.8"
      ],
      "text/plain": [
       "[1] 105.8"
      ]
     },
     "metadata": {},
     "output_type": "display_data"
    }
   ],
   "source": [
    "sum(df[model$i,]$now_cost)"
   ]
  }
 ],
 "metadata": {
  "anaconda-cloud": {},
  "kernelspec": {
   "display_name": "R",
   "language": "R",
   "name": "ir"
  },
  "language_info": {
   "codemirror_mode": "r",
   "file_extension": ".r",
   "mimetype": "text/x-r-source",
   "name": "R",
   "pygments_lexer": "r",
   "version": "3.3.1"
  }
 },
 "nbformat": 4,
 "nbformat_minor": 1
}
