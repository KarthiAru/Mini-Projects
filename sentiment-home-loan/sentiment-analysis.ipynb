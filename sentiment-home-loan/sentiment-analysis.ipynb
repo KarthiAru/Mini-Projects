{
 "cells": [
  {
   "cell_type": "markdown",
   "metadata": {},
   "source": [
    "# Sentiment Analysis of Home Loan User Reviews"
   ]
  },
  {
   "cell_type": "markdown",
   "metadata": {},
   "source": [
    "### Load Packages"
   ]
  },
  {
   "cell_type": "code",
   "execution_count": 1,
   "metadata": {
    "collapsed": true
   },
   "outputs": [],
   "source": [
    "import graphlab as gl"
   ]
  },
  {
   "cell_type": "code",
   "execution_count": 2,
   "metadata": {
    "collapsed": false
   },
   "outputs": [
    {
     "name": "stderr",
     "output_type": "stream",
     "text": [
      "[INFO] graphlab.cython.cy_server: GraphLab Create v2.1 started. Logging: /tmp/graphlab_server_1485548733.log\n"
     ]
    },
    {
     "name": "stdout",
     "output_type": "stream",
     "text": [
      "This non-commercial license of GraphLab Create for academic use is assigned to karthi.aru@gmail.com and will expire on May 31, 2017.\n"
     ]
    }
   ],
   "source": [
    "import matplotlib.pyplot as plt\n",
    "import seaborn as sns\n",
    "sns.set()"
   ]
  },
  {
   "cell_type": "markdown",
   "metadata": {},
   "source": [
    "### Load data"
   ]
  },
  {
   "cell_type": "code",
   "execution_count": 3,
   "metadata": {
    "collapsed": false
   },
   "outputs": [
    {
     "data": {
      "text/html": [
       "<pre>Finished parsing file /Users/Karthik/Documents/Projects/projects/sentiment-home-loan/bb_reviews.csv</pre>"
      ],
      "text/plain": [
       "Finished parsing file /Users/Karthik/Documents/Projects/projects/sentiment-home-loan/bb_reviews.csv"
      ]
     },
     "metadata": {},
     "output_type": "display_data"
    },
    {
     "data": {
      "text/html": [
       "<pre>Parsing completed. Parsed 100 lines in 0.092186 secs.</pre>"
      ],
      "text/plain": [
       "Parsing completed. Parsed 100 lines in 0.092186 secs."
      ]
     },
     "metadata": {},
     "output_type": "display_data"
    },
    {
     "name": "stdout",
     "output_type": "stream",
     "text": [
      "------------------------------------------------------\n",
      "Inferred types from first 100 line(s) of file as \n",
      "column_type_hints=[str,str,str,str]\n",
      "If parsing fails due to incorrect types, you can correct\n",
      "the inferred type list above and pass it to read_csv in\n",
      "the column_type_hints argument\n",
      "------------------------------------------------------\n"
     ]
    },
    {
     "data": {
      "text/html": [
       "<pre>Finished parsing file /Users/Karthik/Documents/Projects/projects/sentiment-home-loan/bb_reviews.csv</pre>"
      ],
      "text/plain": [
       "Finished parsing file /Users/Karthik/Documents/Projects/projects/sentiment-home-loan/bb_reviews.csv"
      ]
     },
     "metadata": {},
     "output_type": "display_data"
    },
    {
     "data": {
      "text/html": [
       "<pre>Parsing completed. Parsed 7035 lines in 0.08655 secs.</pre>"
      ],
      "text/plain": [
       "Parsing completed. Parsed 7035 lines in 0.08655 secs."
      ]
     },
     "metadata": {},
     "output_type": "display_data"
    }
   ],
   "source": [
    "df = gl.SFrame.read_csv('bb_reviews.csv')"
   ]
  },
  {
   "cell_type": "code",
   "execution_count": 4,
   "metadata": {
    "collapsed": false
   },
   "outputs": [
    {
     "data": {
      "text/html": [
       "<div style=\"max-height:1000px;max-width:1500px;overflow:auto;\"><table frame=\"box\" rules=\"cols\">\n",
       "    <tr>\n",
       "        <th style=\"padding-left: 1em; padding-right: 1em; text-align: center\">bank</th>\n",
       "        <th style=\"padding-left: 1em; padding-right: 1em; text-align: center\">city</th>\n",
       "        <th style=\"padding-left: 1em; padding-right: 1em; text-align: center\">review</th>\n",
       "        <th style=\"padding-left: 1em; padding-right: 1em; text-align: center\">date</th>\n",
       "    </tr>\n",
       "    <tr>\n",
       "        <td style=\"padding-left: 1em; padding-right: 1em; text-align: center; vertical-align: top\">ALLAHABAD BANK</td>\n",
       "        <td style=\"padding-left: 1em; padding-right: 1em; text-align: center; vertical-align: top\">ghaziabad</td>\n",
       "        <td style=\"padding-left: 1em; padding-right: 1em; text-align: center; vertical-align: top\">I have closed the housing<br>loan with Allahabad Bank ...</td>\n",
       "        <td style=\"padding-left: 1em; padding-right: 1em; text-align: center; vertical-align: top\">Jun 04, 2015</td>\n",
       "    </tr>\n",
       "    <tr>\n",
       "        <td style=\"padding-left: 1em; padding-right: 1em; text-align: center; vertical-align: top\">ALLAHABAD BANK</td>\n",
       "        <td style=\"padding-left: 1em; padding-right: 1em; text-align: center; vertical-align: top\">ranchi</td>\n",
       "        <td style=\"padding-left: 1em; padding-right: 1em; text-align: center; vertical-align: top\">I have a Home loan<br>running with Allahabad ...</td>\n",
       "        <td style=\"padding-left: 1em; padding-right: 1em; text-align: center; vertical-align: top\">Apr 07, 2015</td>\n",
       "    </tr>\n",
       "    <tr>\n",
       "        <td style=\"padding-left: 1em; padding-right: 1em; text-align: center; vertical-align: top\">ALLAHABAD BANK</td>\n",
       "        <td style=\"padding-left: 1em; padding-right: 1em; text-align: center; vertical-align: top\">kolkata</td>\n",
       "        <td style=\"padding-left: 1em; padding-right: 1em; text-align: center; vertical-align: top\">ALLAHABAD BANK people<br>were very cooperative. ...</td>\n",
       "        <td style=\"padding-left: 1em; padding-right: 1em; text-align: center; vertical-align: top\">Feb 24, 2015</td>\n",
       "    </tr>\n",
       "    <tr>\n",
       "        <td style=\"padding-left: 1em; padding-right: 1em; text-align: center; vertical-align: top\">ALLAHABAD BANK</td>\n",
       "        <td style=\"padding-left: 1em; padding-right: 1em; text-align: center; vertical-align: top\">coimbatore</td>\n",
       "        <td style=\"padding-left: 1em; padding-right: 1em; text-align: center; vertical-align: top\">In 13 working days the<br>Allahabad bank has ...</td>\n",
       "        <td style=\"padding-left: 1em; padding-right: 1em; text-align: center; vertical-align: top\">Jan 04, 2015</td>\n",
       "    </tr>\n",
       "    <tr>\n",
       "        <td style=\"padding-left: 1em; padding-right: 1em; text-align: center; vertical-align: top\">ALLAHABAD BANK</td>\n",
       "        <td style=\"padding-left: 1em; padding-right: 1em; text-align: center; vertical-align: top\">lucknow</td>\n",
       "        <td style=\"padding-left: 1em; padding-right: 1em; text-align: center; vertical-align: top\">I got the home loan with<br>allahabad bank and the ...</td>\n",
       "        <td style=\"padding-left: 1em; padding-right: 1em; text-align: center; vertical-align: top\">Dec 09, 2014</td>\n",
       "    </tr>\n",
       "    <tr>\n",
       "        <td style=\"padding-left: 1em; padding-right: 1em; text-align: center; vertical-align: top\">ALLAHABAD BANK</td>\n",
       "        <td style=\"padding-left: 1em; padding-right: 1em; text-align: center; vertical-align: top\">ghaziabad</td>\n",
       "        <td style=\"padding-left: 1em; padding-right: 1em; text-align: center; vertical-align: top\">It is a government bank<br>and they are good in ...</td>\n",
       "        <td style=\"padding-left: 1em; padding-right: 1em; text-align: center; vertical-align: top\">Oct 20, 2014</td>\n",
       "    </tr>\n",
       "    <tr>\n",
       "        <td style=\"padding-left: 1em; padding-right: 1em; text-align: center; vertical-align: top\">ALLAHABAD BANK</td>\n",
       "        <td style=\"padding-left: 1em; padding-right: 1em; text-align: center; vertical-align: top\">bangalore</td>\n",
       "        <td style=\"padding-left: 1em; padding-right: 1em; text-align: center; vertical-align: top\">The rate of interest<br>offered by Allahabad for ...</td>\n",
       "        <td style=\"padding-left: 1em; padding-right: 1em; text-align: center; vertical-align: top\">Oct 12, 2014</td>\n",
       "    </tr>\n",
       "    <tr>\n",
       "        <td style=\"padding-left: 1em; padding-right: 1em; text-align: center; vertical-align: top\">ALLAHABAD BANK</td>\n",
       "        <td style=\"padding-left: 1em; padding-right: 1em; text-align: center; vertical-align: top\">kolkata</td>\n",
       "        <td style=\"padding-left: 1em; padding-right: 1em; text-align: center; vertical-align: top\">I am holding this<br>Allahabad housing loan ...</td>\n",
       "        <td style=\"padding-left: 1em; padding-right: 1em; text-align: center; vertical-align: top\">Oct 07, 2014</td>\n",
       "    </tr>\n",
       "    <tr>\n",
       "        <td style=\"padding-left: 1em; padding-right: 1em; text-align: center; vertical-align: top\">ALLAHABAD BANK</td>\n",
       "        <td style=\"padding-left: 1em; padding-right: 1em; text-align: center; vertical-align: top\">bangalore</td>\n",
       "        <td style=\"padding-left: 1em; padding-right: 1em; text-align: center; vertical-align: top\">Allahabad bank has given<br>me a home at an interest ...</td>\n",
       "        <td style=\"padding-left: 1em; padding-right: 1em; text-align: center; vertical-align: top\">Sep 25, 2014</td>\n",
       "    </tr>\n",
       "    <tr>\n",
       "        <td style=\"padding-left: 1em; padding-right: 1em; text-align: center; vertical-align: top\">ALLAHABAD BANK</td>\n",
       "        <td style=\"padding-left: 1em; padding-right: 1em; text-align: center; vertical-align: top\">bangalore</td>\n",
       "        <td style=\"padding-left: 1em; padding-right: 1em; text-align: center; vertical-align: top\">The services was good<br>when I applied for a  ...</td>\n",
       "        <td style=\"padding-left: 1em; padding-right: 1em; text-align: center; vertical-align: top\">Jan 19, 2014</td>\n",
       "    </tr>\n",
       "</table>\n",
       "[7035 rows x 4 columns]<br/>Note: Only the head of the SFrame is printed.<br/>You can use print_rows(num_rows=m, num_columns=n) to print more rows and columns.\n",
       "</div>"
      ],
      "text/plain": [
       "Columns:\n",
       "\tbank\tstr\n",
       "\tcity\tstr\n",
       "\treview\tstr\n",
       "\tdate\tstr\n",
       "\n",
       "Rows: 7035\n",
       "\n",
       "Data:\n",
       "+----------------+------------+-------------------------------+--------------+\n",
       "|      bank      |    city    |             review            |     date     |\n",
       "+----------------+------------+-------------------------------+--------------+\n",
       "| ALLAHABAD BANK | ghaziabad  | I have closed the housing ... | Jun 04, 2015 |\n",
       "| ALLAHABAD BANK |   ranchi   | I have a Home loan running... | Apr 07, 2015 |\n",
       "| ALLAHABAD BANK |  kolkata   | ALLAHABAD BANK people were... | Feb 24, 2015 |\n",
       "| ALLAHABAD BANK | coimbatore | In 13 working days the All... | Jan 04, 2015 |\n",
       "| ALLAHABAD BANK |  lucknow   | I got the home loan with a... | Dec 09, 2014 |\n",
       "| ALLAHABAD BANK | ghaziabad  | It is a government bank an... | Oct 20, 2014 |\n",
       "| ALLAHABAD BANK | bangalore  | The rate of interest offer... | Oct 12, 2014 |\n",
       "| ALLAHABAD BANK |  kolkata   | I am holding this Allahaba... | Oct 07, 2014 |\n",
       "| ALLAHABAD BANK | bangalore  | Allahabad bank has given m... | Sep 25, 2014 |\n",
       "| ALLAHABAD BANK | bangalore  | The services was good when... | Jan 19, 2014 |\n",
       "+----------------+------------+-------------------------------+--------------+\n",
       "[7035 rows x 4 columns]\n",
       "Note: Only the head of the SFrame is printed.\n",
       "You can use print_rows(num_rows=m, num_columns=n) to print more rows and columns."
      ]
     },
     "execution_count": 4,
     "metadata": {},
     "output_type": "execute_result"
    }
   ],
   "source": [
    "df"
   ]
  },
  {
   "cell_type": "code",
   "execution_count": 5,
   "metadata": {
    "collapsed": false
   },
   "outputs": [],
   "source": [
    "model = gl.load_model('./model')"
   ]
  },
  {
   "cell_type": "code",
   "execution_count": 6,
   "metadata": {
    "collapsed": false
   },
   "outputs": [
    {
     "name": "stdout",
     "output_type": "stream",
     "text": [
      "Class                          : LogisticClassifier\n",
      "\n",
      "Schema\n",
      "------\n",
      "Number of coefficients         : 2278286\n",
      "Number of examples             : 1267133\n",
      "Number of classes              : 2\n",
      "Number of feature columns      : 1\n",
      "Number of unpacked features    : 2278285\n",
      "\n",
      "Hyperparameters\n",
      "---------------\n",
      "L1 penalty                     : 0.0\n",
      "L2 penalty                     : 0.05\n",
      "\n",
      "Training Summary\n",
      "----------------\n",
      "Solver                         : auto\n",
      "Solver iterations              : 10\n",
      "Solver status                  : TERMINATED: Iteration limit reached.\n",
      "Training time (sec)            : 39.9574\n",
      "\n",
      "Settings\n",
      "--------\n",
      "Log-likelihood                 : 68620.2104\n",
      "\n",
      "Highest Positive Coefficients\n",
      "-----------------------------\n",
      "bow[streaming/gaming.]         : 15.1311\n",
      "bow[whole....]                 : 15.0669\n",
      "bow[2bd/3bath,]                : 13.9028\n",
      "bow[later...there]             : 13.6987\n",
      "bow[cris']                     : 13.6801\n",
      "\n",
      "Lowest Negative Coefficients\n",
      "----------------------------\n",
      "bow[$136.]                     : -16.0415\n",
      "bow[directions....just]        : -15.4148\n",
      "bow[fathom!]                   : -15.1889\n",
      "bow[\"chick-fil-a\"]             : -14.8406\n",
      "bow[bece]                      : -14.2866\n",
      "\n"
     ]
    }
   ],
   "source": [
    "model.summary()"
   ]
  },
  {
   "cell_type": "code",
   "execution_count": 7,
   "metadata": {
    "collapsed": false
   },
   "outputs": [],
   "source": [
    "df['sentiment'] = df['review'].apply(lambda x : model.predict_row({'text': x}))"
   ]
  },
  {
   "cell_type": "code",
   "execution_count": 8,
   "metadata": {
    "collapsed": false
   },
   "outputs": [
    {
     "data": {
      "text/html": [
       "<div style=\"max-height:1000px;max-width:1500px;overflow:auto;\"><table frame=\"box\" rules=\"cols\">\n",
       "    <tr>\n",
       "        <th style=\"padding-left: 1em; padding-right: 1em; text-align: center\">bank</th>\n",
       "        <th style=\"padding-left: 1em; padding-right: 1em; text-align: center\">city</th>\n",
       "        <th style=\"padding-left: 1em; padding-right: 1em; text-align: center\">review</th>\n",
       "        <th style=\"padding-left: 1em; padding-right: 1em; text-align: center\">date</th>\n",
       "        <th style=\"padding-left: 1em; padding-right: 1em; text-align: center\">sentiment</th>\n",
       "    </tr>\n",
       "    <tr>\n",
       "        <td style=\"padding-left: 1em; padding-right: 1em; text-align: center; vertical-align: top\">ALLAHABAD BANK</td>\n",
       "        <td style=\"padding-left: 1em; padding-right: 1em; text-align: center; vertical-align: top\">ghaziabad</td>\n",
       "        <td style=\"padding-left: 1em; padding-right: 1em; text-align: center; vertical-align: top\">I have closed the housing<br>loan with Allahabad Bank ...</td>\n",
       "        <td style=\"padding-left: 1em; padding-right: 1em; text-align: center; vertical-align: top\">Jun 04, 2015</td>\n",
       "        <td style=\"padding-left: 1em; padding-right: 1em; text-align: center; vertical-align: top\">0.303764227889</td>\n",
       "    </tr>\n",
       "    <tr>\n",
       "        <td style=\"padding-left: 1em; padding-right: 1em; text-align: center; vertical-align: top\">ALLAHABAD BANK</td>\n",
       "        <td style=\"padding-left: 1em; padding-right: 1em; text-align: center; vertical-align: top\">ranchi</td>\n",
       "        <td style=\"padding-left: 1em; padding-right: 1em; text-align: center; vertical-align: top\">I have a Home loan<br>running with Allahabad ...</td>\n",
       "        <td style=\"padding-left: 1em; padding-right: 1em; text-align: center; vertical-align: top\">Apr 07, 2015</td>\n",
       "        <td style=\"padding-left: 1em; padding-right: 1em; text-align: center; vertical-align: top\">0.916230442391</td>\n",
       "    </tr>\n",
       "    <tr>\n",
       "        <td style=\"padding-left: 1em; padding-right: 1em; text-align: center; vertical-align: top\">ALLAHABAD BANK</td>\n",
       "        <td style=\"padding-left: 1em; padding-right: 1em; text-align: center; vertical-align: top\">kolkata</td>\n",
       "        <td style=\"padding-left: 1em; padding-right: 1em; text-align: center; vertical-align: top\">ALLAHABAD BANK people<br>were very cooperative. ...</td>\n",
       "        <td style=\"padding-left: 1em; padding-right: 1em; text-align: center; vertical-align: top\">Feb 24, 2015</td>\n",
       "        <td style=\"padding-left: 1em; padding-right: 1em; text-align: center; vertical-align: top\">0.838324006507</td>\n",
       "    </tr>\n",
       "    <tr>\n",
       "        <td style=\"padding-left: 1em; padding-right: 1em; text-align: center; vertical-align: top\">ALLAHABAD BANK</td>\n",
       "        <td style=\"padding-left: 1em; padding-right: 1em; text-align: center; vertical-align: top\">coimbatore</td>\n",
       "        <td style=\"padding-left: 1em; padding-right: 1em; text-align: center; vertical-align: top\">In 13 working days the<br>Allahabad bank has ...</td>\n",
       "        <td style=\"padding-left: 1em; padding-right: 1em; text-align: center; vertical-align: top\">Jan 04, 2015</td>\n",
       "        <td style=\"padding-left: 1em; padding-right: 1em; text-align: center; vertical-align: top\">0.366995847358</td>\n",
       "    </tr>\n",
       "    <tr>\n",
       "        <td style=\"padding-left: 1em; padding-right: 1em; text-align: center; vertical-align: top\">ALLAHABAD BANK</td>\n",
       "        <td style=\"padding-left: 1em; padding-right: 1em; text-align: center; vertical-align: top\">lucknow</td>\n",
       "        <td style=\"padding-left: 1em; padding-right: 1em; text-align: center; vertical-align: top\">I got the home loan with<br>allahabad bank and the ...</td>\n",
       "        <td style=\"padding-left: 1em; padding-right: 1em; text-align: center; vertical-align: top\">Dec 09, 2014</td>\n",
       "        <td style=\"padding-left: 1em; padding-right: 1em; text-align: center; vertical-align: top\">0.821753315717</td>\n",
       "    </tr>\n",
       "    <tr>\n",
       "        <td style=\"padding-left: 1em; padding-right: 1em; text-align: center; vertical-align: top\">ALLAHABAD BANK</td>\n",
       "        <td style=\"padding-left: 1em; padding-right: 1em; text-align: center; vertical-align: top\">ghaziabad</td>\n",
       "        <td style=\"padding-left: 1em; padding-right: 1em; text-align: center; vertical-align: top\">It is a government bank<br>and they are good in ...</td>\n",
       "        <td style=\"padding-left: 1em; padding-right: 1em; text-align: center; vertical-align: top\">Oct 20, 2014</td>\n",
       "        <td style=\"padding-left: 1em; padding-right: 1em; text-align: center; vertical-align: top\">0.708012535386</td>\n",
       "    </tr>\n",
       "    <tr>\n",
       "        <td style=\"padding-left: 1em; padding-right: 1em; text-align: center; vertical-align: top\">ALLAHABAD BANK</td>\n",
       "        <td style=\"padding-left: 1em; padding-right: 1em; text-align: center; vertical-align: top\">bangalore</td>\n",
       "        <td style=\"padding-left: 1em; padding-right: 1em; text-align: center; vertical-align: top\">The rate of interest<br>offered by Allahabad for ...</td>\n",
       "        <td style=\"padding-left: 1em; padding-right: 1em; text-align: center; vertical-align: top\">Oct 12, 2014</td>\n",
       "        <td style=\"padding-left: 1em; padding-right: 1em; text-align: center; vertical-align: top\">0.381082785872</td>\n",
       "    </tr>\n",
       "    <tr>\n",
       "        <td style=\"padding-left: 1em; padding-right: 1em; text-align: center; vertical-align: top\">ALLAHABAD BANK</td>\n",
       "        <td style=\"padding-left: 1em; padding-right: 1em; text-align: center; vertical-align: top\">kolkata</td>\n",
       "        <td style=\"padding-left: 1em; padding-right: 1em; text-align: center; vertical-align: top\">I am holding this<br>Allahabad housing loan ...</td>\n",
       "        <td style=\"padding-left: 1em; padding-right: 1em; text-align: center; vertical-align: top\">Oct 07, 2014</td>\n",
       "        <td style=\"padding-left: 1em; padding-right: 1em; text-align: center; vertical-align: top\">0.586101081684</td>\n",
       "    </tr>\n",
       "    <tr>\n",
       "        <td style=\"padding-left: 1em; padding-right: 1em; text-align: center; vertical-align: top\">ALLAHABAD BANK</td>\n",
       "        <td style=\"padding-left: 1em; padding-right: 1em; text-align: center; vertical-align: top\">bangalore</td>\n",
       "        <td style=\"padding-left: 1em; padding-right: 1em; text-align: center; vertical-align: top\">Allahabad bank has given<br>me a home at an interest ...</td>\n",
       "        <td style=\"padding-left: 1em; padding-right: 1em; text-align: center; vertical-align: top\">Sep 25, 2014</td>\n",
       "        <td style=\"padding-left: 1em; padding-right: 1em; text-align: center; vertical-align: top\">0.225229566187</td>\n",
       "    </tr>\n",
       "    <tr>\n",
       "        <td style=\"padding-left: 1em; padding-right: 1em; text-align: center; vertical-align: top\">ALLAHABAD BANK</td>\n",
       "        <td style=\"padding-left: 1em; padding-right: 1em; text-align: center; vertical-align: top\">bangalore</td>\n",
       "        <td style=\"padding-left: 1em; padding-right: 1em; text-align: center; vertical-align: top\">The services was good<br>when I applied for a  ...</td>\n",
       "        <td style=\"padding-left: 1em; padding-right: 1em; text-align: center; vertical-align: top\">Jan 19, 2014</td>\n",
       "        <td style=\"padding-left: 1em; padding-right: 1em; text-align: center; vertical-align: top\">0.88802652859</td>\n",
       "    </tr>\n",
       "</table>\n",
       "[7035 rows x 5 columns]<br/>Note: Only the head of the SFrame is printed.<br/>You can use print_rows(num_rows=m, num_columns=n) to print more rows and columns.\n",
       "</div>"
      ],
      "text/plain": [
       "Columns:\n",
       "\tbank\tstr\n",
       "\tcity\tstr\n",
       "\treview\tstr\n",
       "\tdate\tstr\n",
       "\tsentiment\tfloat\n",
       "\n",
       "Rows: 7035\n",
       "\n",
       "Data:\n",
       "+----------------+------------+-------------------------------+--------------+\n",
       "|      bank      |    city    |             review            |     date     |\n",
       "+----------------+------------+-------------------------------+--------------+\n",
       "| ALLAHABAD BANK | ghaziabad  | I have closed the housing ... | Jun 04, 2015 |\n",
       "| ALLAHABAD BANK |   ranchi   | I have a Home loan running... | Apr 07, 2015 |\n",
       "| ALLAHABAD BANK |  kolkata   | ALLAHABAD BANK people were... | Feb 24, 2015 |\n",
       "| ALLAHABAD BANK | coimbatore | In 13 working days the All... | Jan 04, 2015 |\n",
       "| ALLAHABAD BANK |  lucknow   | I got the home loan with a... | Dec 09, 2014 |\n",
       "| ALLAHABAD BANK | ghaziabad  | It is a government bank an... | Oct 20, 2014 |\n",
       "| ALLAHABAD BANK | bangalore  | The rate of interest offer... | Oct 12, 2014 |\n",
       "| ALLAHABAD BANK |  kolkata   | I am holding this Allahaba... | Oct 07, 2014 |\n",
       "| ALLAHABAD BANK | bangalore  | Allahabad bank has given m... | Sep 25, 2014 |\n",
       "| ALLAHABAD BANK | bangalore  | The services was good when... | Jan 19, 2014 |\n",
       "+----------------+------------+-------------------------------+--------------+\n",
       "+----------------+\n",
       "|   sentiment    |\n",
       "+----------------+\n",
       "| 0.303764227889 |\n",
       "| 0.916230442391 |\n",
       "| 0.838324006507 |\n",
       "| 0.366995847358 |\n",
       "| 0.821753315717 |\n",
       "| 0.708012535386 |\n",
       "| 0.381082785872 |\n",
       "| 0.586101081684 |\n",
       "| 0.225229566187 |\n",
       "| 0.88802652859  |\n",
       "+----------------+\n",
       "[7035 rows x 5 columns]\n",
       "Note: Only the head of the SFrame is printed.\n",
       "You can use print_rows(num_rows=m, num_columns=n) to print more rows and columns."
      ]
     },
     "execution_count": 8,
     "metadata": {},
     "output_type": "execute_result"
    }
   ],
   "source": [
    "df"
   ]
  },
  {
   "cell_type": "code",
   "execution_count": 9,
   "metadata": {
    "collapsed": false
   },
   "outputs": [
    {
     "data": {
      "image/png": "[encoded data removed]",
      "text/plain": [
       "<matplotlib.figure.Figure at 0x11ba4c090>"
      ]
     },
     "metadata": {},
     "output_type": "display_data"
    }
   ],
   "source": [
    "_ = plt.hist(df['sentiment'], bins=20) #use np.sqrt()\n",
    "_ = plt.xlabel('sentiment')\n",
    "_ = plt.ylabel('number of reviews')\n",
    "plt.show()"
   ]
  },
  {
   "cell_type": "markdown",
   "metadata": {},
   "source": [
    "### Top +ve and -ve reviews"
   ]
  },
  {
   "cell_type": "code",
   "execution_count": 10,
   "metadata": {
    "collapsed": false
   },
   "outputs": [
    {
     "data": {
      "text/plain": [
       "dtype: str\n",
       "Rows: 3\n",
       "['I had a wonderful experience with IndiaBulls while getting this Home loan.The process was very quick and the documents required was minimal as well.The customer service provided is really good and the loan was disbursed within 10 days of time and I have recommended this institue to many of my friends.I feel it was excellent job done by India Bulls and the interest rate offered was around 10.75% which is nominal rate.', 'The service is good from Canfin homes ltd and there paper works are very fast. They are more flexible in terms and conditions and we can also bargain for the best interest rate which will be provided based on our profile. I got my home loan within 3 days. Interest rate charged was .25% higher than other bank but it was affordable since one year back. Processing fee charged was nominal.Customer service is also flexible as they give SMS alert for the process. Those who want the loan faster loan with flexibility i will recommend them for Canfin homes ltd.', 'Bank of baroda provides excellent and quick services. when I approached this bank for my home loan the executives of the bank gave me the clear and detailed explainiation of procedure for availing the loan and helped me getting the documentation work within a span of time. Due to this I could easily grab the opportunity of buying a home quickly. After sale services of this bank is worth appreciating. We can rightly quote their services as deal hone ke baad rishta khatam nahi, shuru hota hai.']"
      ]
     },
     "execution_count": 10,
     "metadata": {},
     "output_type": "execute_result"
    }
   ],
   "source": [
    "df.topk('sentiment', k=3)['review']"
   ]
  },
  {
   "cell_type": "code",
   "execution_count": 11,
   "metadata": {
    "collapsed": false
   },
   "outputs": [
    {
     "data": {
      "text/plain": [
       "dtype: str\n",
       "Rows: 3\n",
       "['I had a home loan with a private bank and i wanted to transfer the loan to PNB. I lost my piece of mind from day 1 of the processing. The Sales person was so dumb that he promised to deliver the sanction letter next day without even checking my documents. I had to follow him every day and hear new stories daily and the process finally got over nearly after 45 days. The sales person was so responsive that he gave me the cheque after 3 days of receiving it and i had to pay around 3500 due to his sad attitude. Worst to follow, I had responded to an email asking them not to deposit the initial cheque as agreed with the customer service representative. They were very prompt in depositing the cheque despite the email and my credit ratings have still gone down. The worst thing is that I had to pay Rs.1200 for every day from oct 14 - jan 15 as penality to my previous bank due to the delay in service. PNB does help you in making you a full time beggar... I would not recommend this bank..', 'I took NRI loan from HDFC in London. Their staff are pretty rude and unresponsive. They are worst than SBI. They have hidden quite a number of things - e.g., whenever i gave a cheque in London office for prepayment, they send the cheque to India and only the date when they receive the cheque in India is considered as payment date. For one of my prepayment, they took almost 10 days against their SLA of 5 days. And the worst part is that they charged simple interest for that. One time, they calculated wrong EMI and sent to the bank for processing. It bounced because of lack of funds and several charges were levied. I am chasing bank for 3 months for their mistakes but I am not getting enough response. Worst experience. Overall, I feel that they hide a lot of facts and try to take as much money as possible from thecustomers.', \"Worst ever bank came across in my life. Worst customer service, worst behaviour of employees, worst customer support, worst procedures. I requested bank officials while signing the LDA to provide photocopy of all the documents and they had confirmed at that moment. But now they say that the documents got misplaced. They don't even respond properly to my phone calls. Very irresponsible and unprofessional people.\"]"
      ]
     },
     "execution_count": 11,
     "metadata": {},
     "output_type": "execute_result"
    }
   ],
   "source": [
    "df.topk('sentiment', k=3, reverse=True)['review']"
   ]
  },
  {
   "cell_type": "markdown",
   "metadata": {},
   "source": [
    "### Split to +ve and -ve reviews"
   ]
  },
  {
   "cell_type": "code",
   "execution_count": 10,
   "metadata": {
    "collapsed": true
   },
   "outputs": [],
   "source": [
    "pos = df[df['sentiment'] > 0.5] \n",
    "neg = df[df['sentiment'] < 0.5] "
   ]
  },
  {
   "cell_type": "code",
   "execution_count": 11,
   "metadata": {
    "collapsed": false
   },
   "outputs": [
    {
     "name": "stdout",
     "output_type": "stream",
     "text": [
      "3590\n",
      "3445\n"
     ]
    }
   ],
   "source": [
    "print len(pos)\n",
    "print len(neg)"
   ]
  },
  {
   "cell_type": "markdown",
   "metadata": {},
   "source": [
    "# Compute ngrams"
   ]
  },
  {
   "cell_type": "code",
   "execution_count": 12,
   "metadata": {
    "collapsed": true
   },
   "outputs": [],
   "source": [
    "# Function to add python dictionaries\n",
    "def sum_dict(d1, d2):\n",
    "    for key, value in d1.items():\n",
    "        d1[key] = value + d2.get(key, 0)    \n",
    "    return d1"
   ]
  },
  {
   "cell_type": "markdown",
   "metadata": {},
   "source": [
    "### ngrams from +ve reviews"
   ]
  },
  {
   "cell_type": "code",
   "execution_count": 13,
   "metadata": {
    "collapsed": false
   },
   "outputs": [],
   "source": [
    "pos['ngram1'] = gl.text_analytics.count_ngrams(pos['review'], 1, to_lower=True)\n",
    "pos['ngram2'] = gl.text_analytics.count_ngrams(pos['review'], 2, to_lower=True)\n",
    "pos['ngram3'] = gl.text_analytics.count_ngrams(pos['review'], 3, to_lower=True)\n",
    "\n",
    "pos_ngram1 = reduce(sum_dict, pos['ngram1'])\n",
    "pos_ngram2 = reduce(sum_dict, pos['ngram2'])\n",
    "pos_ngram3 = reduce(sum_dict, pos['ngram3'])"
   ]
  },
  {
   "cell_type": "code",
   "execution_count": 14,
   "metadata": {
    "collapsed": false
   },
   "outputs": [
    {
     "name": "stdout",
     "output_type": "stream",
     "text": [
      "\n",
      "1 Gram: \n",
      "[('the', 14372), ('loan', 6607), ('i', 6533), ('was', 6066), ('and', 4647), ('with', 3918), ('of', 3761), ('home', 3591), ('bank', 3267), ('rate', 2951), ('a', 2924), ('interest', 2695), ('process', 2108), ('have', 2010), ('very', 1979), ('as', 1403), ('processing', 1287), ('offered', 891), ('which', 751), ('took', 586), ('documentation', 476), ('about', 472), ('quite', 420), ('fee', 407), ('only', 338), ('an', 309), ('easy', 268), ('25', 176), ('branch', 168), ('nice', 124), ('helpful', 118), ('11', 100), ('friendly', 93), ('manager', 61), ('minimal', 56), ('12', 53), ('off', 48), ('recently', 42), ('waived', 36), ('hours', 21), ('running', 15), ('allahabad', 13), ('gesture', 2)]\n",
      "\n",
      "2 Gram: \n",
      "[('home loan', 3457), ('interest rate', 1517), ('i have', 1147), ('rate of', 1062), ('and the', 811), ('was very', 609), ('the process', 570), ('the processing', 556), ('a home', 448), ('i was', 393), ('was a', 387), ('processing fee', 374), ('was quite', 222), ('the documentation', 198), ('as the', 165), ('which was', 160), ('i took', 148), ('which i', 146), ('documentation was', 118), ('fee was', 105), ('the branch', 95), ('have a', 77), ('processing was', 63), ('process took', 45), ('very helpful', 41), ('waived off', 35), ('was offered', 33), ('took only', 25), ('an interest', 25), ('helpful and', 20), ('25 and', 20), ('very minimal', 14), ('quite easy', 14), ('bank which', 14), ('a nice', 12), ('was waived', 11), ('allahabad bank', 11), ('manager was', 10), ('offered an', 9), ('of 11', 9), ('easy as', 7), ('branch manager', 7), ('11 25', 7), ('minimal and', 5), ('friendly i', 3), ('and friendly', 3), ('with allahabad', 2), ('running with', 2), ('recently the', 2), ('only about', 2), ('nice gesture', 2), ('loan running', 2), ('took recently', 1), ('off which', 1), ('gesture the', 1), ('about 12', 1), ('12 hours', 1)]\n",
      "\n",
      "3 Gram: \n",
      "[('a home loan', 439), ('the processing fee', 144), ('processing fee was', 101), ('and the processing', 83), ('interest rate of', 57), ('the documentation was', 55), ('documentation was very', 44), ('the processing was', 37), ('i have a', 34), ('an interest rate', 24), ('i was offered', 18), ('was very helpful', 17), ('have a home', 13), ('which was a', 11), ('was waived off', 11), ('was quite easy', 11), ('was a nice', 11), ('very helpful and', 8), ('the process took', 8), ('offered an interest', 7), ('fee was waived', 7), ('25 and the', 7), ('was offered an', 6), ('the branch manager', 6), ('bank which i', 6), ('as the branch', 5), ('was very minimal', 4), ('rate of 11', 4), ('processing was quite', 4), ('manager was very', 4), ('process took only', 3), ('minimal and the', 3), ('easy as the', 3), ('with allahabad bank', 2), ('which i took', 2), ('very minimal and', 2), ('of 11 25', 2), ('branch manager was', 2), ('a nice gesture', 2), ('11 25 and', 2), ('waived off which', 1), ('took recently the', 1), ('took only about', 1), ('running with allahabad', 1), ('recently the documentation', 1), ('quite easy as', 1), ('only about 12', 1), ('off which was', 1), ('nice gesture the', 1), ('loan running with', 1), ('i took recently', 1), ('home loan running', 1), ('helpful and friendly', 1), ('gesture the process', 1), ('friendly i was', 1), ('and friendly i', 1), ('allahabad bank which', 1), ('about 12 hours', 1)]\n"
     ]
    }
   ],
   "source": [
    "print \"\\n1 Gram: \\n\", sorted(pos_ngram1.items(), key=lambda x: (x[1],x[0]), reverse=True)\n",
    "print \"\\n2 Gram: \\n\", sorted(pos_ngram2.items(), key=lambda x: (x[1],x[0]), reverse=True)\n",
    "print \"\\n3 Gram: \\n\", sorted(pos_ngram3.items(), key=lambda x: (x[1],x[0]), reverse=True)"
   ]
  },
  {
   "cell_type": "markdown",
   "metadata": {},
   "source": [
    "### ngrams from -ve reviews"
   ]
  },
  {
   "cell_type": "code",
   "execution_count": 15,
   "metadata": {
    "collapsed": true
   },
   "outputs": [],
   "source": [
    "neg['ngram1'] = gl.text_analytics.count_ngrams(neg['review'], 1, to_lower=True)\n",
    "neg['ngram2'] = gl.text_analytics.count_ngrams(neg['review'], 2, to_lower=True)\n",
    "neg['ngram3'] = gl.text_analytics.count_ngrams(neg['review'], 3, to_lower=True)\n",
    "\n",
    "neg_ngram1 = reduce(sum_dict, neg['ngram1'])\n",
    "neg_ngram2 = reduce(sum_dict, neg['ngram2'])\n",
    "neg_ngram3 = reduce(sum_dict, neg['ngram3'])"
   ]
  },
  {
   "cell_type": "code",
   "execution_count": 17,
   "metadata": {
    "collapsed": false
   },
   "outputs": [
    {
     "name": "stdout",
     "output_type": "stream",
     "text": [
      "\n",
      "1 Gram: \n",
      "[('the', 14618), ('i', 7234), ('loan', 6435), ('was', 5760), ('to', 4648), ('and', 4318), ('for', 3641), ('of', 3531), ('with', 3385), ('bank', 3139), ('rate', 2806), ('interest', 2624), ('a', 2613), ('have', 2124), ('it', 1819), ('that', 1675), ('them', 1673), ('processing', 1552), ('housing', 1188), ('on', 1139), ('time', 1038), ('by', 966), ('be', 903), ('charges', 890), ('got', 888), ('so', 762), ('were', 660), ('amount', 642), ('days', 522), ('will', 443), ('one', 418), ('customers', 363), ('within', 331), ('services', 331), ('disbursed', 252), ('really', 237), ('floating', 208), ('closed', 199), ('online', 180), ('based', 148), ('nominal', 138), ('payment', 127), ('improve', 117), ('way', 67), ('want', 59), ('money', 55), ('single', 37), ('helpful', 31), ('allahabad', 5), ('thirty', 4)]\n",
      "\n",
      "2 Gram: \n",
      "[('the loan', 1527), ('interest rate', 1464), ('i have', 1155), ('loan with', 799), ('the interest', 667), ('housing loan', 647), ('and the', 643), ('loan amount', 372), ('the housing', 271), ('processing charges', 268), ('bank and', 177), ('of time', 175), ('rate was', 168), ('by the', 148), ('them to', 146), ('will be', 144), ('it will', 77), ('days of', 77), ('charges were', 77), ('got disbursed', 69), ('to improve', 67), ('closed the', 59), ('that it', 57), ('time the', 56), ('so that', 53), ('amount got', 36), ('disbursed within', 32), ('a single', 29), ('on a', 28), ('improve the', 27), ('one and', 25), ('i want', 23), ('were nominal', 21), ('was floating', 21), ('the way', 21), ('the money', 18), ('the online', 13), ('have closed', 13), ('payment i', 7), ('for customers', 7), ('nominal one', 6), ('disbursed on', 6), ('be really', 6), ('really helpful', 4), ('online services', 4), ('helpful for', 4), ('floating based', 4), ('allahabad bank', 4), ('within thirty', 3), ('way so', 3), ('want them', 2), ('thirty days', 2), ('based processing', 2), ('with allahabad', 1), ('single payment', 1), ('services by', 1), ('money got', 1)]\n",
      "\n",
      "3 Gram: \n",
      "[('the interest rate', 614), ('the housing loan', 268), ('the loan amount', 209), ('interest rate was', 152), ('housing loan with', 141), ('it will be', 66), ('and the interest', 61), ('days of time', 59), ('bank and the', 40), ('loan amount got', 36), ('processing charges were', 33), ('amount got disbursed', 30), ('and the loan', 20), ('to improve the', 17), ('got disbursed within', 16), ('that it will', 13), ('charges were nominal', 12), ('of time the', 11), ('so that it', 9), ('i have closed', 9), ('them to improve', 6), ('one and the', 6), ('rate was floating', 5), ('have closed the', 5), ('will be really', 4), ('on a single', 3), ('closed the housing', 3), ('within thirty days', 2), ('were nominal one', 2), ('way so that', 2), ('was floating based', 2), ('want them to', 2), ('thirty days of', 2), ('nominal one and', 2), ('i want them', 2), ('got disbursed on', 2), ('floating based processing', 2), ('disbursed within thirty', 2), ('be really helpful', 2), ('based processing charges', 2), ('with allahabad bank', 1), ('time the money', 1), ('the way so', 1), ('the online services', 1), ('the money got', 1), ('single payment i', 1), ('services by the', 1), ('really helpful for', 1), ('payment i want', 1), ('online services by', 1), ('money got disbursed', 1), ('loan with allahabad', 1), ('improve the online', 1), ('helpful for customers', 1), ('disbursed on a', 1), ('by the way', 1), ('allahabad bank and', 1), ('a single payment', 1)]\n"
     ]
    }
   ],
   "source": [
    "print \"\\n1 Gram: \\n\", sorted(neg_ngram1.items(), key=lambda x: (x[1],x[0]), reverse=True)\n",
    "print \"\\n2 Gram: \\n\", sorted(neg_ngram2.items(), key=lambda x: (x[1],x[0]), reverse=True)\n",
    "print \"\\n3 Gram: \\n\", sorted(neg_ngram3.items(), key=lambda x: (x[1],x[0]), reverse=True)"
   ]
  }
 ],
 "metadata": {
  "anaconda-cloud": {},
  "kernelspec": {
   "display_name": "Python [conda env:py27]",
   "language": "python",
   "name": "conda-env-py27-py"
  },
  "language_info": {
   "codemirror_mode": {
    "name": "ipython",
    "version": 2
   },
   "file_extension": ".py",
   "mimetype": "text/x-python",
   "name": "python",
   "nbconvert_exporter": "python",
   "pygments_lexer": "ipython2",
   "version": "2.7.12"
  }
 },
 "nbformat": 4,
 "nbformat_minor": 1
}
